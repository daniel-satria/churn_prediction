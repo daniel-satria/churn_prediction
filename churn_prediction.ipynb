{
 "cells": [
  {
   "cell_type": "markdown",
   "metadata": {},
   "source": [
    "# 1. INTRODUCTION\n",
    "\n",
    "**1.1 Identity**\n",
    "- Name : Daniel Satria\n",
    "\n",
    "\n",
    "**1.2 Dataset Explanation**\n",
    "- The dataset is about the Telco customer churn.\n",
    "\n",
    "\n",
    "**1.3 Objective**\n",
    "- Getting insight from the dataset.\n",
    "- Creating deep learning model and test it to our dataset.\n",
    "- Creating model evaluation and model improvement.\n",
    "- Predicting the class from the data inference.\n",
    "- Drawing conclusion from overall milestone project.\n",
    "\n",
    "**1.4 Notebook Disclaimer**\n",
    "- I will do the title/explanation first, then later write the code.\n",
    "- The title means to explain what I do or try to do with the code or to explain the output of the code itself."
   ]
  },
  {
   "cell_type": "markdown",
   "metadata": {},
   "source": [
    "___"
   ]
  },
  {
   "cell_type": "markdown",
   "metadata": {},
   "source": [
    "# 2. IMPORT LIBRARY"
   ]
  },
  {
   "cell_type": "markdown",
   "metadata": {},
   "source": [
    "2.1 Here import some library that will be used in this notebook."
   ]
  },
  {
   "cell_type": "code",
   "execution_count": 1,
   "metadata": {},
   "outputs": [
    {
     "name": "stderr",
     "output_type": "stream",
     "text": [
      "/opt/anaconda3/envs/test_env/lib/python3.10/site-packages/scipy/__init__.py:146: UserWarning: A NumPy version >=1.16.5 and <1.23.0 is required for this version of SciPy (detected version 1.23.1\n",
      "  warnings.warn(f\"A NumPy version >={np_minversion} and <{np_maxversion}\"\n",
      "2022-10-07 16:27:52.789076: I tensorflow/core/platform/cpu_feature_guard.cc:193] This TensorFlow binary is optimized with oneAPI Deep Neural Network Library (oneDNN) to use the following CPU instructions in performance-critical operations:  SSE4.1 SSE4.2 AVX AVX2 FMA\n",
      "To enable them in other operations, rebuild TensorFlow with the appropriate compiler flags.\n"
     ]
    }
   ],
   "source": [
    "import pandas as pd\n",
    "import seaborn as sns\n",
    "import matplotlib.pyplot as plt\n",
    "import numpy as np\n",
    "import tensorflow as tf\n",
    "\n",
    "\n",
    "from sklearn.model_selection import train_test_split\n",
    "from sklearn.preprocessing import OneHotEncoder, MinMaxScaler, LabelEncoder, OrdinalEncoder\n",
    "from sklearn.pipeline import Pipeline\n",
    "from sklearn.compose import ColumnTransformer\n",
    "from sklearn.metrics import roc_curve,roc_auc_score,precision_score, recall_score, confusion_matrix, classification_report, accuracy_score, f1_score\n",
    "\n",
    "from tensorflow import keras\n",
    "from tensorflow.keras import Sequential\n",
    "from tensorflow.keras.layers import Dense, BatchNormalization, Input\n",
    "from tensorflow.keras.models import Model\n",
    "from tensorflow.keras.optimizers import SGD\n",
    "from tensorflow.keras.callbacks import ModelCheckpoint\n",
    "from tensorflow.keras.models import load_model\n",
    "\n",
    "import warnings\n",
    "warnings.filterwarnings(\"ignore\")"
   ]
  },
  {
   "cell_type": "markdown",
   "metadata": {},
   "source": [
    "___"
   ]
  },
  {
   "cell_type": "markdown",
   "metadata": {},
   "source": [
    "# 3. DATA LOADING"
   ]
  },
  {
   "cell_type": "markdown",
   "metadata": {},
   "source": [
    "3.1 Loading dataset\n",
    "- Here I load the dataset that will be used for this phase 2 milestone 1.\n",
    "- I also show the head and the tail of the dataset as shown below.\n"
   ]
  },
  {
   "cell_type": "code",
   "execution_count": 4,
   "metadata": {},
   "outputs": [
    {
     "data": {
      "text/html": [
       "<div>\n",
       "<style scoped>\n",
       "    .dataframe tbody tr th:only-of-type {\n",
       "        vertical-align: middle;\n",
       "    }\n",
       "\n",
       "    .dataframe tbody tr th {\n",
       "        vertical-align: top;\n",
       "    }\n",
       "\n",
       "    .dataframe thead th {\n",
       "        text-align: right;\n",
       "    }\n",
       "</style>\n",
       "<table border=\"1\" class=\"dataframe\">\n",
       "  <thead>\n",
       "    <tr style=\"text-align: right;\">\n",
       "      <th></th>\n",
       "      <th>0</th>\n",
       "      <th>1</th>\n",
       "      <th>2</th>\n",
       "      <th>3</th>\n",
       "      <th>4</th>\n",
       "    </tr>\n",
       "  </thead>\n",
       "  <tbody>\n",
       "    <tr>\n",
       "      <th>customerID</th>\n",
       "      <td>7590-VHVEG</td>\n",
       "      <td>5575-GNVDE</td>\n",
       "      <td>3668-QPYBK</td>\n",
       "      <td>7795-CFOCW</td>\n",
       "      <td>9237-HQITU</td>\n",
       "    </tr>\n",
       "    <tr>\n",
       "      <th>gender</th>\n",
       "      <td>Female</td>\n",
       "      <td>Male</td>\n",
       "      <td>Male</td>\n",
       "      <td>Male</td>\n",
       "      <td>Female</td>\n",
       "    </tr>\n",
       "    <tr>\n",
       "      <th>SeniorCitizen</th>\n",
       "      <td>0</td>\n",
       "      <td>0</td>\n",
       "      <td>0</td>\n",
       "      <td>0</td>\n",
       "      <td>0</td>\n",
       "    </tr>\n",
       "    <tr>\n",
       "      <th>Partner</th>\n",
       "      <td>Yes</td>\n",
       "      <td>No</td>\n",
       "      <td>No</td>\n",
       "      <td>No</td>\n",
       "      <td>No</td>\n",
       "    </tr>\n",
       "    <tr>\n",
       "      <th>Dependents</th>\n",
       "      <td>No</td>\n",
       "      <td>No</td>\n",
       "      <td>No</td>\n",
       "      <td>No</td>\n",
       "      <td>No</td>\n",
       "    </tr>\n",
       "    <tr>\n",
       "      <th>tenure</th>\n",
       "      <td>1</td>\n",
       "      <td>34</td>\n",
       "      <td>2</td>\n",
       "      <td>45</td>\n",
       "      <td>2</td>\n",
       "    </tr>\n",
       "    <tr>\n",
       "      <th>PhoneService</th>\n",
       "      <td>No</td>\n",
       "      <td>Yes</td>\n",
       "      <td>Yes</td>\n",
       "      <td>No</td>\n",
       "      <td>Yes</td>\n",
       "    </tr>\n",
       "    <tr>\n",
       "      <th>MultipleLines</th>\n",
       "      <td>No phone service</td>\n",
       "      <td>No</td>\n",
       "      <td>No</td>\n",
       "      <td>No phone service</td>\n",
       "      <td>No</td>\n",
       "    </tr>\n",
       "    <tr>\n",
       "      <th>InternetService</th>\n",
       "      <td>DSL</td>\n",
       "      <td>DSL</td>\n",
       "      <td>DSL</td>\n",
       "      <td>DSL</td>\n",
       "      <td>Fiber optic</td>\n",
       "    </tr>\n",
       "    <tr>\n",
       "      <th>OnlineSecurity</th>\n",
       "      <td>No</td>\n",
       "      <td>Yes</td>\n",
       "      <td>Yes</td>\n",
       "      <td>Yes</td>\n",
       "      <td>No</td>\n",
       "    </tr>\n",
       "    <tr>\n",
       "      <th>OnlineBackup</th>\n",
       "      <td>Yes</td>\n",
       "      <td>No</td>\n",
       "      <td>Yes</td>\n",
       "      <td>No</td>\n",
       "      <td>No</td>\n",
       "    </tr>\n",
       "    <tr>\n",
       "      <th>DeviceProtection</th>\n",
       "      <td>No</td>\n",
       "      <td>Yes</td>\n",
       "      <td>No</td>\n",
       "      <td>Yes</td>\n",
       "      <td>No</td>\n",
       "    </tr>\n",
       "    <tr>\n",
       "      <th>TechSupport</th>\n",
       "      <td>No</td>\n",
       "      <td>No</td>\n",
       "      <td>No</td>\n",
       "      <td>Yes</td>\n",
       "      <td>No</td>\n",
       "    </tr>\n",
       "    <tr>\n",
       "      <th>StreamingTV</th>\n",
       "      <td>No</td>\n",
       "      <td>No</td>\n",
       "      <td>No</td>\n",
       "      <td>No</td>\n",
       "      <td>No</td>\n",
       "    </tr>\n",
       "    <tr>\n",
       "      <th>StreamingMovies</th>\n",
       "      <td>No</td>\n",
       "      <td>No</td>\n",
       "      <td>No</td>\n",
       "      <td>No</td>\n",
       "      <td>No</td>\n",
       "    </tr>\n",
       "    <tr>\n",
       "      <th>Contract</th>\n",
       "      <td>Month-to-month</td>\n",
       "      <td>One year</td>\n",
       "      <td>Month-to-month</td>\n",
       "      <td>One year</td>\n",
       "      <td>Month-to-month</td>\n",
       "    </tr>\n",
       "    <tr>\n",
       "      <th>PaperlessBilling</th>\n",
       "      <td>Yes</td>\n",
       "      <td>No</td>\n",
       "      <td>Yes</td>\n",
       "      <td>No</td>\n",
       "      <td>Yes</td>\n",
       "    </tr>\n",
       "    <tr>\n",
       "      <th>PaymentMethod</th>\n",
       "      <td>Electronic check</td>\n",
       "      <td>Mailed check</td>\n",
       "      <td>Mailed check</td>\n",
       "      <td>Bank transfer (automatic)</td>\n",
       "      <td>Electronic check</td>\n",
       "    </tr>\n",
       "    <tr>\n",
       "      <th>MonthlyCharges</th>\n",
       "      <td>29.85</td>\n",
       "      <td>56.95</td>\n",
       "      <td>53.85</td>\n",
       "      <td>42.3</td>\n",
       "      <td>70.7</td>\n",
       "    </tr>\n",
       "    <tr>\n",
       "      <th>TotalCharges</th>\n",
       "      <td>29.85</td>\n",
       "      <td>1889.5</td>\n",
       "      <td>108.15</td>\n",
       "      <td>1840.75</td>\n",
       "      <td>151.65</td>\n",
       "    </tr>\n",
       "    <tr>\n",
       "      <th>Churn</th>\n",
       "      <td>No</td>\n",
       "      <td>No</td>\n",
       "      <td>Yes</td>\n",
       "      <td>No</td>\n",
       "      <td>Yes</td>\n",
       "    </tr>\n",
       "  </tbody>\n",
       "</table>\n",
       "</div>"
      ],
      "text/plain": [
       "                                 0             1               2  \\\n",
       "customerID              7590-VHVEG    5575-GNVDE      3668-QPYBK   \n",
       "gender                      Female          Male            Male   \n",
       "SeniorCitizen                    0             0               0   \n",
       "Partner                        Yes            No              No   \n",
       "Dependents                      No            No              No   \n",
       "tenure                           1            34               2   \n",
       "PhoneService                    No           Yes             Yes   \n",
       "MultipleLines     No phone service            No              No   \n",
       "InternetService                DSL           DSL             DSL   \n",
       "OnlineSecurity                  No           Yes             Yes   \n",
       "OnlineBackup                   Yes            No             Yes   \n",
       "DeviceProtection                No           Yes              No   \n",
       "TechSupport                     No            No              No   \n",
       "StreamingTV                     No            No              No   \n",
       "StreamingMovies                 No            No              No   \n",
       "Contract            Month-to-month      One year  Month-to-month   \n",
       "PaperlessBilling               Yes            No             Yes   \n",
       "PaymentMethod     Electronic check  Mailed check    Mailed check   \n",
       "MonthlyCharges               29.85         56.95           53.85   \n",
       "TotalCharges                 29.85        1889.5          108.15   \n",
       "Churn                           No            No             Yes   \n",
       "\n",
       "                                          3                 4  \n",
       "customerID                       7795-CFOCW        9237-HQITU  \n",
       "gender                                 Male            Female  \n",
       "SeniorCitizen                             0                 0  \n",
       "Partner                                  No                No  \n",
       "Dependents                               No                No  \n",
       "tenure                                   45                 2  \n",
       "PhoneService                             No               Yes  \n",
       "MultipleLines              No phone service                No  \n",
       "InternetService                         DSL       Fiber optic  \n",
       "OnlineSecurity                          Yes                No  \n",
       "OnlineBackup                             No                No  \n",
       "DeviceProtection                        Yes                No  \n",
       "TechSupport                             Yes                No  \n",
       "StreamingTV                              No                No  \n",
       "StreamingMovies                          No                No  \n",
       "Contract                           One year    Month-to-month  \n",
       "PaperlessBilling                         No               Yes  \n",
       "PaymentMethod     Bank transfer (automatic)  Electronic check  \n",
       "MonthlyCharges                         42.3              70.7  \n",
       "TotalCharges                        1840.75            151.65  \n",
       "Churn                                    No               Yes  "
      ]
     },
     "execution_count": 4,
     "metadata": {},
     "output_type": "execute_result"
    }
   ],
   "source": [
    "df = pd.read_csv('telco_data.csv')\n",
    "df.head().T"
   ]
  },
  {
   "cell_type": "code",
   "execution_count": 5,
   "metadata": {},
   "outputs": [
    {
     "data": {
      "text/html": [
       "<div>\n",
       "<style scoped>\n",
       "    .dataframe tbody tr th:only-of-type {\n",
       "        vertical-align: middle;\n",
       "    }\n",
       "\n",
       "    .dataframe tbody tr th {\n",
       "        vertical-align: top;\n",
       "    }\n",
       "\n",
       "    .dataframe thead th {\n",
       "        text-align: right;\n",
       "    }\n",
       "</style>\n",
       "<table border=\"1\" class=\"dataframe\">\n",
       "  <thead>\n",
       "    <tr style=\"text-align: right;\">\n",
       "      <th></th>\n",
       "      <th>7038</th>\n",
       "      <th>7039</th>\n",
       "      <th>7040</th>\n",
       "      <th>7041</th>\n",
       "      <th>7042</th>\n",
       "    </tr>\n",
       "  </thead>\n",
       "  <tbody>\n",
       "    <tr>\n",
       "      <th>customerID</th>\n",
       "      <td>6840-RESVB</td>\n",
       "      <td>2234-XADUH</td>\n",
       "      <td>4801-JZAZL</td>\n",
       "      <td>8361-LTMKD</td>\n",
       "      <td>3186-AJIEK</td>\n",
       "    </tr>\n",
       "    <tr>\n",
       "      <th>gender</th>\n",
       "      <td>Male</td>\n",
       "      <td>Female</td>\n",
       "      <td>Female</td>\n",
       "      <td>Male</td>\n",
       "      <td>Male</td>\n",
       "    </tr>\n",
       "    <tr>\n",
       "      <th>SeniorCitizen</th>\n",
       "      <td>0</td>\n",
       "      <td>0</td>\n",
       "      <td>0</td>\n",
       "      <td>1</td>\n",
       "      <td>0</td>\n",
       "    </tr>\n",
       "    <tr>\n",
       "      <th>Partner</th>\n",
       "      <td>Yes</td>\n",
       "      <td>Yes</td>\n",
       "      <td>Yes</td>\n",
       "      <td>Yes</td>\n",
       "      <td>No</td>\n",
       "    </tr>\n",
       "    <tr>\n",
       "      <th>Dependents</th>\n",
       "      <td>Yes</td>\n",
       "      <td>Yes</td>\n",
       "      <td>Yes</td>\n",
       "      <td>No</td>\n",
       "      <td>No</td>\n",
       "    </tr>\n",
       "    <tr>\n",
       "      <th>tenure</th>\n",
       "      <td>24</td>\n",
       "      <td>72</td>\n",
       "      <td>11</td>\n",
       "      <td>4</td>\n",
       "      <td>66</td>\n",
       "    </tr>\n",
       "    <tr>\n",
       "      <th>PhoneService</th>\n",
       "      <td>Yes</td>\n",
       "      <td>Yes</td>\n",
       "      <td>No</td>\n",
       "      <td>Yes</td>\n",
       "      <td>Yes</td>\n",
       "    </tr>\n",
       "    <tr>\n",
       "      <th>MultipleLines</th>\n",
       "      <td>Yes</td>\n",
       "      <td>Yes</td>\n",
       "      <td>No phone service</td>\n",
       "      <td>Yes</td>\n",
       "      <td>No</td>\n",
       "    </tr>\n",
       "    <tr>\n",
       "      <th>InternetService</th>\n",
       "      <td>DSL</td>\n",
       "      <td>Fiber optic</td>\n",
       "      <td>DSL</td>\n",
       "      <td>Fiber optic</td>\n",
       "      <td>Fiber optic</td>\n",
       "    </tr>\n",
       "    <tr>\n",
       "      <th>OnlineSecurity</th>\n",
       "      <td>Yes</td>\n",
       "      <td>No</td>\n",
       "      <td>Yes</td>\n",
       "      <td>No</td>\n",
       "      <td>Yes</td>\n",
       "    </tr>\n",
       "    <tr>\n",
       "      <th>OnlineBackup</th>\n",
       "      <td>No</td>\n",
       "      <td>Yes</td>\n",
       "      <td>No</td>\n",
       "      <td>No</td>\n",
       "      <td>No</td>\n",
       "    </tr>\n",
       "    <tr>\n",
       "      <th>DeviceProtection</th>\n",
       "      <td>Yes</td>\n",
       "      <td>Yes</td>\n",
       "      <td>No</td>\n",
       "      <td>No</td>\n",
       "      <td>Yes</td>\n",
       "    </tr>\n",
       "    <tr>\n",
       "      <th>TechSupport</th>\n",
       "      <td>Yes</td>\n",
       "      <td>No</td>\n",
       "      <td>No</td>\n",
       "      <td>No</td>\n",
       "      <td>Yes</td>\n",
       "    </tr>\n",
       "    <tr>\n",
       "      <th>StreamingTV</th>\n",
       "      <td>Yes</td>\n",
       "      <td>Yes</td>\n",
       "      <td>No</td>\n",
       "      <td>No</td>\n",
       "      <td>Yes</td>\n",
       "    </tr>\n",
       "    <tr>\n",
       "      <th>StreamingMovies</th>\n",
       "      <td>Yes</td>\n",
       "      <td>Yes</td>\n",
       "      <td>No</td>\n",
       "      <td>No</td>\n",
       "      <td>Yes</td>\n",
       "    </tr>\n",
       "    <tr>\n",
       "      <th>Contract</th>\n",
       "      <td>One year</td>\n",
       "      <td>One year</td>\n",
       "      <td>Month-to-month</td>\n",
       "      <td>Month-to-month</td>\n",
       "      <td>Two year</td>\n",
       "    </tr>\n",
       "    <tr>\n",
       "      <th>PaperlessBilling</th>\n",
       "      <td>Yes</td>\n",
       "      <td>Yes</td>\n",
       "      <td>Yes</td>\n",
       "      <td>Yes</td>\n",
       "      <td>Yes</td>\n",
       "    </tr>\n",
       "    <tr>\n",
       "      <th>PaymentMethod</th>\n",
       "      <td>Mailed check</td>\n",
       "      <td>Credit card (automatic)</td>\n",
       "      <td>Electronic check</td>\n",
       "      <td>Mailed check</td>\n",
       "      <td>Bank transfer (automatic)</td>\n",
       "    </tr>\n",
       "    <tr>\n",
       "      <th>MonthlyCharges</th>\n",
       "      <td>84.8</td>\n",
       "      <td>103.2</td>\n",
       "      <td>29.6</td>\n",
       "      <td>74.4</td>\n",
       "      <td>105.65</td>\n",
       "    </tr>\n",
       "    <tr>\n",
       "      <th>TotalCharges</th>\n",
       "      <td>1990.5</td>\n",
       "      <td>7362.9</td>\n",
       "      <td>346.45</td>\n",
       "      <td>306.6</td>\n",
       "      <td>6844.5</td>\n",
       "    </tr>\n",
       "    <tr>\n",
       "      <th>Churn</th>\n",
       "      <td>No</td>\n",
       "      <td>No</td>\n",
       "      <td>No</td>\n",
       "      <td>Yes</td>\n",
       "      <td>No</td>\n",
       "    </tr>\n",
       "  </tbody>\n",
       "</table>\n",
       "</div>"
      ],
      "text/plain": [
       "                          7038                     7039              7040  \\\n",
       "customerID          6840-RESVB               2234-XADUH        4801-JZAZL   \n",
       "gender                    Male                   Female            Female   \n",
       "SeniorCitizen                0                        0                 0   \n",
       "Partner                    Yes                      Yes               Yes   \n",
       "Dependents                 Yes                      Yes               Yes   \n",
       "tenure                      24                       72                11   \n",
       "PhoneService               Yes                      Yes                No   \n",
       "MultipleLines              Yes                      Yes  No phone service   \n",
       "InternetService            DSL              Fiber optic               DSL   \n",
       "OnlineSecurity             Yes                       No               Yes   \n",
       "OnlineBackup                No                      Yes                No   \n",
       "DeviceProtection           Yes                      Yes                No   \n",
       "TechSupport                Yes                       No                No   \n",
       "StreamingTV                Yes                      Yes                No   \n",
       "StreamingMovies            Yes                      Yes                No   \n",
       "Contract              One year                 One year    Month-to-month   \n",
       "PaperlessBilling           Yes                      Yes               Yes   \n",
       "PaymentMethod     Mailed check  Credit card (automatic)  Electronic check   \n",
       "MonthlyCharges            84.8                    103.2              29.6   \n",
       "TotalCharges            1990.5                   7362.9            346.45   \n",
       "Churn                       No                       No                No   \n",
       "\n",
       "                            7041                       7042  \n",
       "customerID            8361-LTMKD                 3186-AJIEK  \n",
       "gender                      Male                       Male  \n",
       "SeniorCitizen                  1                          0  \n",
       "Partner                      Yes                         No  \n",
       "Dependents                    No                         No  \n",
       "tenure                         4                         66  \n",
       "PhoneService                 Yes                        Yes  \n",
       "MultipleLines                Yes                         No  \n",
       "InternetService      Fiber optic                Fiber optic  \n",
       "OnlineSecurity                No                        Yes  \n",
       "OnlineBackup                  No                         No  \n",
       "DeviceProtection              No                        Yes  \n",
       "TechSupport                   No                        Yes  \n",
       "StreamingTV                   No                        Yes  \n",
       "StreamingMovies               No                        Yes  \n",
       "Contract          Month-to-month                   Two year  \n",
       "PaperlessBilling             Yes                        Yes  \n",
       "PaymentMethod       Mailed check  Bank transfer (automatic)  \n",
       "MonthlyCharges              74.4                     105.65  \n",
       "TotalCharges               306.6                     6844.5  \n",
       "Churn                        Yes                         No  "
      ]
     },
     "execution_count": 5,
     "metadata": {},
     "output_type": "execute_result"
    }
   ],
   "source": [
    "df.tail().T"
   ]
  },
  {
   "cell_type": "markdown",
   "metadata": {},
   "source": [
    "___\n"
   ]
  },
  {
   "cell_type": "markdown",
   "metadata": {},
   "source": [
    "# 4. Exploratory Data Analysis / EDA"
   ]
  },
  {
   "cell_type": "markdown",
   "metadata": {},
   "source": [
    "4.1 Dataset shape\n",
    "- There are 7043 rows and 21 columns in our dataset.\n",
    "- TotalCharges is a numeric column but the type is object."
   ]
  },
  {
   "cell_type": "code",
   "execution_count": 6,
   "metadata": {},
   "outputs": [
    {
     "name": "stdout",
     "output_type": "stream",
     "text": [
      "<class 'pandas.core.frame.DataFrame'>\n",
      "RangeIndex: 7043 entries, 0 to 7042\n",
      "Data columns (total 21 columns):\n",
      " #   Column            Non-Null Count  Dtype  \n",
      "---  ------            --------------  -----  \n",
      " 0   customerID        7043 non-null   object \n",
      " 1   gender            7043 non-null   object \n",
      " 2   SeniorCitizen     7043 non-null   int64  \n",
      " 3   Partner           7043 non-null   object \n",
      " 4   Dependents        7043 non-null   object \n",
      " 5   tenure            7043 non-null   int64  \n",
      " 6   PhoneService      7043 non-null   object \n",
      " 7   MultipleLines     7043 non-null   object \n",
      " 8   InternetService   7043 non-null   object \n",
      " 9   OnlineSecurity    7043 non-null   object \n",
      " 10  OnlineBackup      7043 non-null   object \n",
      " 11  DeviceProtection  7043 non-null   object \n",
      " 12  TechSupport       7043 non-null   object \n",
      " 13  StreamingTV       7043 non-null   object \n",
      " 14  StreamingMovies   7043 non-null   object \n",
      " 15  Contract          7043 non-null   object \n",
      " 16  PaperlessBilling  7043 non-null   object \n",
      " 17  PaymentMethod     7043 non-null   object \n",
      " 18  MonthlyCharges    7043 non-null   float64\n",
      " 19  TotalCharges      7043 non-null   object \n",
      " 20  Churn             7043 non-null   object \n",
      "dtypes: float64(1), int64(2), object(18)\n",
      "memory usage: 1.1+ MB\n"
     ]
    }
   ],
   "source": [
    "df.info()"
   ]
  },
  {
   "cell_type": "markdown",
   "metadata": {},
   "source": [
    "4.2 Change column data type\n",
    "- I will change the TotalCharges column data type to float64, since it's numeric column.\n",
    "- There are two reasons, (1) to make the calculation easier & (2) to check whether there is missing value."
   ]
  },
  {
   "cell_type": "code",
   "execution_count": 7,
   "metadata": {},
   "outputs": [],
   "source": [
    "df['TotalCharges'] = pd.to_numeric(df.TotalCharges, errors='coerce')"
   ]
  },
  {
   "cell_type": "markdown",
   "metadata": {},
   "source": [
    "4.3 Checking missing value\n",
    "- There are 11 missing values TotalCharges column."
   ]
  },
  {
   "cell_type": "code",
   "execution_count": 8,
   "metadata": {},
   "outputs": [
    {
     "data": {
      "text/plain": [
       "customerID           0\n",
       "gender               0\n",
       "SeniorCitizen        0\n",
       "Partner              0\n",
       "Dependents           0\n",
       "tenure               0\n",
       "PhoneService         0\n",
       "MultipleLines        0\n",
       "InternetService      0\n",
       "OnlineSecurity       0\n",
       "OnlineBackup         0\n",
       "DeviceProtection     0\n",
       "TechSupport          0\n",
       "StreamingTV          0\n",
       "StreamingMovies      0\n",
       "Contract             0\n",
       "PaperlessBilling     0\n",
       "PaymentMethod        0\n",
       "MonthlyCharges       0\n",
       "TotalCharges        11\n",
       "Churn                0\n",
       "dtype: int64"
      ]
     },
     "execution_count": 8,
     "metadata": {},
     "output_type": "execute_result"
    }
   ],
   "source": [
    "df.isnull().sum()"
   ]
  },
  {
   "cell_type": "markdown",
   "metadata": {},
   "source": [
    "4.4 Dropping massing value\n",
    "- Since the missing values are only 11 from our total data which are 7043, I decided to drop the missing data."
   ]
  },
  {
   "cell_type": "code",
   "execution_count": 9,
   "metadata": {},
   "outputs": [],
   "source": [
    "df.dropna(inplace=True)"
   ]
  },
  {
   "cell_type": "markdown",
   "metadata": {},
   "source": [
    "4.5 Re-checking the dataset shape\n",
    "- Now we have 7032 data."
   ]
  },
  {
   "cell_type": "code",
   "execution_count": 10,
   "metadata": {},
   "outputs": [
    {
     "data": {
      "text/plain": [
       "(7032, 21)"
      ]
     },
     "execution_count": 10,
     "metadata": {},
     "output_type": "execute_result"
    }
   ],
   "source": [
    "df.shape"
   ]
  },
  {
   "cell_type": "markdown",
   "metadata": {},
   "source": [
    "4.6 Taking data inference\n",
    "- Here I take one row as our data inference.\n",
    "- Before taking the data, we assign the random seed so we can call the exact same data later.\n",
    "- We got the data from index 3207 as our data inference."
   ]
  },
  {
   "cell_type": "code",
   "execution_count": 11,
   "metadata": {},
   "outputs": [
    {
     "data": {
      "text/html": [
       "<div>\n",
       "<style scoped>\n",
       "    .dataframe tbody tr th:only-of-type {\n",
       "        vertical-align: middle;\n",
       "    }\n",
       "\n",
       "    .dataframe tbody tr th {\n",
       "        vertical-align: top;\n",
       "    }\n",
       "\n",
       "    .dataframe thead th {\n",
       "        text-align: right;\n",
       "    }\n",
       "</style>\n",
       "<table border=\"1\" class=\"dataframe\">\n",
       "  <thead>\n",
       "    <tr style=\"text-align: right;\">\n",
       "      <th></th>\n",
       "      <th>customerID</th>\n",
       "      <th>gender</th>\n",
       "      <th>SeniorCitizen</th>\n",
       "      <th>Partner</th>\n",
       "      <th>Dependents</th>\n",
       "      <th>tenure</th>\n",
       "      <th>PhoneService</th>\n",
       "      <th>MultipleLines</th>\n",
       "      <th>InternetService</th>\n",
       "      <th>OnlineSecurity</th>\n",
       "      <th>...</th>\n",
       "      <th>DeviceProtection</th>\n",
       "      <th>TechSupport</th>\n",
       "      <th>StreamingTV</th>\n",
       "      <th>StreamingMovies</th>\n",
       "      <th>Contract</th>\n",
       "      <th>PaperlessBilling</th>\n",
       "      <th>PaymentMethod</th>\n",
       "      <th>MonthlyCharges</th>\n",
       "      <th>TotalCharges</th>\n",
       "      <th>Churn</th>\n",
       "    </tr>\n",
       "  </thead>\n",
       "  <tbody>\n",
       "    <tr>\n",
       "      <th>3207</th>\n",
       "      <td>3694-GLTJM</td>\n",
       "      <td>Female</td>\n",
       "      <td>0</td>\n",
       "      <td>No</td>\n",
       "      <td>No</td>\n",
       "      <td>5</td>\n",
       "      <td>Yes</td>\n",
       "      <td>No</td>\n",
       "      <td>No</td>\n",
       "      <td>No internet service</td>\n",
       "      <td>...</td>\n",
       "      <td>No internet service</td>\n",
       "      <td>No internet service</td>\n",
       "      <td>No internet service</td>\n",
       "      <td>No internet service</td>\n",
       "      <td>Month-to-month</td>\n",
       "      <td>Yes</td>\n",
       "      <td>Credit card (automatic)</td>\n",
       "      <td>19.65</td>\n",
       "      <td>92.05</td>\n",
       "      <td>No</td>\n",
       "    </tr>\n",
       "  </tbody>\n",
       "</table>\n",
       "<p>1 rows × 21 columns</p>\n",
       "</div>"
      ],
      "text/plain": [
       "      customerID  gender  SeniorCitizen Partner Dependents  tenure  \\\n",
       "3207  3694-GLTJM  Female              0      No         No       5   \n",
       "\n",
       "     PhoneService MultipleLines InternetService       OnlineSecurity  ...  \\\n",
       "3207          Yes            No              No  No internet service  ...   \n",
       "\n",
       "         DeviceProtection          TechSupport          StreamingTV  \\\n",
       "3207  No internet service  No internet service  No internet service   \n",
       "\n",
       "          StreamingMovies        Contract PaperlessBilling  \\\n",
       "3207  No internet service  Month-to-month              Yes   \n",
       "\n",
       "                PaymentMethod MonthlyCharges  TotalCharges  Churn  \n",
       "3207  Credit card (automatic)          19.65         92.05     No  \n",
       "\n",
       "[1 rows x 21 columns]"
      ]
     },
     "execution_count": 11,
     "metadata": {},
     "output_type": "execute_result"
    }
   ],
   "source": [
    "# assign random seed, so the data inf won't be generated all over again whenever we call it\n",
    "np.random.seed(997)\n",
    "\n",
    "# taking the 1 data inference from our dataset\n",
    "data_inf = df.sample(1)\n",
    "data_inf"
   ]
  },
  {
   "cell_type": "markdown",
   "metadata": {},
   "source": [
    "4.7 Dropping data inference from original dataset\n",
    "- Dropping the data inference from the original dataset, so later the model can predict the brand new data.\n",
    "- Now, our total dataset have 7031 rows."
   ]
  },
  {
   "cell_type": "code",
   "execution_count": 12,
   "metadata": {},
   "outputs": [
    {
     "data": {
      "text/plain": [
       "(7031, 21)"
      ]
     },
     "execution_count": 12,
     "metadata": {},
     "output_type": "execute_result"
    }
   ],
   "source": [
    "df.drop(index=data_inf.index, inplace=True)\n",
    "df.shape"
   ]
  },
  {
   "cell_type": "markdown",
   "metadata": {},
   "source": [
    "4.8 Spliting data train and test\n",
    "- To prevent the leakage of the data, I decide to split the data early in this step.\n",
    "- So, the model will do optimized work and we also can understand how much the precision of our model.\n",
    "- Our data train now consist of 5624 rows and 21 columns."
   ]
  },
  {
   "cell_type": "code",
   "execution_count": 13,
   "metadata": {},
   "outputs": [
    {
     "name": "stdout",
     "output_type": "stream",
     "text": [
      "The new shape of our data train is  (5624, 21)\n"
     ]
    },
    {
     "data": {
      "text/html": [
       "<div>\n",
       "<style scoped>\n",
       "    .dataframe tbody tr th:only-of-type {\n",
       "        vertical-align: middle;\n",
       "    }\n",
       "\n",
       "    .dataframe tbody tr th {\n",
       "        vertical-align: top;\n",
       "    }\n",
       "\n",
       "    .dataframe thead th {\n",
       "        text-align: right;\n",
       "    }\n",
       "</style>\n",
       "<table border=\"1\" class=\"dataframe\">\n",
       "  <thead>\n",
       "    <tr style=\"text-align: right;\">\n",
       "      <th></th>\n",
       "      <th>6478</th>\n",
       "      <th>5426</th>\n",
       "      <th>1075</th>\n",
       "      <th>1513</th>\n",
       "      <th>6876</th>\n",
       "    </tr>\n",
       "  </thead>\n",
       "  <tbody>\n",
       "    <tr>\n",
       "      <th>customerID</th>\n",
       "      <td>9330-VOFSZ</td>\n",
       "      <td>8630-QSGXK</td>\n",
       "      <td>4194-WHFCB</td>\n",
       "      <td>0661-XEYAN</td>\n",
       "      <td>6341-AEVKX</td>\n",
       "    </tr>\n",
       "    <tr>\n",
       "      <th>gender</th>\n",
       "      <td>Female</td>\n",
       "      <td>Male</td>\n",
       "      <td>Female</td>\n",
       "      <td>Female</td>\n",
       "      <td>Female</td>\n",
       "    </tr>\n",
       "    <tr>\n",
       "      <th>SeniorCitizen</th>\n",
       "      <td>0</td>\n",
       "      <td>0</td>\n",
       "      <td>0</td>\n",
       "      <td>1</td>\n",
       "      <td>0</td>\n",
       "    </tr>\n",
       "    <tr>\n",
       "      <th>Partner</th>\n",
       "      <td>Yes</td>\n",
       "      <td>Yes</td>\n",
       "      <td>Yes</td>\n",
       "      <td>No</td>\n",
       "      <td>Yes</td>\n",
       "    </tr>\n",
       "    <tr>\n",
       "      <th>Dependents</th>\n",
       "      <td>No</td>\n",
       "      <td>No</td>\n",
       "      <td>Yes</td>\n",
       "      <td>No</td>\n",
       "      <td>No</td>\n",
       "    </tr>\n",
       "    <tr>\n",
       "      <th>tenure</th>\n",
       "      <td>60</td>\n",
       "      <td>51</td>\n",
       "      <td>59</td>\n",
       "      <td>1</td>\n",
       "      <td>62</td>\n",
       "    </tr>\n",
       "    <tr>\n",
       "      <th>PhoneService</th>\n",
       "      <td>Yes</td>\n",
       "      <td>Yes</td>\n",
       "      <td>Yes</td>\n",
       "      <td>No</td>\n",
       "      <td>Yes</td>\n",
       "    </tr>\n",
       "    <tr>\n",
       "      <th>MultipleLines</th>\n",
       "      <td>Yes</td>\n",
       "      <td>Yes</td>\n",
       "      <td>Yes</td>\n",
       "      <td>No phone service</td>\n",
       "      <td>No</td>\n",
       "    </tr>\n",
       "    <tr>\n",
       "      <th>InternetService</th>\n",
       "      <td>Fiber optic</td>\n",
       "      <td>DSL</td>\n",
       "      <td>Fiber optic</td>\n",
       "      <td>DSL</td>\n",
       "      <td>Fiber optic</td>\n",
       "    </tr>\n",
       "    <tr>\n",
       "      <th>OnlineSecurity</th>\n",
       "      <td>No</td>\n",
       "      <td>No</td>\n",
       "      <td>No</td>\n",
       "      <td>No</td>\n",
       "      <td>Yes</td>\n",
       "    </tr>\n",
       "    <tr>\n",
       "      <th>OnlineBackup</th>\n",
       "      <td>Yes</td>\n",
       "      <td>No</td>\n",
       "      <td>Yes</td>\n",
       "      <td>No</td>\n",
       "      <td>No</td>\n",
       "    </tr>\n",
       "    <tr>\n",
       "      <th>DeviceProtection</th>\n",
       "      <td>Yes</td>\n",
       "      <td>No</td>\n",
       "      <td>No</td>\n",
       "      <td>No</td>\n",
       "      <td>Yes</td>\n",
       "    </tr>\n",
       "    <tr>\n",
       "      <th>TechSupport</th>\n",
       "      <td>Yes</td>\n",
       "      <td>Yes</td>\n",
       "      <td>Yes</td>\n",
       "      <td>No</td>\n",
       "      <td>Yes</td>\n",
       "    </tr>\n",
       "    <tr>\n",
       "      <th>StreamingTV</th>\n",
       "      <td>Yes</td>\n",
       "      <td>Yes</td>\n",
       "      <td>No</td>\n",
       "      <td>No</td>\n",
       "      <td>Yes</td>\n",
       "    </tr>\n",
       "    <tr>\n",
       "      <th>StreamingMovies</th>\n",
       "      <td>Yes</td>\n",
       "      <td>Yes</td>\n",
       "      <td>Yes</td>\n",
       "      <td>No</td>\n",
       "      <td>Yes</td>\n",
       "    </tr>\n",
       "    <tr>\n",
       "      <th>Contract</th>\n",
       "      <td>Two year</td>\n",
       "      <td>Two year</td>\n",
       "      <td>Month-to-month</td>\n",
       "      <td>Month-to-month</td>\n",
       "      <td>One year</td>\n",
       "    </tr>\n",
       "    <tr>\n",
       "      <th>PaperlessBilling</th>\n",
       "      <td>Yes</td>\n",
       "      <td>Yes</td>\n",
       "      <td>Yes</td>\n",
       "      <td>Yes</td>\n",
       "      <td>Yes</td>\n",
       "    </tr>\n",
       "    <tr>\n",
       "      <th>PaymentMethod</th>\n",
       "      <td>Credit card (automatic)</td>\n",
       "      <td>Bank transfer (automatic)</td>\n",
       "      <td>Bank transfer (automatic)</td>\n",
       "      <td>Mailed check</td>\n",
       "      <td>Electronic check</td>\n",
       "    </tr>\n",
       "    <tr>\n",
       "      <th>MonthlyCharges</th>\n",
       "      <td>110.8</td>\n",
       "      <td>75.2</td>\n",
       "      <td>96.65</td>\n",
       "      <td>25.8</td>\n",
       "      <td>104.3</td>\n",
       "    </tr>\n",
       "    <tr>\n",
       "      <th>TotalCharges</th>\n",
       "      <td>6640.7</td>\n",
       "      <td>3901.25</td>\n",
       "      <td>5580.8</td>\n",
       "      <td>25.8</td>\n",
       "      <td>6613.65</td>\n",
       "    </tr>\n",
       "    <tr>\n",
       "      <th>Churn</th>\n",
       "      <td>No</td>\n",
       "      <td>No</td>\n",
       "      <td>No</td>\n",
       "      <td>Yes</td>\n",
       "      <td>No</td>\n",
       "    </tr>\n",
       "  </tbody>\n",
       "</table>\n",
       "</div>"
      ],
      "text/plain": [
       "                                     6478                       5426  \\\n",
       "customerID                     9330-VOFSZ                 8630-QSGXK   \n",
       "gender                             Female                       Male   \n",
       "SeniorCitizen                           0                          0   \n",
       "Partner                               Yes                        Yes   \n",
       "Dependents                             No                         No   \n",
       "tenure                                 60                         51   \n",
       "PhoneService                          Yes                        Yes   \n",
       "MultipleLines                         Yes                        Yes   \n",
       "InternetService               Fiber optic                        DSL   \n",
       "OnlineSecurity                         No                         No   \n",
       "OnlineBackup                          Yes                         No   \n",
       "DeviceProtection                      Yes                         No   \n",
       "TechSupport                           Yes                        Yes   \n",
       "StreamingTV                           Yes                        Yes   \n",
       "StreamingMovies                       Yes                        Yes   \n",
       "Contract                         Two year                   Two year   \n",
       "PaperlessBilling                      Yes                        Yes   \n",
       "PaymentMethod     Credit card (automatic)  Bank transfer (automatic)   \n",
       "MonthlyCharges                      110.8                       75.2   \n",
       "TotalCharges                       6640.7                    3901.25   \n",
       "Churn                                  No                         No   \n",
       "\n",
       "                                       1075              1513  \\\n",
       "customerID                       4194-WHFCB        0661-XEYAN   \n",
       "gender                               Female            Female   \n",
       "SeniorCitizen                             0                 1   \n",
       "Partner                                 Yes                No   \n",
       "Dependents                              Yes                No   \n",
       "tenure                                   59                 1   \n",
       "PhoneService                            Yes                No   \n",
       "MultipleLines                           Yes  No phone service   \n",
       "InternetService                 Fiber optic               DSL   \n",
       "OnlineSecurity                           No                No   \n",
       "OnlineBackup                            Yes                No   \n",
       "DeviceProtection                         No                No   \n",
       "TechSupport                             Yes                No   \n",
       "StreamingTV                              No                No   \n",
       "StreamingMovies                         Yes                No   \n",
       "Contract                     Month-to-month    Month-to-month   \n",
       "PaperlessBilling                        Yes               Yes   \n",
       "PaymentMethod     Bank transfer (automatic)      Mailed check   \n",
       "MonthlyCharges                        96.65              25.8   \n",
       "TotalCharges                         5580.8              25.8   \n",
       "Churn                                    No               Yes   \n",
       "\n",
       "                              6876  \n",
       "customerID              6341-AEVKX  \n",
       "gender                      Female  \n",
       "SeniorCitizen                    0  \n",
       "Partner                        Yes  \n",
       "Dependents                      No  \n",
       "tenure                          62  \n",
       "PhoneService                   Yes  \n",
       "MultipleLines                   No  \n",
       "InternetService        Fiber optic  \n",
       "OnlineSecurity                 Yes  \n",
       "OnlineBackup                    No  \n",
       "DeviceProtection               Yes  \n",
       "TechSupport                    Yes  \n",
       "StreamingTV                    Yes  \n",
       "StreamingMovies                Yes  \n",
       "Contract                  One year  \n",
       "PaperlessBilling               Yes  \n",
       "PaymentMethod     Electronic check  \n",
       "MonthlyCharges               104.3  \n",
       "TotalCharges               6613.65  \n",
       "Churn                           No  "
      ]
     },
     "execution_count": 13,
     "metadata": {},
     "output_type": "execute_result"
    }
   ],
   "source": [
    "#splitting the data train and test\n",
    "data_train, data_test  = train_test_split(df, train_size=0.8, random_state=3397, stratify=df['Churn'])\n",
    "print('The new shape of our data train is ', data_train.shape)\n",
    "data_train.head().T"
   ]
  },
  {
   "cell_type": "markdown",
   "metadata": {},
   "source": [
    "4.9 Checking duplicated data\n",
    "- We have no dulicated data."
   ]
  },
  {
   "cell_type": "code",
   "execution_count": 14,
   "metadata": {},
   "outputs": [
    {
     "data": {
      "text/plain": [
       "0"
      ]
     },
     "execution_count": 14,
     "metadata": {},
     "output_type": "execute_result"
    }
   ],
   "source": [
    "data_train.duplicated().sum()"
   ]
  },
  {
   "cell_type": "markdown",
   "metadata": {},
   "source": [
    "4.10 Getting insight from numeric columns using describe method\n",
    "- SeniorCitizen is a category column, and already binary encoded.\n",
    "- There are originally only three numeric columns in this dataset. "
   ]
  },
  {
   "cell_type": "code",
   "execution_count": 15,
   "metadata": {},
   "outputs": [
    {
     "data": {
      "text/html": [
       "<div>\n",
       "<style scoped>\n",
       "    .dataframe tbody tr th:only-of-type {\n",
       "        vertical-align: middle;\n",
       "    }\n",
       "\n",
       "    .dataframe tbody tr th {\n",
       "        vertical-align: top;\n",
       "    }\n",
       "\n",
       "    .dataframe thead th {\n",
       "        text-align: right;\n",
       "    }\n",
       "</style>\n",
       "<table border=\"1\" class=\"dataframe\">\n",
       "  <thead>\n",
       "    <tr style=\"text-align: right;\">\n",
       "      <th></th>\n",
       "      <th>count</th>\n",
       "      <th>mean</th>\n",
       "      <th>std</th>\n",
       "      <th>min</th>\n",
       "      <th>25%</th>\n",
       "      <th>50%</th>\n",
       "      <th>75%</th>\n",
       "      <th>max</th>\n",
       "    </tr>\n",
       "  </thead>\n",
       "  <tbody>\n",
       "    <tr>\n",
       "      <th>SeniorCitizen</th>\n",
       "      <td>5624.0</td>\n",
       "      <td>0.160562</td>\n",
       "      <td>0.367159</td>\n",
       "      <td>0.00</td>\n",
       "      <td>0.0000</td>\n",
       "      <td>0.000</td>\n",
       "      <td>0.0000</td>\n",
       "      <td>1.00</td>\n",
       "    </tr>\n",
       "    <tr>\n",
       "      <th>tenure</th>\n",
       "      <td>5624.0</td>\n",
       "      <td>32.375889</td>\n",
       "      <td>24.461111</td>\n",
       "      <td>1.00</td>\n",
       "      <td>9.0000</td>\n",
       "      <td>29.000</td>\n",
       "      <td>55.0000</td>\n",
       "      <td>72.00</td>\n",
       "    </tr>\n",
       "    <tr>\n",
       "      <th>MonthlyCharges</th>\n",
       "      <td>5624.0</td>\n",
       "      <td>64.831081</td>\n",
       "      <td>30.070482</td>\n",
       "      <td>18.25</td>\n",
       "      <td>35.7500</td>\n",
       "      <td>70.300</td>\n",
       "      <td>89.9625</td>\n",
       "      <td>118.65</td>\n",
       "    </tr>\n",
       "    <tr>\n",
       "      <th>TotalCharges</th>\n",
       "      <td>5624.0</td>\n",
       "      <td>2284.540149</td>\n",
       "      <td>2271.032184</td>\n",
       "      <td>18.85</td>\n",
       "      <td>409.4875</td>\n",
       "      <td>1397.475</td>\n",
       "      <td>3796.9125</td>\n",
       "      <td>8684.80</td>\n",
       "    </tr>\n",
       "  </tbody>\n",
       "</table>\n",
       "</div>"
      ],
      "text/plain": [
       "                 count         mean          std    min       25%       50%  \\\n",
       "SeniorCitizen   5624.0     0.160562     0.367159   0.00    0.0000     0.000   \n",
       "tenure          5624.0    32.375889    24.461111   1.00    9.0000    29.000   \n",
       "MonthlyCharges  5624.0    64.831081    30.070482  18.25   35.7500    70.300   \n",
       "TotalCharges    5624.0  2284.540149  2271.032184  18.85  409.4875  1397.475   \n",
       "\n",
       "                      75%      max  \n",
       "SeniorCitizen      0.0000     1.00  \n",
       "tenure            55.0000    72.00  \n",
       "MonthlyCharges    89.9625   118.65  \n",
       "TotalCharges    3796.9125  8684.80  "
      ]
     },
     "execution_count": 15,
     "metadata": {},
     "output_type": "execute_result"
    }
   ],
   "source": [
    "data_train.describe().T"
   ]
  },
  {
   "cell_type": "markdown",
   "metadata": {},
   "source": [
    "4.11 Checking unique variable in category columns\n",
    "- It seems that many of the columns have binary category."
   ]
  },
  {
   "cell_type": "code",
   "execution_count": 16,
   "metadata": {},
   "outputs": [
    {
     "name": "stdout",
     "output_type": "stream",
     "text": [
      "- gender unique variables : ['Female' 'Male']\n",
      "==============================================================================================================\n",
      "- Partner unique variables : ['Yes' 'No']\n",
      "==============================================================================================================\n",
      "- Dependents unique variables : ['No' 'Yes']\n",
      "==============================================================================================================\n",
      "- PhoneService unique variables : ['Yes' 'No']\n",
      "==============================================================================================================\n",
      "- MultipleLines unique variables : ['Yes' 'No phone service' 'No']\n",
      "==============================================================================================================\n",
      "- InternetService unique variables : ['Fiber optic' 'DSL' 'No']\n",
      "==============================================================================================================\n",
      "- OnlineSecurity unique variables : ['No' 'Yes' 'No internet service']\n",
      "==============================================================================================================\n",
      "- OnlineBackup unique variables : ['Yes' 'No' 'No internet service']\n",
      "==============================================================================================================\n",
      "- DeviceProtection unique variables : ['Yes' 'No' 'No internet service']\n",
      "==============================================================================================================\n",
      "- TechSupport unique variables : ['Yes' 'No' 'No internet service']\n",
      "==============================================================================================================\n",
      "- StreamingTV unique variables : ['Yes' 'No' 'No internet service']\n",
      "==============================================================================================================\n",
      "- StreamingMovies unique variables : ['Yes' 'No' 'No internet service']\n",
      "==============================================================================================================\n",
      "- Contract unique variables : ['Two year' 'Month-to-month' 'One year']\n",
      "==============================================================================================================\n",
      "- PaperlessBilling unique variables : ['Yes' 'No']\n",
      "==============================================================================================================\n",
      "- PaymentMethod unique variables : ['Credit card (automatic)' 'Bank transfer (automatic)' 'Mailed check'\n",
      " 'Electronic check']\n",
      "==============================================================================================================\n",
      "- Churn unique variables : ['No' 'Yes']\n"
     ]
    }
   ],
   "source": [
    "print('- gender unique variables :', data_train['gender'].unique())\n",
    "print('='*110)\n",
    "print('- Partner unique variables :', data_train['Partner'].unique())\n",
    "print('='*110)\n",
    "print('- Dependents unique variables :', data_train['Dependents'].unique())\n",
    "print('='*110)\n",
    "print('- PhoneService unique variables :', data_train['PhoneService'].unique())\n",
    "print('='*110)\n",
    "print('- MultipleLines unique variables :', data_train['MultipleLines'].unique())\n",
    "print('='*110)\n",
    "print('- InternetService unique variables :', data_train['InternetService'].unique())\n",
    "print('='*110)\n",
    "print('- OnlineSecurity unique variables :', data_train['OnlineSecurity'].unique())\n",
    "print('='*110)\n",
    "print('- OnlineBackup unique variables :', data_train['OnlineBackup'].unique())\n",
    "print('='*110)\n",
    "print('- DeviceProtection unique variables :', data_train['DeviceProtection'].unique())\n",
    "print('='*110)\n",
    "print('- TechSupport unique variables :', data_train['TechSupport'].unique())\n",
    "print('='*110)\n",
    "print('- StreamingTV unique variables :', data_train['StreamingTV'].unique())\n",
    "print('='*110)\n",
    "print('- StreamingMovies unique variables :', data_train['StreamingMovies'].unique())\n",
    "print('='*110)\n",
    "print('- Contract unique variables :', data_train['Contract'].unique())\n",
    "print('='*110)\n",
    "print('- PaperlessBilling unique variables :', data_train['PaperlessBilling'].unique())\n",
    "print('='*110)\n",
    "print('- PaymentMethod unique variables :', data_train['PaymentMethod'].unique())\n",
    "print('='*110)\n",
    "print('- Churn unique variables :', data_train['Churn'].unique())"
   ]
  },
  {
   "cell_type": "markdown",
   "metadata": {},
   "source": [
    "4.12 Getting insight from tenure & checking its data distribution.\n",
    "- As we can see above, the distribution of the data is normal.\n",
    "- The column don't have any outliers either.\n",
    "- Overall, there is no problem in this colum."
   ]
  },
  {
   "cell_type": "code",
   "execution_count": 17,
   "metadata": {},
   "outputs": [
    {
     "data": {
      "image/png": "[encoded data removed]",
      "text/plain": [
       "<Figure size 1080x360 with 2 Axes>"
      ]
     },
     "metadata": {},
     "output_type": "display_data"
    },
    {
     "name": "stdout",
     "output_type": "stream",
     "text": [
      "tenure Kurtosis: -1.3830398095070404\n",
      "tenure Skewness: 0.23900459110762481\n",
      "Columns 'tenure' is normal distribution\n"
     ]
    }
   ],
   "source": [
    "#making function for plotting the distribution of the data\n",
    "def plot_dist(df, col):\n",
    "    sns.set_style('darkgrid')\n",
    "    sns.set_palette('rocket')\n",
    "    fig, axes = plt.subplots(ncols = 2, figsize = (15, 5))\n",
    "    \n",
    "    # histogram\n",
    "    sns.histplot(df[col],ax = axes[0], bins=30)\n",
    "    axes[0].set_title(f\"Histogram '{col}'\")\n",
    "    axes[0].axvline(df[col].mean(), color = 'red', linestyle = 'dashed', label = 'mean')\n",
    "    axes[0].axvline(df[col].median(), color = 'green', linestyle = 'dashed', label = 'median')\n",
    "    axes[0].legend()\n",
    "    \n",
    "    # boxplot\n",
    "    sns.boxplot(y=df[col], ax =  axes[1])\n",
    "    axes[1].set_title(f\"Boxplot '{col}'\")\n",
    "    \n",
    "    plt.show()\n",
    "    \n",
    "    # skewness\n",
    "    print(df[col].name + ' Kurtosis: ' + str(df[col].kurt()))\n",
    "    print(df[col].name + ' Skewness: ' + str(df[col].skew()))\n",
    "    if -0.5 <= df[col].skew() <= 0.5:\n",
    "        print(\"Columns '{}' is normal distribution\".format(col))\n",
    "    elif df[col].skew() > 0.5:\n",
    "        print(\"Columns '{}' is right skewed\".format(col))\n",
    "    elif df[col].skew() < -0.5:\n",
    "        print(\"Columns '{}' is left skewed\".format(col))\n",
    "\n",
    "#plotting the distribution data of limit_balance\n",
    "plot_dist(data_train, 'tenure')"
   ]
  },
  {
   "cell_type": "markdown",
   "metadata": {},
   "source": [
    "4.13 Getting insight from MonthlyCharges & checking its data distribution\n",
    "- In this column, there is no outliers either.\n",
    "- The data is normally distributed.\n",
    "- Overall, there is no problem in this column"
   ]
  },
  {
   "cell_type": "code",
   "execution_count": 16,
   "metadata": {},
   "outputs": [
    {
     "data": {
      "image/png": "[encoded data removed]",
      "text/plain": [
       "<Figure size 1080x360 with 2 Axes>"
      ]
     },
     "metadata": {},
     "output_type": "display_data"
    },
    {
     "name": "stdout",
     "output_type": "stream",
     "text": [
      "MonthlyCharges Kurtosis: -1.2582918615825849\n",
      "MonthlyCharges Skewness: -0.22241717231974978\n",
      "Columns 'MonthlyCharges' is normal distribution\n"
     ]
    }
   ],
   "source": [
    "plot_dist(data_train, 'MonthlyCharges')"
   ]
  },
  {
   "cell_type": "markdown",
   "metadata": {},
   "source": [
    "4.14 Getting insight from TotalCharges & checking its data distribution\n",
    "- In this column, there is no outliers either.\n",
    "- However, the data distrbution is right-skew."
   ]
  },
  {
   "cell_type": "code",
   "execution_count": 17,
   "metadata": {},
   "outputs": [
    {
     "data": {
      "image/png": "[encoded data removed]",
      "text/plain": [
       "<Figure size 1080x360 with 2 Axes>"
      ]
     },
     "metadata": {},
     "output_type": "display_data"
    },
    {
     "name": "stdout",
     "output_type": "stream",
     "text": [
      "TotalCharges Kurtosis: -0.2520338753331153\n",
      "TotalCharges Skewness: 0.9612904182787391\n",
      "Columns 'TotalCharges' is right skewed\n"
     ]
    }
   ],
   "source": [
    "plot_dist(data_train, 'TotalCharges')"
   ]
  },
  {
   "cell_type": "markdown",
   "metadata": {},
   "source": [
    "4.15 Getting inisght gender & partner columns\n",
    "- It seems that the target class No, have more quantity than class Yes. \n",
    "- Also, we can say that the target may be imbalance. Yet, we need to check further later.\n",
    "- From below plot, we can comprehend that gender won't affect much to the target Churn since both of gender have more values in class No.\n",
    "- The same with partner column, it seems that the column don't have any significant effect to the target since they also have more quantity for class No for both categories than the class Yes.\n",
    "- We can consider to drop these two columns later."
   ]
  },
  {
   "cell_type": "code",
   "execution_count": 18,
   "metadata": {},
   "outputs": [
    {
     "data": {
      "image/png": "[encoded data removed]",
      "text/plain": [
       "<Figure size 1152x432 with 2 Axes>"
      ]
     },
     "metadata": {},
     "output_type": "display_data"
    }
   ],
   "source": [
    "#create count plot function so that later we can use it again\n",
    "def plot_count(x1, x2):\n",
    "    fig, ax = plt.subplots(1, 2, figsize = (16, 6))\n",
    "    sns.countplot(data=data_train, x=x1, hue='Churn', ax=ax[0], palette='rocket')\n",
    "    sns.countplot(data=data_train, x=x2, hue='Churn', ax=ax[1], palette='rocket')\n",
    "\n",
    "#plotting the gender & partner\n",
    "plot_count('gender', 'Partner')"
   ]
  },
  {
   "cell_type": "markdown",
   "metadata": {},
   "source": [
    "4.16 Gettting insight from Dependents & PhoneService\n",
    "- The No value in Dependents column have more quantity and the Yes one. It seems for both categories the No class are higher than the Yes class.\n",
    "- The people that have PhoneService seems higher than the people who don't, the difference is more than 3 times. But for both value categories have more No class than Yes class."
   ]
  },
  {
   "cell_type": "code",
   "execution_count": 19,
   "metadata": {},
   "outputs": [
    {
     "data": {
      "image/png": "[encoded data removed]",
      "text/plain": [
       "<Figure size 1152x432 with 2 Axes>"
      ]
     },
     "metadata": {},
     "output_type": "display_data"
    }
   ],
   "source": [
    "plot_count('Dependents', 'PhoneService')"
   ]
  },
  {
   "cell_type": "markdown",
   "metadata": {},
   "source": [
    "4.17 Getting insight from MultipleLines & InternetService\n",
    "- The people have phone services are higher than the people who don't. And the people who have multiple lines is less than the people who have it, but the difference is not sifnificant. The effect on target also is not easily spotted, since for every value in the column have more quantity on No class churn.\n",
    "- The people who have fiber optic as they internet service tend to churn more rather than the one using DSL, or the one who don't have any."
   ]
  },
  {
   "cell_type": "code",
   "execution_count": 20,
   "metadata": {},
   "outputs": [
    {
     "data": {
      "image/png": "[encoded data removed]",
      "text/plain": [
       "<Figure size 1152x432 with 2 Axes>"
      ]
     },
     "metadata": {},
     "output_type": "display_data"
    }
   ],
   "source": [
    "plot_count('MultipleLines', 'InternetService')"
   ]
  },
  {
   "cell_type": "markdown",
   "metadata": {},
   "source": [
    "4.18 Getting insight from OnlineSecurity & OnlineBackup\n",
    "- In OnlineSecurity column we can conclude from the plot that, the people who don't have online security tend to Churn more than others.\n",
    "- In OnlineBackup column seems have similar things, that the people who don't have Online Backup tend to Churn more than others.\n",
    "- We can say that these two columns have correlation related to the target."
   ]
  },
  {
   "cell_type": "code",
   "execution_count": 21,
   "metadata": {},
   "outputs": [
    {
     "data": {
      "image/png": "[encoded data removed]",
      "text/plain": [
       "<Figure size 1152x432 with 2 Axes>"
      ]
     },
     "metadata": {},
     "output_type": "display_data"
    }
   ],
   "source": [
    "plot_count('OnlineSecurity', 'OnlineBackup')"
   ]
  },
  {
   "cell_type": "markdown",
   "metadata": {},
   "source": [
    "4.19 Getting insight from DeviceProtection & TechSupport\n",
    "- In DeviceProtection column we can conclude from the plot that, the people who don't have device protection tend to Churn more than others.\n",
    "- In TechSupport column seems have similar things, that the people who don't have tech support tend to Churn more than others.\n",
    "- We can say that these two columns have correlation related to the target as well."
   ]
  },
  {
   "cell_type": "code",
   "execution_count": 22,
   "metadata": {},
   "outputs": [
    {
     "data": {
      "image/png": "[encoded data removed]",
      "text/plain": [
       "<Figure size 1152x432 with 2 Axes>"
      ]
     },
     "metadata": {},
     "output_type": "display_data"
    }
   ],
   "source": [
    "plot_count('DeviceProtection', 'TechSupport')"
   ]
  },
  {
   "cell_type": "markdown",
   "metadata": {},
   "source": [
    "4.20 Getting insight from StreamingTV & StreamingMovies\n",
    "- In column StreamingTV, the values for Yes and No are the same. However, the category for no internet service is lower than both of previous category.\n",
    "- In SteamingMovies column also have the same things that between yes and no almost have no significant differences."
   ]
  },
  {
   "cell_type": "code",
   "execution_count": 23,
   "metadata": {},
   "outputs": [
    {
     "data": {
      "image/png": "[encoded data removed]",
      "text/plain": [
       "<Figure size 1152x432 with 2 Axes>"
      ]
     },
     "metadata": {},
     "output_type": "display_data"
    }
   ],
   "source": [
    "plot_count('StreamingTV', 'StreamingMovies')"
   ]
  },
  {
   "cell_type": "markdown",
   "metadata": {},
   "source": [
    "4.21 Getting insight from Contract & PaperlessBilling\n",
    "- In column Contract, the people who have contract month-to-month tend to churn more than one year and two year.\n",
    "- In PaperlessBilling column, the people who have PaperlessBilling tend to churn more than the people who don't."
   ]
  },
  {
   "cell_type": "code",
   "execution_count": 24,
   "metadata": {},
   "outputs": [
    {
     "data": {
      "image/png": "[encoded data removed]",
      "text/plain": [
       "<Figure size 1152x432 with 2 Axes>"
      ]
     },
     "metadata": {},
     "output_type": "display_data"
    }
   ],
   "source": [
    "plot_count('Contract', 'PaperlessBilling')"
   ]
  },
  {
   "cell_type": "markdown",
   "metadata": {},
   "source": [
    "4.22 Getting insight from PaymentMethod\n",
    "- It seems that the people who use payment method in Electronic Check tend to churn more than other way of payment method."
   ]
  },
  {
   "cell_type": "code",
   "execution_count": 25,
   "metadata": {},
   "outputs": [
    {
     "data": {
      "text/plain": [
       "<AxesSubplot:xlabel='PaymentMethod', ylabel='count'>"
      ]
     },
     "execution_count": 25,
     "metadata": {},
     "output_type": "execute_result"
    },
    {
     "data": {
      "image/png": "[encoded data removed]",
      "text/plain": [
       "<Figure size 540x360 with 1 Axes>"
      ]
     },
     "metadata": {},
     "output_type": "display_data"
    }
   ],
   "source": [
    "fig, ax = plt.subplots(figsize=(7.5,5))\n",
    "sns.countplot(data=data_train, x='PaymentMethod', hue='Churn')"
   ]
  },
  {
   "cell_type": "markdown",
   "metadata": {},
   "source": [
    "4.23 Checking data distribution from target\n",
    "- We can conclude that the data from our target is imbalance.\n",
    "- Although it's imbalance but it's still moderate, thus I won't do any imbalance handling related to the target."
   ]
  },
  {
   "cell_type": "code",
   "execution_count": 26,
   "metadata": {},
   "outputs": [
    {
     "data": {
      "text/plain": [
       "<AxesSubplot:xlabel='Churn', ylabel='count'>"
      ]
     },
     "execution_count": 26,
     "metadata": {},
     "output_type": "execute_result"
    },
    {
     "data": {
      "image/png": "[encoded data removed]",
      "text/plain": [
       "<Figure size 576x432 with 1 Axes>"
      ]
     },
     "metadata": {},
     "output_type": "display_data"
    }
   ],
   "source": [
    "fig, ax = plt.subplots(figsize=(8,6))\n",
    "sns.countplot(data=data_train, x='Churn', palette='rocket')"
   ]
  },
  {
   "cell_type": "markdown",
   "metadata": {},
   "source": [
    "___"
   ]
  },
  {
   "cell_type": "markdown",
   "metadata": {},
   "source": [
    "# 5. FEATURE ENGINEERING & SELECTION"
   ]
  },
  {
   "cell_type": "markdown",
   "metadata": {},
   "source": [
    "5.1 Split train and dev\n",
    "- Here I split once again between data train and val.\n",
    "- So, the data val won't be affected with several treatment like outliers & imbalance data handling.\n",
    "- Total data train now become 4506 rows."
   ]
  },
  {
   "cell_type": "code",
   "execution_count": 18,
   "metadata": {},
   "outputs": [
    {
     "name": "stdout",
     "output_type": "stream",
     "text": [
      "The new shape of our data train is  (4499, 21)\n"
     ]
    },
    {
     "data": {
      "text/html": [
       "<div>\n",
       "<style scoped>\n",
       "    .dataframe tbody tr th:only-of-type {\n",
       "        vertical-align: middle;\n",
       "    }\n",
       "\n",
       "    .dataframe tbody tr th {\n",
       "        vertical-align: top;\n",
       "    }\n",
       "\n",
       "    .dataframe thead th {\n",
       "        text-align: right;\n",
       "    }\n",
       "</style>\n",
       "<table border=\"1\" class=\"dataframe\">\n",
       "  <thead>\n",
       "    <tr style=\"text-align: right;\">\n",
       "      <th></th>\n",
       "      <th>2659</th>\n",
       "      <th>762</th>\n",
       "      <th>6080</th>\n",
       "      <th>1091</th>\n",
       "      <th>6063</th>\n",
       "    </tr>\n",
       "  </thead>\n",
       "  <tbody>\n",
       "    <tr>\n",
       "      <th>customerID</th>\n",
       "      <td>3166-PNEOF</td>\n",
       "      <td>7379-POKDZ</td>\n",
       "      <td>9526-BIHHD</td>\n",
       "      <td>5832-TRLPB</td>\n",
       "      <td>0613-WUXUM</td>\n",
       "    </tr>\n",
       "    <tr>\n",
       "      <th>gender</th>\n",
       "      <td>Female</td>\n",
       "      <td>Male</td>\n",
       "      <td>Male</td>\n",
       "      <td>Male</td>\n",
       "      <td>Female</td>\n",
       "    </tr>\n",
       "    <tr>\n",
       "      <th>SeniorCitizen</th>\n",
       "      <td>0</td>\n",
       "      <td>0</td>\n",
       "      <td>0</td>\n",
       "      <td>0</td>\n",
       "      <td>0</td>\n",
       "    </tr>\n",
       "    <tr>\n",
       "      <th>Partner</th>\n",
       "      <td>No</td>\n",
       "      <td>Yes</td>\n",
       "      <td>No</td>\n",
       "      <td>No</td>\n",
       "      <td>Yes</td>\n",
       "    </tr>\n",
       "    <tr>\n",
       "      <th>Dependents</th>\n",
       "      <td>No</td>\n",
       "      <td>No</td>\n",
       "      <td>No</td>\n",
       "      <td>No</td>\n",
       "      <td>Yes</td>\n",
       "    </tr>\n",
       "    <tr>\n",
       "      <th>tenure</th>\n",
       "      <td>61</td>\n",
       "      <td>3</td>\n",
       "      <td>1</td>\n",
       "      <td>29</td>\n",
       "      <td>70</td>\n",
       "    </tr>\n",
       "    <tr>\n",
       "      <th>PhoneService</th>\n",
       "      <td>Yes</td>\n",
       "      <td>Yes</td>\n",
       "      <td>No</td>\n",
       "      <td>Yes</td>\n",
       "      <td>Yes</td>\n",
       "    </tr>\n",
       "    <tr>\n",
       "      <th>MultipleLines</th>\n",
       "      <td>Yes</td>\n",
       "      <td>No</td>\n",
       "      <td>No phone service</td>\n",
       "      <td>No</td>\n",
       "      <td>No</td>\n",
       "    </tr>\n",
       "    <tr>\n",
       "      <th>InternetService</th>\n",
       "      <td>DSL</td>\n",
       "      <td>Fiber optic</td>\n",
       "      <td>DSL</td>\n",
       "      <td>DSL</td>\n",
       "      <td>No</td>\n",
       "    </tr>\n",
       "    <tr>\n",
       "      <th>OnlineSecurity</th>\n",
       "      <td>Yes</td>\n",
       "      <td>No</td>\n",
       "      <td>Yes</td>\n",
       "      <td>No</td>\n",
       "      <td>No internet service</td>\n",
       "    </tr>\n",
       "    <tr>\n",
       "      <th>OnlineBackup</th>\n",
       "      <td>No</td>\n",
       "      <td>No</td>\n",
       "      <td>No</td>\n",
       "      <td>No</td>\n",
       "      <td>No internet service</td>\n",
       "    </tr>\n",
       "    <tr>\n",
       "      <th>DeviceProtection</th>\n",
       "      <td>Yes</td>\n",
       "      <td>No</td>\n",
       "      <td>No</td>\n",
       "      <td>Yes</td>\n",
       "      <td>No internet service</td>\n",
       "    </tr>\n",
       "    <tr>\n",
       "      <th>TechSupport</th>\n",
       "      <td>Yes</td>\n",
       "      <td>No</td>\n",
       "      <td>No</td>\n",
       "      <td>Yes</td>\n",
       "      <td>No internet service</td>\n",
       "    </tr>\n",
       "    <tr>\n",
       "      <th>StreamingTV</th>\n",
       "      <td>Yes</td>\n",
       "      <td>No</td>\n",
       "      <td>No</td>\n",
       "      <td>Yes</td>\n",
       "      <td>No internet service</td>\n",
       "    </tr>\n",
       "    <tr>\n",
       "      <th>StreamingMovies</th>\n",
       "      <td>Yes</td>\n",
       "      <td>No</td>\n",
       "      <td>No</td>\n",
       "      <td>Yes</td>\n",
       "      <td>No internet service</td>\n",
       "    </tr>\n",
       "    <tr>\n",
       "      <th>Contract</th>\n",
       "      <td>Two year</td>\n",
       "      <td>Month-to-month</td>\n",
       "      <td>Month-to-month</td>\n",
       "      <td>One year</td>\n",
       "      <td>Two year</td>\n",
       "    </tr>\n",
       "    <tr>\n",
       "      <th>PaperlessBilling</th>\n",
       "      <td>No</td>\n",
       "      <td>Yes</td>\n",
       "      <td>No</td>\n",
       "      <td>Yes</td>\n",
       "      <td>Yes</td>\n",
       "    </tr>\n",
       "    <tr>\n",
       "      <th>PaymentMethod</th>\n",
       "      <td>Credit card (automatic)</td>\n",
       "      <td>Electronic check</td>\n",
       "      <td>Mailed check</td>\n",
       "      <td>Bank transfer (automatic)</td>\n",
       "      <td>Mailed check</td>\n",
       "    </tr>\n",
       "    <tr>\n",
       "      <th>MonthlyCharges</th>\n",
       "      <td>86.45</td>\n",
       "      <td>70.3</td>\n",
       "      <td>29.7</td>\n",
       "      <td>75.35</td>\n",
       "      <td>19.2</td>\n",
       "    </tr>\n",
       "    <tr>\n",
       "      <th>TotalCharges</th>\n",
       "      <td>5175.3</td>\n",
       "      <td>208.85</td>\n",
       "      <td>29.7</td>\n",
       "      <td>2243.9</td>\n",
       "      <td>1401.4</td>\n",
       "    </tr>\n",
       "    <tr>\n",
       "      <th>Churn</th>\n",
       "      <td>No</td>\n",
       "      <td>Yes</td>\n",
       "      <td>Yes</td>\n",
       "      <td>No</td>\n",
       "      <td>No</td>\n",
       "    </tr>\n",
       "  </tbody>\n",
       "</table>\n",
       "</div>"
      ],
      "text/plain": [
       "                                     2659              762               6080  \\\n",
       "customerID                     3166-PNEOF        7379-POKDZ        9526-BIHHD   \n",
       "gender                             Female              Male              Male   \n",
       "SeniorCitizen                           0                 0                 0   \n",
       "Partner                                No               Yes                No   \n",
       "Dependents                             No                No                No   \n",
       "tenure                                 61                 3                 1   \n",
       "PhoneService                          Yes               Yes                No   \n",
       "MultipleLines                         Yes                No  No phone service   \n",
       "InternetService                       DSL       Fiber optic               DSL   \n",
       "OnlineSecurity                        Yes                No               Yes   \n",
       "OnlineBackup                           No                No                No   \n",
       "DeviceProtection                      Yes                No                No   \n",
       "TechSupport                           Yes                No                No   \n",
       "StreamingTV                           Yes                No                No   \n",
       "StreamingMovies                       Yes                No                No   \n",
       "Contract                         Two year    Month-to-month    Month-to-month   \n",
       "PaperlessBilling                       No               Yes                No   \n",
       "PaymentMethod     Credit card (automatic)  Electronic check      Mailed check   \n",
       "MonthlyCharges                      86.45              70.3              29.7   \n",
       "TotalCharges                       5175.3            208.85              29.7   \n",
       "Churn                                  No               Yes               Yes   \n",
       "\n",
       "                                       1091                 6063  \n",
       "customerID                       5832-TRLPB           0613-WUXUM  \n",
       "gender                                 Male               Female  \n",
       "SeniorCitizen                             0                    0  \n",
       "Partner                                  No                  Yes  \n",
       "Dependents                               No                  Yes  \n",
       "tenure                                   29                   70  \n",
       "PhoneService                            Yes                  Yes  \n",
       "MultipleLines                            No                   No  \n",
       "InternetService                         DSL                   No  \n",
       "OnlineSecurity                           No  No internet service  \n",
       "OnlineBackup                             No  No internet service  \n",
       "DeviceProtection                        Yes  No internet service  \n",
       "TechSupport                             Yes  No internet service  \n",
       "StreamingTV                             Yes  No internet service  \n",
       "StreamingMovies                         Yes  No internet service  \n",
       "Contract                           One year             Two year  \n",
       "PaperlessBilling                        Yes                  Yes  \n",
       "PaymentMethod     Bank transfer (automatic)         Mailed check  \n",
       "MonthlyCharges                        75.35                 19.2  \n",
       "TotalCharges                         2243.9               1401.4  \n",
       "Churn                                    No                   No  "
      ]
     },
     "execution_count": 18,
     "metadata": {},
     "output_type": "execute_result"
    }
   ],
   "source": [
    "#splitting the data train and test\n",
    "train, val  = train_test_split(data_train, train_size=0.8, random_state=55923, stratify=data_train['Churn'])\n",
    "print('The new shape of our data train is ', train.shape)\n",
    "train.head().T"
   ]
  },
  {
   "cell_type": "markdown",
   "metadata": {},
   "source": [
    "5.2 Traning pre-processing\n",
    "- There is one columns I dropped related to feature selection, that is gender column since in EDA we already conclude that whether the gender is female of male doesn't make any significant difference.\n",
    "- I use pipeline from sklearn to do pre-processing to make it easier.\n",
    "- I use the MixMaxScaler for scaling the numeric columsn there's skew column.\n",
    "- Then I use One-hot encoder for encoding the nominal categoric columns and using ordinal encoder to encoding the ordinal categoric columns.\n",
    "- Since there is no outliers in the numeric columns, there's no need to do capping.\n"
   ]
  },
  {
   "cell_type": "code",
   "execution_count": 19,
   "metadata": {},
   "outputs": [
    {
     "data": {
      "text/plain": [
       "Pipeline(steps=[('preprocess',\n",
       "                 ColumnTransformer(transformers=[('nom',\n",
       "                                                  Pipeline(steps=[('nominal_encode',\n",
       "                                                                   OneHotEncoder())]),\n",
       "                                                  array(['PaymentMethod'], dtype=object)),\n",
       "                                                 ('num',\n",
       "                                                  Pipeline(steps=[('scaling',\n",
       "                                                                   MinMaxScaler())]),\n",
       "                                                  array(['tenure', 'MonthlyCharges', 'TotalCharges'], dtype=object)),\n",
       "                                                 ('ordinal',\n",
       "                                                  Pipeline(steps=[('ordinal_encode',\n",
       "                                                                   OrdinalEncoder())]),\n",
       "                                                  array(['Partner', 'Dependents', 'PhoneService', 'MultipleLines',\n",
       "       'InternetService', 'OnlineSecurity', 'OnlineBackup',\n",
       "       'DeviceProtection', 'TechSupport', 'StreamingTV',\n",
       "       'StreamingMovies', 'Contract', 'PaperlessBilling'], dtype=object))]))])"
      ]
     },
     "execution_count": 19,
     "metadata": {},
     "output_type": "execute_result"
    }
   ],
   "source": [
    "#reassign the columns\n",
    "train_pipe_nominal = train[['PaymentMethod']]\n",
    "train_pipe_number = train[['tenure', 'MonthlyCharges', 'TotalCharges']]\n",
    "train_pipe_ordinal = train[['Partner', 'Dependents', 'PhoneService', 'MultipleLines', 'InternetService', 'OnlineSecurity', 'OnlineBackup', 'DeviceProtection', 'TechSupport', 'StreamingTV', 'StreamingMovies', 'Contract', 'PaperlessBilling']]\n",
    "\n",
    "#concatting the final X train for pipe line\n",
    "X_train_pipe_final = pd.concat([train_pipe_nominal,train_pipe_number,train_pipe_ordinal], axis=1)\n",
    "\n",
    "scaler = MinMaxScaler()\n",
    "onehot_encoder = OneHotEncoder()\n",
    "ordinal_encoder = OrdinalEncoder()\n",
    "\n",
    "num_col = train_pipe_number.columns.values\n",
    "nominal_cat_col = train_pipe_nominal.columns.values\n",
    "ordinal_col = train_pipe_ordinal.columns.values\n",
    "\n",
    "nominal_pipe = Pipeline([\n",
    "    ('nominal_encode',OneHotEncoder())])\n",
    "\n",
    "num_pipe = Pipeline([\n",
    "    ('scaling',MinMaxScaler())])\n",
    "\n",
    "ordinal_pipe = Pipeline([('ordinal_encode',OrdinalEncoder())])\n",
    "\n",
    "preprocess = ColumnTransformer([\n",
    "    ('nom',nominal_pipe,nominal_cat_col),\n",
    "    ('num',num_pipe,num_col),\n",
    "    ('ordinal',ordinal_pipe,ordinal_col)])\n",
    "    \n",
    "\n",
    "pipe = Pipeline(steps=[(\"preprocess\", preprocess)])\n",
    "\n",
    "pipe.fit(X_train_pipe_final)"
   ]
  },
  {
   "cell_type": "markdown",
   "metadata": {},
   "source": [
    "5.3 Finalizing X_train & assigning y_train\n",
    "- Here I use transform method to transform all the columns for X_train.\n",
    "- Then I assign the y_train as well.\n",
    "- Encoding the target value manually 0 and 1 in y_train"
   ]
  },
  {
   "cell_type": "code",
   "execution_count": 20,
   "metadata": {},
   "outputs": [],
   "source": [
    "transform_X_train = pipe.transform(X_train_pipe_final)\n",
    "X_train = pd.DataFrame(transform_X_train)\n",
    "\n",
    "#assigning y_train\n",
    "y_train = train['Churn'].replace({'No':0, 'Yes':1})"
   ]
  },
  {
   "cell_type": "markdown",
   "metadata": {},
   "source": [
    "# DATA VALIDATION PREPROCESSING"
   ]
  },
  {
   "cell_type": "markdown",
   "metadata": {},
   "source": [
    "5.4 Pre-processing for data validation\n",
    "- Here I do the same thing for the data validation, I exclude the gender column."
   ]
  },
  {
   "cell_type": "code",
   "execution_count": 21,
   "metadata": {},
   "outputs": [],
   "source": [
    "#reassign the columns\n",
    "val_pipe_nominal = val[['PaymentMethod']]\n",
    "val_pipe_number = val[['tenure', 'MonthlyCharges', 'TotalCharges']]\n",
    "val_pipe_ordinal = val[['Partner', 'Dependents', 'PhoneService', 'MultipleLines', 'InternetService', 'OnlineSecurity', 'OnlineBackup', 'DeviceProtection', 'TechSupport', 'StreamingTV', 'StreamingMovies', 'Contract', 'PaperlessBilling']]\n",
    "\n",
    "#concatting the final X train for pipe line\n",
    "val_X_pipe_final = pd.concat([val_pipe_nominal,val_pipe_number,val_pipe_ordinal], axis=1)"
   ]
  },
  {
   "cell_type": "markdown",
   "metadata": {},
   "source": [
    "5.5 Finalizing X_val & assigning y_val\n",
    "- Here I use transform method to transform all the columns for X_val, the same like train data.\n",
    "- Then I assign the y_val as well.\n",
    "- Encoding the target value manually 0 and 1 in y_val as well."
   ]
  },
  {
   "cell_type": "code",
   "execution_count": 22,
   "metadata": {},
   "outputs": [],
   "source": [
    "val_transform_X = pipe.transform(val_X_pipe_final)\n",
    "X_val = pd.DataFrame(val_transform_X)\n",
    "\n",
    "y_val = val['Churn'].replace({'No':0, 'Yes':1})"
   ]
  },
  {
   "cell_type": "markdown",
   "metadata": {},
   "source": [
    "5.6 Using Tensorflow Pipeline\n",
    "- To make this project even easier, I decide to use pipeline from tensorflow.\n",
    "- Pass the shuffle method to training data and set buffer size to 1.300.\n",
    "- For both of them I assign the batch to 64."
   ]
  },
  {
   "cell_type": "code",
   "execution_count": 23,
   "metadata": {},
   "outputs": [
    {
     "name": "stderr",
     "output_type": "stream",
     "text": [
      "2022-10-07 16:29:37.800813: I tensorflow/core/platform/cpu_feature_guard.cc:193] This TensorFlow binary is optimized with oneAPI Deep Neural Network Library (oneDNN) to use the following CPU instructions in performance-critical operations:  SSE4.1 SSE4.2 AVX AVX2 FMA\n",
      "To enable them in other operations, rebuild TensorFlow with the appropriate compiler flags.\n"
     ]
    }
   ],
   "source": [
    "# Setting tensorFlow pipeline\n",
    "# Train data\n",
    "train_tf_pipe = tf.data.Dataset.from_tensor_slices((X_train, y_train))\n",
    "train_tf_pipe = train_tf_pipe.shuffle(buffer_size = 1300).batch(64)\n",
    "\n",
    "# Validation data\n",
    "val_tf_pipe = tf.data.Dataset.from_tensor_slices((X_val, y_val))\n",
    "val_tf_pipe = val_tf_pipe.batch(64)"
   ]
  },
  {
   "cell_type": "markdown",
   "metadata": {},
   "source": [
    "5.7 Getting input shape\n",
    "- Here I try to get input shape from the X_train shape method, so later we can pass this shape for modeling."
   ]
  },
  {
   "cell_type": "code",
   "execution_count": 24,
   "metadata": {},
   "outputs": [
    {
     "data": {
      "text/plain": [
       "20"
      ]
     },
     "execution_count": 24,
     "metadata": {},
     "output_type": "execute_result"
    }
   ],
   "source": [
    "input_shape = X_train.shape[1]\n",
    "input_shape"
   ]
  },
  {
   "cell_type": "markdown",
   "metadata": {},
   "source": [
    "____"
   ]
  },
  {
   "cell_type": "markdown",
   "metadata": {},
   "source": [
    "# 6. SEQUENTIAL MODEL DEFINITION "
   ]
  },
  {
   "cell_type": "markdown",
   "metadata": {},
   "source": [
    "6.1 Defining the Sequential Model\n",
    "- Here I use 1 hidden layer.\n",
    "- For the activation function here I use relu for input and hidden layer, and sigmoid for output since it's a classification case.\n",
    "- To complie, I use adam optimizer.\n",
    "- Loss function I use binary cross entropy since this is a bincary classification.\n",
    "- And for the metric I use accuracy.\n"
   ]
  },
  {
   "cell_type": "code",
   "execution_count": 34,
   "metadata": {},
   "outputs": [],
   "source": [
    "model_sequential = Sequential()\n",
    "model_sequential.add(Dense(input_shape, activation='relu' ,input_shape=(input_shape,)))\n",
    "model_sequential.add(Dense(46, activation='relu'))\n",
    "model_sequential.add(Dense(1, activation='sigmoid'))\n",
    "model_sequential.compile(optimizer='adam', loss='binary_crossentropy', metrics='accuracy')"
   ]
  },
  {
   "cell_type": "markdown",
   "metadata": {},
   "source": [
    "____"
   ]
  },
  {
   "cell_type": "markdown",
   "metadata": {},
   "source": [
    "# 7. SEQUENTIAL MODEL EVALUATION"
   ]
  },
  {
   "cell_type": "markdown",
   "metadata": {},
   "source": [
    "7.1 Fitting the model\n",
    "- Fitting the model with train, and use the validation data.\n",
    "- Set the batch_size to 64 to minimize the burden of the memory.\n",
    "- Set the epoch to 20, just to see how the model works. Later we can adjust this to be bigger or smaller."
   ]
  },
  {
   "cell_type": "code",
   "execution_count": 35,
   "metadata": {},
   "outputs": [
    {
     "name": "stdout",
     "output_type": "stream",
     "text": [
      "Epoch 1/20\n",
      "71/71 [==============================] - 1s 3ms/step - loss: 0.5749 - accuracy: 0.6926 - val_loss: 0.4791 - val_accuracy: 0.7476\n",
      "Epoch 2/20\n",
      "71/71 [==============================] - 0s 1ms/step - loss: 0.4625 - accuracy: 0.7677 - val_loss: 0.4249 - val_accuracy: 0.8089\n",
      "Epoch 3/20\n",
      "71/71 [==============================] - 0s 1ms/step - loss: 0.4452 - accuracy: 0.7784 - val_loss: 0.4199 - val_accuracy: 0.8080\n",
      "Epoch 4/20\n",
      "71/71 [==============================] - 0s 1ms/step - loss: 0.4389 - accuracy: 0.7828 - val_loss: 0.4165 - val_accuracy: 0.8107\n",
      "Epoch 5/20\n",
      "71/71 [==============================] - 0s 1ms/step - loss: 0.4352 - accuracy: 0.7884 - val_loss: 0.4158 - val_accuracy: 0.8044\n",
      "Epoch 6/20\n",
      "71/71 [==============================] - 0s 1ms/step - loss: 0.4318 - accuracy: 0.7891 - val_loss: 0.4156 - val_accuracy: 0.8089\n",
      "Epoch 7/20\n",
      "71/71 [==============================] - 0s 1ms/step - loss: 0.4277 - accuracy: 0.7906 - val_loss: 0.4192 - val_accuracy: 0.8116\n",
      "Epoch 8/20\n",
      "71/71 [==============================] - 0s 1ms/step - loss: 0.4253 - accuracy: 0.7968 - val_loss: 0.4128 - val_accuracy: 0.8098\n",
      "Epoch 9/20\n",
      "71/71 [==============================] - 0s 1ms/step - loss: 0.4228 - accuracy: 0.7975 - val_loss: 0.4129 - val_accuracy: 0.8116\n",
      "Epoch 10/20\n",
      "71/71 [==============================] - 0s 1ms/step - loss: 0.4211 - accuracy: 0.7973 - val_loss: 0.4136 - val_accuracy: 0.8062\n",
      "Epoch 11/20\n",
      "71/71 [==============================] - 0s 1ms/step - loss: 0.4194 - accuracy: 0.7968 - val_loss: 0.4169 - val_accuracy: 0.8116\n",
      "Epoch 12/20\n",
      "71/71 [==============================] - 0s 1ms/step - loss: 0.4188 - accuracy: 0.7991 - val_loss: 0.4162 - val_accuracy: 0.8107\n",
      "Epoch 13/20\n",
      "71/71 [==============================] - 0s 1ms/step - loss: 0.4169 - accuracy: 0.7997 - val_loss: 0.4136 - val_accuracy: 0.8071\n",
      "Epoch 14/20\n",
      "71/71 [==============================] - 0s 1ms/step - loss: 0.4161 - accuracy: 0.8011 - val_loss: 0.4198 - val_accuracy: 0.8116\n",
      "Epoch 15/20\n",
      "71/71 [==============================] - 0s 1ms/step - loss: 0.4158 - accuracy: 0.8020 - val_loss: 0.4142 - val_accuracy: 0.8071\n",
      "Epoch 16/20\n",
      "71/71 [==============================] - 0s 1ms/step - loss: 0.4140 - accuracy: 0.8020 - val_loss: 0.4159 - val_accuracy: 0.8089\n",
      "Epoch 17/20\n",
      "71/71 [==============================] - 0s 1ms/step - loss: 0.4130 - accuracy: 0.8024 - val_loss: 0.4152 - val_accuracy: 0.8071\n",
      "Epoch 18/20\n",
      "71/71 [==============================] - 0s 1ms/step - loss: 0.4118 - accuracy: 0.7997 - val_loss: 0.4151 - val_accuracy: 0.8098\n",
      "Epoch 19/20\n",
      "71/71 [==============================] - 0s 1ms/step - loss: 0.4121 - accuracy: 0.8015 - val_loss: 0.4154 - val_accuracy: 0.8053\n",
      "Epoch 20/20\n",
      "71/71 [==============================] - 0s 1ms/step - loss: 0.4105 - accuracy: 0.8046 - val_loss: 0.4162 - val_accuracy: 0.8062\n"
     ]
    }
   ],
   "source": [
    "history_sequential = model_sequential.fit(train_tf_pipe, epochs=20, batch_size=64, validation_data=(val_tf_pipe))"
   ]
  },
  {
   "cell_type": "markdown",
   "metadata": {},
   "source": [
    "7.2 Model performance evaluation\n",
    "- Both the train and val data loss are decreasing form beginning to midle epoch, but the vall loss is a bit increasing in the last epoch.\n",
    "- The accuracy for both train and val are increasing from beginning to last epoch."
   ]
  },
  {
   "cell_type": "code",
   "execution_count": 36,
   "metadata": {},
   "outputs": [
    {
     "data": {
      "image/png": "[encoded data removed]",
      "text/plain": [
       "<Figure size 1152x360 with 2 Axes>"
      ]
     },
     "metadata": {},
     "output_type": "display_data"
    }
   ],
   "source": [
    "epoch=20\n",
    "\n",
    "fig, ax = plt.subplots(ncols=2,figsize=(16,5))\n",
    "ax[0].plot(range(1,epoch+1),history_sequential.history['loss'],label='train_loss')\n",
    "ax[0].plot(range(1,epoch+1),history_sequential.history['val_loss'],label='val_loss')\n",
    "ax[0].set_title('Loss')\n",
    "ax[0].legend()\n",
    "ax[0].set_xlabel('Epoch')\n",
    "\n",
    "ax[1].plot(range(1,epoch+1),history_sequential.history['accuracy'],label='train_accuracy')\n",
    "ax[1].plot(range(1,epoch+1),history_sequential.history['val_accuracy'],label='val_accuracy')\n",
    "ax[1].set_title('Accuracy')\n",
    "ax[1].legend()\n",
    "ax[1].set_xlabel('Epoch')\n",
    "\n",
    "plt.show()"
   ]
  },
  {
   "cell_type": "markdown",
   "metadata": {},
   "source": [
    "___"
   ]
  },
  {
   "cell_type": "markdown",
   "metadata": {},
   "source": [
    "# 8. SEQUENTIAL MODEL IMPROVEMENT"
   ]
  },
  {
   "cell_type": "markdown",
   "metadata": {},
   "source": [
    "8.1 Defining the improvement for Sequential Model\n",
    "- Here I add 4 for hidden layers, the total hidden layers now become 5.\n",
    "- The number of neuron in each hiddren layer I set to increasing from input later and then decreased as to approach the output layer. With this configuration, we hope that the weighl calculation of each neuron will perform better.\n",
    "- In all hidden layers I set the activation function to be relu, the same like default one.\n",
    "- However, for the optimizer I will be using SGD with 0.01 learning rate in hope that the model will find the optimum way in its calculation when we fit it to the data.\n",
    "- Setting the epoc to 100, so we can see how the model perform in the bigger picture."
   ]
  },
  {
   "cell_type": "code",
   "execution_count": 37,
   "metadata": {},
   "outputs": [
    {
     "name": "stdout",
     "output_type": "stream",
     "text": [
      "Epoch 1/100\n",
      "71/71 [==============================] - 1s 3ms/step - loss: 0.6553 - accuracy: 0.6866 - val_loss: 0.6149 - val_accuracy: 0.7342\n",
      "Epoch 2/100\n",
      "71/71 [==============================] - 0s 2ms/step - loss: 0.5889 - accuracy: 0.7342 - val_loss: 0.5662 - val_accuracy: 0.7342\n",
      "Epoch 3/100\n",
      "71/71 [==============================] - 0s 2ms/step - loss: 0.5536 - accuracy: 0.7342 - val_loss: 0.5439 - val_accuracy: 0.7342\n",
      "Epoch 4/100\n",
      "71/71 [==============================] - 0s 2ms/step - loss: 0.5372 - accuracy: 0.7342 - val_loss: 0.5303 - val_accuracy: 0.7342\n",
      "Epoch 5/100\n",
      "71/71 [==============================] - 0s 2ms/step - loss: 0.5249 - accuracy: 0.7342 - val_loss: 0.5178 - val_accuracy: 0.7342\n",
      "Epoch 6/100\n",
      "71/71 [==============================] - 0s 2ms/step - loss: 0.5125 - accuracy: 0.7342 - val_loss: 0.5039 - val_accuracy: 0.7342\n",
      "Epoch 7/100\n",
      "71/71 [==============================] - 0s 2ms/step - loss: 0.4998 - accuracy: 0.7342 - val_loss: 0.4905 - val_accuracy: 0.7342\n",
      "Epoch 8/100\n",
      "71/71 [==============================] - 0s 2ms/step - loss: 0.4883 - accuracy: 0.7342 - val_loss: 0.4785 - val_accuracy: 0.7342\n",
      "Epoch 9/100\n",
      "71/71 [==============================] - 0s 2ms/step - loss: 0.4793 - accuracy: 0.7342 - val_loss: 0.4704 - val_accuracy: 0.7342\n",
      "Epoch 10/100\n",
      "71/71 [==============================] - 0s 2ms/step - loss: 0.4727 - accuracy: 0.7446 - val_loss: 0.4627 - val_accuracy: 0.7564\n",
      "Epoch 11/100\n",
      "71/71 [==============================] - 0s 2ms/step - loss: 0.4673 - accuracy: 0.7582 - val_loss: 0.4581 - val_accuracy: 0.7698\n",
      "Epoch 12/100\n",
      "71/71 [==============================] - 0s 2ms/step - loss: 0.4640 - accuracy: 0.7648 - val_loss: 0.4534 - val_accuracy: 0.7733\n",
      "Epoch 13/100\n",
      "71/71 [==============================] - 0s 2ms/step - loss: 0.4611 - accuracy: 0.7708 - val_loss: 0.4508 - val_accuracy: 0.7742\n",
      "Epoch 14/100\n",
      "71/71 [==============================] - 0s 2ms/step - loss: 0.4590 - accuracy: 0.7744 - val_loss: 0.4501 - val_accuracy: 0.7733\n",
      "Epoch 15/100\n",
      "71/71 [==============================] - 0s 2ms/step - loss: 0.4571 - accuracy: 0.7775 - val_loss: 0.4460 - val_accuracy: 0.7840\n",
      "Epoch 16/100\n",
      "71/71 [==============================] - 0s 2ms/step - loss: 0.4555 - accuracy: 0.7755 - val_loss: 0.4444 - val_accuracy: 0.7902\n",
      "Epoch 17/100\n",
      "71/71 [==============================] - 0s 2ms/step - loss: 0.4541 - accuracy: 0.7788 - val_loss: 0.4432 - val_accuracy: 0.7893\n",
      "Epoch 18/100\n",
      "71/71 [==============================] - 0s 2ms/step - loss: 0.4532 - accuracy: 0.7777 - val_loss: 0.4419 - val_accuracy: 0.7884\n",
      "Epoch 19/100\n",
      "71/71 [==============================] - 0s 2ms/step - loss: 0.4519 - accuracy: 0.7762 - val_loss: 0.4408 - val_accuracy: 0.7929\n",
      "Epoch 20/100\n",
      "71/71 [==============================] - 0s 2ms/step - loss: 0.4507 - accuracy: 0.7784 - val_loss: 0.4394 - val_accuracy: 0.7884\n",
      "Epoch 21/100\n",
      "71/71 [==============================] - 0s 2ms/step - loss: 0.4496 - accuracy: 0.7775 - val_loss: 0.4383 - val_accuracy: 0.7938\n",
      "Epoch 22/100\n",
      "71/71 [==============================] - 0s 2ms/step - loss: 0.4491 - accuracy: 0.7771 - val_loss: 0.4373 - val_accuracy: 0.7982\n",
      "Epoch 23/100\n",
      "71/71 [==============================] - 0s 2ms/step - loss: 0.4476 - accuracy: 0.7795 - val_loss: 0.4370 - val_accuracy: 0.7947\n",
      "Epoch 24/100\n",
      "71/71 [==============================] - 0s 2ms/step - loss: 0.4466 - accuracy: 0.7768 - val_loss: 0.4356 - val_accuracy: 0.7973\n",
      "Epoch 25/100\n",
      "71/71 [==============================] - 0s 2ms/step - loss: 0.4461 - accuracy: 0.7800 - val_loss: 0.4362 - val_accuracy: 0.7929\n",
      "Epoch 26/100\n",
      "71/71 [==============================] - 0s 2ms/step - loss: 0.4450 - accuracy: 0.7793 - val_loss: 0.4339 - val_accuracy: 0.7982\n",
      "Epoch 27/100\n",
      "71/71 [==============================] - 0s 2ms/step - loss: 0.4444 - accuracy: 0.7797 - val_loss: 0.4336 - val_accuracy: 0.8000\n",
      "Epoch 28/100\n",
      "71/71 [==============================] - 0s 2ms/step - loss: 0.4436 - accuracy: 0.7791 - val_loss: 0.4330 - val_accuracy: 0.8000\n",
      "Epoch 29/100\n",
      "71/71 [==============================] - 0s 2ms/step - loss: 0.4429 - accuracy: 0.7800 - val_loss: 0.4323 - val_accuracy: 0.7929\n",
      "Epoch 30/100\n",
      "71/71 [==============================] - 0s 2ms/step - loss: 0.4419 - accuracy: 0.7808 - val_loss: 0.4313 - val_accuracy: 0.8027\n",
      "Epoch 31/100\n",
      "71/71 [==============================] - 0s 2ms/step - loss: 0.4413 - accuracy: 0.7824 - val_loss: 0.4308 - val_accuracy: 0.8036\n",
      "Epoch 32/100\n",
      "71/71 [==============================] - 0s 2ms/step - loss: 0.4406 - accuracy: 0.7844 - val_loss: 0.4299 - val_accuracy: 0.8018\n",
      "Epoch 33/100\n",
      "71/71 [==============================] - 0s 2ms/step - loss: 0.4399 - accuracy: 0.7824 - val_loss: 0.4294 - val_accuracy: 0.8044\n",
      "Epoch 34/100\n",
      "71/71 [==============================] - 0s 2ms/step - loss: 0.4392 - accuracy: 0.7826 - val_loss: 0.4286 - val_accuracy: 0.8018\n",
      "Epoch 35/100\n",
      "71/71 [==============================] - 0s 2ms/step - loss: 0.4385 - accuracy: 0.7851 - val_loss: 0.4285 - val_accuracy: 0.8009\n",
      "Epoch 36/100\n",
      "71/71 [==============================] - 0s 2ms/step - loss: 0.4380 - accuracy: 0.7842 - val_loss: 0.4306 - val_accuracy: 0.8009\n",
      "Epoch 37/100\n",
      "71/71 [==============================] - 0s 2ms/step - loss: 0.4379 - accuracy: 0.7853 - val_loss: 0.4280 - val_accuracy: 0.8018\n",
      "Epoch 38/100\n",
      "71/71 [==============================] - 0s 2ms/step - loss: 0.4362 - accuracy: 0.7853 - val_loss: 0.4265 - val_accuracy: 0.8018\n",
      "Epoch 39/100\n",
      "71/71 [==============================] - 0s 2ms/step - loss: 0.4357 - accuracy: 0.7866 - val_loss: 0.4261 - val_accuracy: 0.7991\n",
      "Epoch 40/100\n",
      "71/71 [==============================] - 0s 2ms/step - loss: 0.4350 - accuracy: 0.7853 - val_loss: 0.4260 - val_accuracy: 0.8009\n",
      "Epoch 41/100\n",
      "71/71 [==============================] - 0s 2ms/step - loss: 0.4339 - accuracy: 0.7884 - val_loss: 0.4264 - val_accuracy: 0.8018\n",
      "Epoch 42/100\n",
      "71/71 [==============================] - 0s 2ms/step - loss: 0.4334 - accuracy: 0.7895 - val_loss: 0.4276 - val_accuracy: 0.8089\n",
      "Epoch 43/100\n",
      "71/71 [==============================] - 0s 2ms/step - loss: 0.4336 - accuracy: 0.7864 - val_loss: 0.4247 - val_accuracy: 0.8009\n",
      "Epoch 44/100\n",
      "71/71 [==============================] - 0s 2ms/step - loss: 0.4328 - accuracy: 0.7877 - val_loss: 0.4245 - val_accuracy: 0.8000\n",
      "Epoch 45/100\n",
      "71/71 [==============================] - 0s 2ms/step - loss: 0.4318 - accuracy: 0.7880 - val_loss: 0.4282 - val_accuracy: 0.7973\n",
      "Epoch 46/100\n",
      "71/71 [==============================] - 0s 2ms/step - loss: 0.4321 - accuracy: 0.7895 - val_loss: 0.4237 - val_accuracy: 0.8036\n",
      "Epoch 47/100\n",
      "71/71 [==============================] - 0s 2ms/step - loss: 0.4306 - accuracy: 0.7893 - val_loss: 0.4236 - val_accuracy: 0.8036\n",
      "Epoch 48/100\n",
      "71/71 [==============================] - 0s 2ms/step - loss: 0.4300 - accuracy: 0.7893 - val_loss: 0.4249 - val_accuracy: 0.8027\n",
      "Epoch 49/100\n",
      "71/71 [==============================] - 0s 2ms/step - loss: 0.4299 - accuracy: 0.7902 - val_loss: 0.4228 - val_accuracy: 0.8071\n",
      "Epoch 50/100\n",
      "71/71 [==============================] - 0s 2ms/step - loss: 0.4293 - accuracy: 0.7913 - val_loss: 0.4225 - val_accuracy: 0.8036\n",
      "Epoch 51/100\n",
      "71/71 [==============================] - 0s 2ms/step - loss: 0.4285 - accuracy: 0.7913 - val_loss: 0.4231 - val_accuracy: 0.8027\n",
      "Epoch 52/100\n",
      "71/71 [==============================] - 0s 2ms/step - loss: 0.4279 - accuracy: 0.7920 - val_loss: 0.4228 - val_accuracy: 0.8027\n",
      "Epoch 53/100\n",
      "71/71 [==============================] - 0s 2ms/step - loss: 0.4270 - accuracy: 0.7928 - val_loss: 0.4249 - val_accuracy: 0.8062\n",
      "Epoch 54/100\n",
      "71/71 [==============================] - 0s 2ms/step - loss: 0.4273 - accuracy: 0.7897 - val_loss: 0.4217 - val_accuracy: 0.8027\n",
      "Epoch 55/100\n",
      "71/71 [==============================] - 0s 2ms/step - loss: 0.4265 - accuracy: 0.7911 - val_loss: 0.4244 - val_accuracy: 0.8009\n",
      "Epoch 56/100\n",
      "71/71 [==============================] - 0s 2ms/step - loss: 0.4257 - accuracy: 0.7944 - val_loss: 0.4213 - val_accuracy: 0.8062\n",
      "Epoch 57/100\n",
      "71/71 [==============================] - 0s 2ms/step - loss: 0.4255 - accuracy: 0.7975 - val_loss: 0.4210 - val_accuracy: 0.8053\n",
      "Epoch 58/100\n",
      "71/71 [==============================] - 0s 2ms/step - loss: 0.4252 - accuracy: 0.7917 - val_loss: 0.4210 - val_accuracy: 0.8053\n",
      "Epoch 59/100\n",
      "71/71 [==============================] - 0s 2ms/step - loss: 0.4240 - accuracy: 0.7937 - val_loss: 0.4240 - val_accuracy: 0.8018\n",
      "Epoch 60/100\n",
      "71/71 [==============================] - 0s 2ms/step - loss: 0.4244 - accuracy: 0.7953 - val_loss: 0.4219 - val_accuracy: 0.8062\n",
      "Epoch 61/100\n",
      "71/71 [==============================] - 0s 2ms/step - loss: 0.4235 - accuracy: 0.7931 - val_loss: 0.4224 - val_accuracy: 0.8036\n",
      "Epoch 62/100\n",
      "71/71 [==============================] - 0s 2ms/step - loss: 0.4231 - accuracy: 0.7962 - val_loss: 0.4217 - val_accuracy: 0.8062\n",
      "Epoch 63/100\n",
      "71/71 [==============================] - 0s 2ms/step - loss: 0.4225 - accuracy: 0.7962 - val_loss: 0.4211 - val_accuracy: 0.8080\n",
      "Epoch 64/100\n",
      "71/71 [==============================] - 0s 2ms/step - loss: 0.4227 - accuracy: 0.7966 - val_loss: 0.4205 - val_accuracy: 0.8044\n",
      "Epoch 65/100\n",
      "71/71 [==============================] - 0s 2ms/step - loss: 0.4217 - accuracy: 0.7968 - val_loss: 0.4268 - val_accuracy: 0.8053\n",
      "Epoch 66/100\n",
      "71/71 [==============================] - 0s 2ms/step - loss: 0.4215 - accuracy: 0.7975 - val_loss: 0.4209 - val_accuracy: 0.8062\n",
      "Epoch 67/100\n",
      "71/71 [==============================] - 0s 2ms/step - loss: 0.4205 - accuracy: 0.7948 - val_loss: 0.4198 - val_accuracy: 0.8053\n",
      "Epoch 68/100\n",
      "71/71 [==============================] - 0s 2ms/step - loss: 0.4204 - accuracy: 0.7986 - val_loss: 0.4201 - val_accuracy: 0.8098\n",
      "Epoch 69/100\n",
      "71/71 [==============================] - 0s 2ms/step - loss: 0.4202 - accuracy: 0.7948 - val_loss: 0.4220 - val_accuracy: 0.8062\n",
      "Epoch 70/100\n",
      "71/71 [==============================] - 0s 2ms/step - loss: 0.4192 - accuracy: 0.7964 - val_loss: 0.4207 - val_accuracy: 0.8080\n",
      "Epoch 71/100\n",
      "71/71 [==============================] - 0s 2ms/step - loss: 0.4191 - accuracy: 0.7946 - val_loss: 0.4198 - val_accuracy: 0.8062\n",
      "Epoch 72/100\n",
      "71/71 [==============================] - 0s 2ms/step - loss: 0.4180 - accuracy: 0.7980 - val_loss: 0.4202 - val_accuracy: 0.8053\n",
      "Epoch 73/100\n",
      "71/71 [==============================] - 0s 2ms/step - loss: 0.4182 - accuracy: 0.7968 - val_loss: 0.4201 - val_accuracy: 0.8071\n",
      "Epoch 74/100\n",
      "71/71 [==============================] - 0s 2ms/step - loss: 0.4164 - accuracy: 0.7973 - val_loss: 0.4197 - val_accuracy: 0.8062\n",
      "Epoch 75/100\n",
      "71/71 [==============================] - 0s 2ms/step - loss: 0.4167 - accuracy: 0.7964 - val_loss: 0.4229 - val_accuracy: 0.8044\n",
      "Epoch 76/100\n",
      "71/71 [==============================] - 0s 2ms/step - loss: 0.4174 - accuracy: 0.8004 - val_loss: 0.4243 - val_accuracy: 0.8027\n",
      "Epoch 77/100\n",
      "71/71 [==============================] - 0s 2ms/step - loss: 0.4163 - accuracy: 0.7975 - val_loss: 0.4201 - val_accuracy: 0.8071\n",
      "Epoch 78/100\n",
      "71/71 [==============================] - 0s 2ms/step - loss: 0.4153 - accuracy: 0.7993 - val_loss: 0.4199 - val_accuracy: 0.8053\n",
      "Epoch 79/100\n",
      "71/71 [==============================] - 0s 2ms/step - loss: 0.4161 - accuracy: 0.7966 - val_loss: 0.4238 - val_accuracy: 0.8044\n",
      "Epoch 80/100\n",
      "71/71 [==============================] - 0s 2ms/step - loss: 0.4148 - accuracy: 0.7977 - val_loss: 0.4216 - val_accuracy: 0.8080\n",
      "Epoch 81/100\n",
      "71/71 [==============================] - 0s 2ms/step - loss: 0.4145 - accuracy: 0.8000 - val_loss: 0.4217 - val_accuracy: 0.8089\n",
      "Epoch 82/100\n",
      "71/71 [==============================] - 0s 2ms/step - loss: 0.4139 - accuracy: 0.7973 - val_loss: 0.4196 - val_accuracy: 0.8053\n",
      "Epoch 83/100\n",
      "71/71 [==============================] - 0s 2ms/step - loss: 0.4139 - accuracy: 0.7995 - val_loss: 0.4205 - val_accuracy: 0.8018\n",
      "Epoch 84/100\n",
      "71/71 [==============================] - 0s 2ms/step - loss: 0.4138 - accuracy: 0.7975 - val_loss: 0.4216 - val_accuracy: 0.8080\n",
      "Epoch 85/100\n",
      "71/71 [==============================] - 0s 2ms/step - loss: 0.4128 - accuracy: 0.8033 - val_loss: 0.4226 - val_accuracy: 0.8062\n",
      "Epoch 86/100\n",
      "71/71 [==============================] - 0s 2ms/step - loss: 0.4119 - accuracy: 0.7988 - val_loss: 0.4230 - val_accuracy: 0.7982\n",
      "Epoch 87/100\n",
      "71/71 [==============================] - 0s 2ms/step - loss: 0.4121 - accuracy: 0.8004 - val_loss: 0.4207 - val_accuracy: 0.8036\n",
      "Epoch 88/100\n",
      "71/71 [==============================] - 0s 2ms/step - loss: 0.4122 - accuracy: 0.8008 - val_loss: 0.4213 - val_accuracy: 0.8071\n",
      "Epoch 89/100\n",
      "71/71 [==============================] - 0s 2ms/step - loss: 0.4113 - accuracy: 0.8004 - val_loss: 0.4208 - val_accuracy: 0.8036\n",
      "Epoch 90/100\n",
      "71/71 [==============================] - 0s 2ms/step - loss: 0.4116 - accuracy: 0.8013 - val_loss: 0.4263 - val_accuracy: 0.8044\n",
      "Epoch 91/100\n",
      "71/71 [==============================] - 0s 2ms/step - loss: 0.4102 - accuracy: 0.8006 - val_loss: 0.4228 - val_accuracy: 0.8018\n",
      "Epoch 92/100\n",
      "71/71 [==============================] - 0s 2ms/step - loss: 0.4104 - accuracy: 0.8040 - val_loss: 0.4218 - val_accuracy: 0.8053\n",
      "Epoch 93/100\n",
      "71/71 [==============================] - 0s 2ms/step - loss: 0.4095 - accuracy: 0.8017 - val_loss: 0.4224 - val_accuracy: 0.8027\n",
      "Epoch 94/100\n",
      "71/71 [==============================] - 0s 2ms/step - loss: 0.4093 - accuracy: 0.8008 - val_loss: 0.4230 - val_accuracy: 0.7973\n",
      "Epoch 95/100\n",
      "71/71 [==============================] - 0s 2ms/step - loss: 0.4090 - accuracy: 0.8028 - val_loss: 0.4231 - val_accuracy: 0.8053\n",
      "Epoch 96/100\n",
      "71/71 [==============================] - 0s 2ms/step - loss: 0.4081 - accuracy: 0.8015 - val_loss: 0.4224 - val_accuracy: 0.7991\n",
      "Epoch 97/100\n",
      "71/71 [==============================] - 0s 2ms/step - loss: 0.4089 - accuracy: 0.8008 - val_loss: 0.4212 - val_accuracy: 0.8018\n",
      "Epoch 98/100\n",
      "71/71 [==============================] - 0s 2ms/step - loss: 0.4081 - accuracy: 0.8024 - val_loss: 0.4219 - val_accuracy: 0.8027\n",
      "Epoch 99/100\n",
      "71/71 [==============================] - 0s 2ms/step - loss: 0.4080 - accuracy: 0.8037 - val_loss: 0.4247 - val_accuracy: 0.8027\n",
      "Epoch 100/100\n",
      "71/71 [==============================] - 0s 2ms/step - loss: 0.4073 - accuracy: 0.8022 - val_loss: 0.4228 - val_accuracy: 0.8027\n"
     ]
    },
    {
     "data": {
      "text/plain": [
       "<keras.callbacks.History at 0x7f7e91eccfa0>"
      ]
     },
     "execution_count": 37,
     "metadata": {},
     "output_type": "execute_result"
    }
   ],
   "source": [
    "model_sequential_improvement = Sequential()\n",
    "model_sequential_improvement.add(Dense(input_shape, activation='relu' ,input_shape=(input_shape,)))\n",
    "model_sequential_improvement.add(Dense(46, activation='relu'))\n",
    "model_sequential_improvement.add(Dense(92, activation='relu'))\n",
    "model_sequential_improvement.add(Dense(184, activation='relu'))\n",
    "model_sequential_improvement.add(Dense(92, activation='relu'))\n",
    "model_sequential_improvement.add(Dense(46, activation='relu'))\n",
    "model_sequential_improvement.add(Dense(1, activation='sigmoid'))\n",
    "model_sequential_improvement.compile(optimizer=tf.keras.optimizers.SGD(learning_rate=0.01), loss='binary_crossentropy', metrics='accuracy')\n",
    "model_sequential_improvement.fit(train_tf_pipe, epochs=100, batch_size=64, validation_data=(val_tf_pipe))"
   ]
  },
  {
   "cell_type": "markdown",
   "metadata": {},
   "source": [
    "____"
   ]
  },
  {
   "cell_type": "markdown",
   "metadata": {},
   "source": [
    "# 9. IMPROVEMENT SEQUENTIAL MODEL EVALUATION"
   ]
  },
  {
   "cell_type": "markdown",
   "metadata": {},
   "source": [
    "9.1 Evaluation of Improved Sequential Model\n",
    "- In loss graph, we can see both train and validation loss are decreasing. Train keep decreasing but the validation somehow stagnan in 0.425.\n",
    "- In accuracy graph, we can see that the accuracy are increasing and in the last epoch both of them seems stable in the last epoch.\n",
    "- We can say that the model is a bit improved."
   ]
  },
  {
   "cell_type": "code",
   "execution_count": 38,
   "metadata": {},
   "outputs": [
    {
     "data": {
      "image/png": "[encoded data removed]",
      "text/plain": [
       "<Figure size 1152x360 with 2 Axes>"
      ]
     },
     "metadata": {},
     "output_type": "display_data"
    }
   ],
   "source": [
    "epoch=100\n",
    "\n",
    "fig, ax = plt.subplots(ncols=2,figsize=(16,5))\n",
    "ax[0].plot(range(1,epoch+1),model_sequential_improvement.history.history['loss'],label='train_loss')\n",
    "ax[0].plot(range(1,epoch+1),model_sequential_improvement.history.history['val_loss'],label='val_loss')\n",
    "ax[0].set_title('Loss')\n",
    "ax[0].legend()\n",
    "ax[0].set_xlabel('Epoch')\n",
    "\n",
    "ax[1].plot(range(1,epoch+1),model_sequential_improvement.history.history['accuracy'],label='train_accuracy')\n",
    "ax[1].plot(range(1,epoch+1),model_sequential_improvement.history.history['val_accuracy'],label='val_accuracy')\n",
    "ax[1].set_title('Accuracy')\n",
    "ax[1].legend()\n",
    "ax[1].set_xlabel('Epoch')\n",
    "\n",
    "plt.show()"
   ]
  },
  {
   "cell_type": "markdown",
   "metadata": {},
   "source": [
    "___"
   ]
  },
  {
   "cell_type": "markdown",
   "metadata": {},
   "source": [
    "# 10. FUNCTIONAL MODEL DEFINITON"
   ]
  },
  {
   "cell_type": "markdown",
   "metadata": {},
   "source": [
    "10.1 Functional Model Definition\n",
    "- Here I use 4 hidden layers.\n",
    "- I set the optimizer to Adam since and metrics accuracy the same with default model of sequential.\n",
    "- Activation functions are relu for the layers, unless the output we use sigmoid."
   ]
  },
  {
   "cell_type": "code",
   "execution_count": 39,
   "metadata": {},
   "outputs": [],
   "source": [
    "input_layer = Input(shape=(input_shape,))\n",
    "layers_1 = Dense(44, activation='relu')(input_layer)\n",
    "layers_2 = Dense(88, activation='relu')(layers_1)\n",
    "layers_3 = Dense(44, activation='relu')(layers_2)\n",
    "layers_4 = Dense(22, activation='relu')(layers_3)\n",
    "output = Dense(1, activation='sigmoid')(layers_4)\n",
    "\n",
    "model_functional = Model(inputs=input_layer, outputs=output)\n",
    "model_functional.compile(loss='binary_crossentropy',optimizer='Adam',metrics='accuracy')"
   ]
  },
  {
   "cell_type": "markdown",
   "metadata": {},
   "source": [
    "____"
   ]
  },
  {
   "cell_type": "markdown",
   "metadata": {},
   "source": [
    "# 11. FUNCTIONAL MODEL EVALUATION"
   ]
  },
  {
   "cell_type": "markdown",
   "metadata": {},
   "source": [
    "11. Fitting the model\n",
    "- Here I use 20 epoch just for default standard model, the same with sequential.\n",
    "- Set batch size to 64, in order to minimize the work of our memory."
   ]
  },
  {
   "cell_type": "code",
   "execution_count": 40,
   "metadata": {},
   "outputs": [
    {
     "name": "stdout",
     "output_type": "stream",
     "text": [
      "Epoch 1/20\n",
      "71/71 [==============================] - 1s 3ms/step - loss: 0.4833 - accuracy: 0.7548 - val_loss: 0.4370 - val_accuracy: 0.7947\n",
      "Epoch 2/20\n",
      "71/71 [==============================] - 0s 2ms/step - loss: 0.4502 - accuracy: 0.7802 - val_loss: 0.4269 - val_accuracy: 0.8062\n",
      "Epoch 3/20\n",
      "71/71 [==============================] - 0s 1ms/step - loss: 0.4386 - accuracy: 0.7837 - val_loss: 0.4194 - val_accuracy: 0.8071\n",
      "Epoch 4/20\n",
      "71/71 [==============================] - 0s 1ms/step - loss: 0.4297 - accuracy: 0.7857 - val_loss: 0.4167 - val_accuracy: 0.8098\n",
      "Epoch 5/20\n",
      "71/71 [==============================] - 0s 1ms/step - loss: 0.4226 - accuracy: 0.7980 - val_loss: 0.4166 - val_accuracy: 0.8160\n",
      "Epoch 6/20\n",
      "71/71 [==============================] - 0s 2ms/step - loss: 0.4165 - accuracy: 0.7964 - val_loss: 0.4169 - val_accuracy: 0.8071\n",
      "Epoch 7/20\n",
      "71/71 [==============================] - 0s 1ms/step - loss: 0.4120 - accuracy: 0.8042 - val_loss: 0.4307 - val_accuracy: 0.8018\n",
      "Epoch 8/20\n",
      "71/71 [==============================] - 0s 1ms/step - loss: 0.4078 - accuracy: 0.8013 - val_loss: 0.4337 - val_accuracy: 0.8000\n",
      "Epoch 9/20\n",
      "71/71 [==============================] - 0s 1ms/step - loss: 0.4033 - accuracy: 0.8064 - val_loss: 0.4272 - val_accuracy: 0.8027\n",
      "Epoch 10/20\n",
      "71/71 [==============================] - 0s 1ms/step - loss: 0.3993 - accuracy: 0.8091 - val_loss: 0.4297 - val_accuracy: 0.8009\n",
      "Epoch 11/20\n",
      "71/71 [==============================] - 0s 1ms/step - loss: 0.4015 - accuracy: 0.8106 - val_loss: 0.4319 - val_accuracy: 0.8036\n",
      "Epoch 12/20\n",
      "71/71 [==============================] - 0s 1ms/step - loss: 0.3945 - accuracy: 0.8117 - val_loss: 0.4384 - val_accuracy: 0.8027\n",
      "Epoch 13/20\n",
      "71/71 [==============================] - 0s 1ms/step - loss: 0.3966 - accuracy: 0.8133 - val_loss: 0.4405 - val_accuracy: 0.7991\n",
      "Epoch 14/20\n",
      "71/71 [==============================] - 0s 1ms/step - loss: 0.3926 - accuracy: 0.8153 - val_loss: 0.4372 - val_accuracy: 0.7982\n",
      "Epoch 15/20\n",
      "71/71 [==============================] - 0s 1ms/step - loss: 0.3866 - accuracy: 0.8151 - val_loss: 0.4399 - val_accuracy: 0.7964\n",
      "Epoch 16/20\n",
      "71/71 [==============================] - 0s 2ms/step - loss: 0.3853 - accuracy: 0.8206 - val_loss: 0.4439 - val_accuracy: 0.7920\n",
      "Epoch 17/20\n",
      "71/71 [==============================] - 0s 1ms/step - loss: 0.3881 - accuracy: 0.8157 - val_loss: 0.4467 - val_accuracy: 0.7956\n",
      "Epoch 18/20\n",
      "71/71 [==============================] - 0s 1ms/step - loss: 0.3809 - accuracy: 0.8191 - val_loss: 0.4458 - val_accuracy: 0.7973\n",
      "Epoch 19/20\n",
      "71/71 [==============================] - 0s 1ms/step - loss: 0.3751 - accuracy: 0.8248 - val_loss: 0.4501 - val_accuracy: 0.7902\n",
      "Epoch 20/20\n",
      "71/71 [==============================] - 0s 1ms/step - loss: 0.3726 - accuracy: 0.8233 - val_loss: 0.4511 - val_accuracy: 0.7920\n"
     ]
    },
    {
     "data": {
      "text/plain": [
       "<keras.callbacks.History at 0x7f7e91b0fc40>"
      ]
     },
     "execution_count": 40,
     "metadata": {},
     "output_type": "execute_result"
    }
   ],
   "source": [
    "model_functional.fit(train_tf_pipe,  epochs=20, batch_size=64, validation_data=(val_tf_pipe))"
   ]
  },
  {
   "cell_type": "markdown",
   "metadata": {},
   "source": [
    "11.2 Evaluation of Function Model\n",
    "- The train loss decreasing but the validation is increasing over the epochs. And the difference between them is quite far. It means that our model is over-fit.\n",
    "- In accuracy graph also the same, that we accuracy of train keep increasing. But for the validation keep decreasing which means our model is very over-fit, as the score differences is also quite far."
   ]
  },
  {
   "cell_type": "code",
   "execution_count": 41,
   "metadata": {},
   "outputs": [
    {
     "data": {
      "image/png": "[encoded data removed]",
      "text/plain": [
       "<Figure size 1152x360 with 2 Axes>"
      ]
     },
     "metadata": {},
     "output_type": "display_data"
    }
   ],
   "source": [
    "epoch=20\n",
    "\n",
    "fig, ax = plt.subplots(ncols=2,figsize=(16,5))\n",
    "ax[0].plot(range(1,epoch+1),model_functional.history.history['loss'],label='train_loss')\n",
    "ax[0].plot(range(1,epoch+1),model_functional.history.history['val_loss'],label='val_loss')\n",
    "ax[0].set_title('Loss')\n",
    "ax[0].legend()\n",
    "ax[0].set_xlabel('Epoch')\n",
    "\n",
    "ax[1].plot(range(1,epoch+1),model_functional.history.history['accuracy'],label='train_accuracy')\n",
    "ax[1].plot(range(1,epoch+1),model_functional.history.history['val_accuracy'],label='val_accuracy')\n",
    "ax[1].set_title('Accuracy')\n",
    "ax[1].legend()\n",
    "ax[1].set_xlabel('Epoch')\n",
    "\n",
    "plt.show()"
   ]
  },
  {
   "cell_type": "markdown",
   "metadata": {},
   "source": [
    "____"
   ]
  },
  {
   "cell_type": "markdown",
   "metadata": {},
   "source": [
    "# 12. FUNCTIONAL MODEL IMPROVEMENT"
   ]
  },
  {
   "cell_type": "markdown",
   "metadata": {},
   "source": [
    "12.1 Defining improvement for Functional Model\n",
    "- To seek the improvement, I use the optimizer SGD.\n",
    "- Setting the epoch to 100, so we can see the perform of our model in bigger picture."
   ]
  },
  {
   "cell_type": "code",
   "execution_count": 42,
   "metadata": {},
   "outputs": [
    {
     "name": "stdout",
     "output_type": "stream",
     "text": [
      "Epoch 1/100\n",
      "71/71 [==============================] - 1s 3ms/step - loss: 0.6308 - accuracy: 0.6995 - val_loss: 0.5808 - val_accuracy: 0.7342\n",
      "Epoch 2/100\n",
      "71/71 [==============================] - 0s 1ms/step - loss: 0.5586 - accuracy: 0.7342 - val_loss: 0.5337 - val_accuracy: 0.7342\n",
      "Epoch 3/100\n",
      "71/71 [==============================] - 0s 1ms/step - loss: 0.5250 - accuracy: 0.7342 - val_loss: 0.5038 - val_accuracy: 0.7342\n",
      "Epoch 4/100\n",
      "71/71 [==============================] - 0s 1ms/step - loss: 0.5014 - accuracy: 0.7331 - val_loss: 0.4814 - val_accuracy: 0.7422\n",
      "Epoch 5/100\n",
      "71/71 [==============================] - 0s 1ms/step - loss: 0.4839 - accuracy: 0.7424 - val_loss: 0.4640 - val_accuracy: 0.7600\n",
      "Epoch 6/100\n",
      "71/71 [==============================] - 0s 1ms/step - loss: 0.4710 - accuracy: 0.7564 - val_loss: 0.4511 - val_accuracy: 0.7751\n",
      "Epoch 7/100\n",
      "71/71 [==============================] - 0s 1ms/step - loss: 0.4632 - accuracy: 0.7673 - val_loss: 0.4423 - val_accuracy: 0.7884\n",
      "Epoch 8/100\n",
      "71/71 [==============================] - 0s 1ms/step - loss: 0.4571 - accuracy: 0.7764 - val_loss: 0.4394 - val_accuracy: 0.7884\n",
      "Epoch 9/100\n",
      "71/71 [==============================] - 0s 1ms/step - loss: 0.4538 - accuracy: 0.7786 - val_loss: 0.4349 - val_accuracy: 0.7973\n",
      "Epoch 10/100\n",
      "71/71 [==============================] - 0s 1ms/step - loss: 0.4518 - accuracy: 0.7780 - val_loss: 0.4318 - val_accuracy: 0.7929\n",
      "Epoch 11/100\n",
      "71/71 [==============================] - 0s 1ms/step - loss: 0.4491 - accuracy: 0.7775 - val_loss: 0.4301 - val_accuracy: 0.7911\n",
      "Epoch 12/100\n",
      "71/71 [==============================] - 0s 1ms/step - loss: 0.4470 - accuracy: 0.7788 - val_loss: 0.4284 - val_accuracy: 0.7929\n",
      "Epoch 13/100\n",
      "71/71 [==============================] - 0s 1ms/step - loss: 0.4451 - accuracy: 0.7797 - val_loss: 0.4256 - val_accuracy: 0.7973\n",
      "Epoch 14/100\n",
      "71/71 [==============================] - 0s 1ms/step - loss: 0.4440 - accuracy: 0.7780 - val_loss: 0.4269 - val_accuracy: 0.8000\n",
      "Epoch 15/100\n",
      "71/71 [==============================] - 0s 1ms/step - loss: 0.4435 - accuracy: 0.7775 - val_loss: 0.4246 - val_accuracy: 0.7964\n",
      "Epoch 16/100\n",
      "71/71 [==============================] - 0s 1ms/step - loss: 0.4415 - accuracy: 0.7840 - val_loss: 0.4226 - val_accuracy: 0.8018\n",
      "Epoch 17/100\n",
      "71/71 [==============================] - 0s 1ms/step - loss: 0.4406 - accuracy: 0.7802 - val_loss: 0.4228 - val_accuracy: 0.7991\n",
      "Epoch 18/100\n",
      "71/71 [==============================] - 0s 1ms/step - loss: 0.4395 - accuracy: 0.7795 - val_loss: 0.4210 - val_accuracy: 0.8027\n",
      "Epoch 19/100\n",
      "71/71 [==============================] - 0s 1ms/step - loss: 0.4381 - accuracy: 0.7817 - val_loss: 0.4230 - val_accuracy: 0.7973\n",
      "Epoch 20/100\n",
      "71/71 [==============================] - 0s 1ms/step - loss: 0.4374 - accuracy: 0.7826 - val_loss: 0.4192 - val_accuracy: 0.8027\n",
      "Epoch 21/100\n",
      "71/71 [==============================] - 0s 1ms/step - loss: 0.4361 - accuracy: 0.7837 - val_loss: 0.4203 - val_accuracy: 0.8027\n",
      "Epoch 22/100\n",
      "71/71 [==============================] - 0s 1ms/step - loss: 0.4349 - accuracy: 0.7842 - val_loss: 0.4206 - val_accuracy: 0.8027\n",
      "Epoch 23/100\n",
      "71/71 [==============================] - 0s 1ms/step - loss: 0.4346 - accuracy: 0.7840 - val_loss: 0.4179 - val_accuracy: 0.8036\n",
      "Epoch 24/100\n",
      "71/71 [==============================] - 0s 2ms/step - loss: 0.4336 - accuracy: 0.7828 - val_loss: 0.4175 - val_accuracy: 0.8044\n",
      "Epoch 25/100\n",
      "71/71 [==============================] - 0s 2ms/step - loss: 0.4325 - accuracy: 0.7848 - val_loss: 0.4181 - val_accuracy: 0.8027\n",
      "Epoch 26/100\n",
      "71/71 [==============================] - 0s 2ms/step - loss: 0.4312 - accuracy: 0.7840 - val_loss: 0.4171 - val_accuracy: 0.8009\n",
      "Epoch 27/100\n",
      "71/71 [==============================] - 0s 2ms/step - loss: 0.4307 - accuracy: 0.7895 - val_loss: 0.4156 - val_accuracy: 0.8018\n",
      "Epoch 28/100\n",
      "71/71 [==============================] - 0s 2ms/step - loss: 0.4304 - accuracy: 0.7835 - val_loss: 0.4169 - val_accuracy: 0.8044\n",
      "Epoch 29/100\n",
      "71/71 [==============================] - 0s 2ms/step - loss: 0.4289 - accuracy: 0.7866 - val_loss: 0.4154 - val_accuracy: 0.8053\n",
      "Epoch 30/100\n",
      "71/71 [==============================] - 0s 2ms/step - loss: 0.4282 - accuracy: 0.7880 - val_loss: 0.4145 - val_accuracy: 0.8044\n",
      "Epoch 31/100\n",
      "71/71 [==============================] - 0s 2ms/step - loss: 0.4282 - accuracy: 0.7848 - val_loss: 0.4156 - val_accuracy: 0.8062\n",
      "Epoch 32/100\n",
      "71/71 [==============================] - 0s 2ms/step - loss: 0.4273 - accuracy: 0.7880 - val_loss: 0.4145 - val_accuracy: 0.8053\n",
      "Epoch 33/100\n",
      "71/71 [==============================] - 0s 2ms/step - loss: 0.4266 - accuracy: 0.7891 - val_loss: 0.4139 - val_accuracy: 0.8036\n",
      "Epoch 34/100\n",
      "71/71 [==============================] - 0s 2ms/step - loss: 0.4261 - accuracy: 0.7846 - val_loss: 0.4204 - val_accuracy: 0.8036\n",
      "Epoch 35/100\n",
      "71/71 [==============================] - 0s 2ms/step - loss: 0.4250 - accuracy: 0.7902 - val_loss: 0.4160 - val_accuracy: 0.8062\n",
      "Epoch 36/100\n",
      "71/71 [==============================] - 0s 2ms/step - loss: 0.4241 - accuracy: 0.7880 - val_loss: 0.4139 - val_accuracy: 0.8089\n",
      "Epoch 37/100\n",
      "71/71 [==============================] - 0s 2ms/step - loss: 0.4236 - accuracy: 0.7888 - val_loss: 0.4140 - val_accuracy: 0.8089\n",
      "Epoch 38/100\n",
      "71/71 [==============================] - 0s 2ms/step - loss: 0.4239 - accuracy: 0.7886 - val_loss: 0.4139 - val_accuracy: 0.8027\n",
      "Epoch 39/100\n",
      "71/71 [==============================] - 0s 2ms/step - loss: 0.4230 - accuracy: 0.7920 - val_loss: 0.4156 - val_accuracy: 0.8062\n",
      "Epoch 40/100\n",
      "71/71 [==============================] - 0s 2ms/step - loss: 0.4220 - accuracy: 0.7906 - val_loss: 0.4136 - val_accuracy: 0.8098\n",
      "Epoch 41/100\n",
      "71/71 [==============================] - 0s 2ms/step - loss: 0.4220 - accuracy: 0.7924 - val_loss: 0.4145 - val_accuracy: 0.8044\n",
      "Epoch 42/100\n",
      "71/71 [==============================] - 0s 2ms/step - loss: 0.4213 - accuracy: 0.7911 - val_loss: 0.4131 - val_accuracy: 0.8098\n",
      "Epoch 43/100\n",
      "71/71 [==============================] - 0s 2ms/step - loss: 0.4205 - accuracy: 0.7944 - val_loss: 0.4134 - val_accuracy: 0.8071\n",
      "Epoch 44/100\n",
      "71/71 [==============================] - 0s 2ms/step - loss: 0.4205 - accuracy: 0.7935 - val_loss: 0.4149 - val_accuracy: 0.8098\n",
      "Epoch 45/100\n",
      "71/71 [==============================] - 0s 2ms/step - loss: 0.4200 - accuracy: 0.7935 - val_loss: 0.4126 - val_accuracy: 0.8089\n",
      "Epoch 46/100\n",
      "71/71 [==============================] - 0s 2ms/step - loss: 0.4194 - accuracy: 0.7953 - val_loss: 0.4124 - val_accuracy: 0.8116\n",
      "Epoch 47/100\n",
      "71/71 [==============================] - 0s 2ms/step - loss: 0.4199 - accuracy: 0.7935 - val_loss: 0.4186 - val_accuracy: 0.8062\n",
      "Epoch 48/100\n",
      "71/71 [==============================] - 0s 2ms/step - loss: 0.4187 - accuracy: 0.7942 - val_loss: 0.4120 - val_accuracy: 0.8107\n",
      "Epoch 49/100\n",
      "71/71 [==============================] - 0s 2ms/step - loss: 0.4182 - accuracy: 0.7937 - val_loss: 0.4135 - val_accuracy: 0.8080\n",
      "Epoch 50/100\n",
      "71/71 [==============================] - 0s 2ms/step - loss: 0.4172 - accuracy: 0.7955 - val_loss: 0.4122 - val_accuracy: 0.8089\n",
      "Epoch 51/100\n",
      "71/71 [==============================] - 0s 2ms/step - loss: 0.4170 - accuracy: 0.7946 - val_loss: 0.4197 - val_accuracy: 0.8053\n",
      "Epoch 52/100\n",
      "71/71 [==============================] - 0s 2ms/step - loss: 0.4174 - accuracy: 0.7964 - val_loss: 0.4150 - val_accuracy: 0.8071\n",
      "Epoch 53/100\n",
      "71/71 [==============================] - 0s 2ms/step - loss: 0.4171 - accuracy: 0.7966 - val_loss: 0.4123 - val_accuracy: 0.8107\n",
      "Epoch 54/100\n",
      "71/71 [==============================] - 0s 2ms/step - loss: 0.4170 - accuracy: 0.7966 - val_loss: 0.4123 - val_accuracy: 0.8098\n",
      "Epoch 55/100\n",
      "71/71 [==============================] - 0s 2ms/step - loss: 0.4159 - accuracy: 0.7993 - val_loss: 0.4135 - val_accuracy: 0.8142\n",
      "Epoch 56/100\n",
      "71/71 [==============================] - 0s 2ms/step - loss: 0.4163 - accuracy: 0.7953 - val_loss: 0.4124 - val_accuracy: 0.8142\n",
      "Epoch 57/100\n",
      "71/71 [==============================] - 0s 2ms/step - loss: 0.4153 - accuracy: 0.7995 - val_loss: 0.4221 - val_accuracy: 0.8027\n",
      "Epoch 58/100\n",
      "71/71 [==============================] - 0s 2ms/step - loss: 0.4148 - accuracy: 0.7995 - val_loss: 0.4124 - val_accuracy: 0.8116\n",
      "Epoch 59/100\n",
      "71/71 [==============================] - 0s 2ms/step - loss: 0.4143 - accuracy: 0.8004 - val_loss: 0.4128 - val_accuracy: 0.8089\n",
      "Epoch 60/100\n",
      "71/71 [==============================] - 0s 2ms/step - loss: 0.4142 - accuracy: 0.8017 - val_loss: 0.4166 - val_accuracy: 0.8036\n",
      "Epoch 61/100\n",
      "71/71 [==============================] - 0s 2ms/step - loss: 0.4140 - accuracy: 0.7986 - val_loss: 0.4129 - val_accuracy: 0.8151\n",
      "Epoch 62/100\n",
      "71/71 [==============================] - 0s 2ms/step - loss: 0.4137 - accuracy: 0.7997 - val_loss: 0.4143 - val_accuracy: 0.8053\n",
      "Epoch 63/100\n",
      "71/71 [==============================] - 0s 2ms/step - loss: 0.4137 - accuracy: 0.7997 - val_loss: 0.4138 - val_accuracy: 0.8071\n",
      "Epoch 64/100\n",
      "71/71 [==============================] - 0s 2ms/step - loss: 0.4125 - accuracy: 0.7988 - val_loss: 0.4129 - val_accuracy: 0.8133\n",
      "Epoch 65/100\n",
      "71/71 [==============================] - 0s 2ms/step - loss: 0.4128 - accuracy: 0.8004 - val_loss: 0.4132 - val_accuracy: 0.8089\n",
      "Epoch 66/100\n",
      "71/71 [==============================] - 0s 2ms/step - loss: 0.4122 - accuracy: 0.7988 - val_loss: 0.4164 - val_accuracy: 0.8169\n",
      "Epoch 67/100\n",
      "71/71 [==============================] - 0s 2ms/step - loss: 0.4116 - accuracy: 0.7982 - val_loss: 0.4194 - val_accuracy: 0.8044\n",
      "Epoch 68/100\n",
      "71/71 [==============================] - 0s 2ms/step - loss: 0.4113 - accuracy: 0.8033 - val_loss: 0.4129 - val_accuracy: 0.8133\n",
      "Epoch 69/100\n",
      "71/71 [==============================] - 0s 2ms/step - loss: 0.4104 - accuracy: 0.8031 - val_loss: 0.4194 - val_accuracy: 0.8080\n",
      "Epoch 70/100\n",
      "71/71 [==============================] - 0s 2ms/step - loss: 0.4116 - accuracy: 0.8022 - val_loss: 0.4142 - val_accuracy: 0.8142\n",
      "Epoch 71/100\n",
      "71/71 [==============================] - 0s 2ms/step - loss: 0.4104 - accuracy: 0.8000 - val_loss: 0.4186 - val_accuracy: 0.8124\n",
      "Epoch 72/100\n",
      "71/71 [==============================] - 0s 2ms/step - loss: 0.4112 - accuracy: 0.8028 - val_loss: 0.4229 - val_accuracy: 0.8027\n",
      "Epoch 73/100\n",
      "71/71 [==============================] - 0s 2ms/step - loss: 0.4102 - accuracy: 0.8026 - val_loss: 0.4170 - val_accuracy: 0.8062\n",
      "Epoch 74/100\n",
      "71/71 [==============================] - 0s 2ms/step - loss: 0.4101 - accuracy: 0.8044 - val_loss: 0.4158 - val_accuracy: 0.8071\n",
      "Epoch 75/100\n",
      "71/71 [==============================] - 0s 2ms/step - loss: 0.4098 - accuracy: 0.8022 - val_loss: 0.4161 - val_accuracy: 0.8116\n",
      "Epoch 76/100\n",
      "71/71 [==============================] - 0s 2ms/step - loss: 0.4094 - accuracy: 0.7993 - val_loss: 0.4215 - val_accuracy: 0.8044\n",
      "Epoch 77/100\n",
      "71/71 [==============================] - 0s 2ms/step - loss: 0.4103 - accuracy: 0.8037 - val_loss: 0.4144 - val_accuracy: 0.8107\n",
      "Epoch 78/100\n",
      "71/71 [==============================] - 0s 2ms/step - loss: 0.4089 - accuracy: 0.8037 - val_loss: 0.4201 - val_accuracy: 0.8098\n",
      "Epoch 79/100\n",
      "71/71 [==============================] - 0s 2ms/step - loss: 0.4093 - accuracy: 0.8053 - val_loss: 0.4160 - val_accuracy: 0.8089\n",
      "Epoch 80/100\n",
      "71/71 [==============================] - 0s 2ms/step - loss: 0.4086 - accuracy: 0.8062 - val_loss: 0.4145 - val_accuracy: 0.8116\n",
      "Epoch 81/100\n",
      "71/71 [==============================] - 0s 2ms/step - loss: 0.4083 - accuracy: 0.8046 - val_loss: 0.4162 - val_accuracy: 0.8062\n",
      "Epoch 82/100\n",
      "71/71 [==============================] - 0s 2ms/step - loss: 0.4074 - accuracy: 0.8075 - val_loss: 0.4143 - val_accuracy: 0.8116\n",
      "Epoch 83/100\n",
      "71/71 [==============================] - 0s 2ms/step - loss: 0.4069 - accuracy: 0.8064 - val_loss: 0.4246 - val_accuracy: 0.8124\n",
      "Epoch 84/100\n",
      "71/71 [==============================] - 0s 2ms/step - loss: 0.4089 - accuracy: 0.8046 - val_loss: 0.4225 - val_accuracy: 0.8124\n",
      "Epoch 85/100\n",
      "71/71 [==============================] - 0s 2ms/step - loss: 0.4072 - accuracy: 0.8040 - val_loss: 0.4151 - val_accuracy: 0.8071\n",
      "Epoch 86/100\n",
      "71/71 [==============================] - 0s 2ms/step - loss: 0.4070 - accuracy: 0.8037 - val_loss: 0.4149 - val_accuracy: 0.8142\n",
      "Epoch 87/100\n",
      "71/71 [==============================] - 0s 2ms/step - loss: 0.4062 - accuracy: 0.8068 - val_loss: 0.4150 - val_accuracy: 0.8098\n",
      "Epoch 88/100\n",
      "71/71 [==============================] - 0s 2ms/step - loss: 0.4069 - accuracy: 0.8046 - val_loss: 0.4181 - val_accuracy: 0.8089\n",
      "Epoch 89/100\n",
      "71/71 [==============================] - 0s 2ms/step - loss: 0.4063 - accuracy: 0.8057 - val_loss: 0.4225 - val_accuracy: 0.8107\n",
      "Epoch 90/100\n",
      "71/71 [==============================] - 0s 2ms/step - loss: 0.4073 - accuracy: 0.8037 - val_loss: 0.4163 - val_accuracy: 0.8107\n",
      "Epoch 91/100\n",
      "71/71 [==============================] - 0s 2ms/step - loss: 0.4056 - accuracy: 0.8055 - val_loss: 0.4191 - val_accuracy: 0.8089\n",
      "Epoch 92/100\n",
      "71/71 [==============================] - 0s 2ms/step - loss: 0.4051 - accuracy: 0.8026 - val_loss: 0.4183 - val_accuracy: 0.8089\n",
      "Epoch 93/100\n",
      "71/71 [==============================] - 0s 2ms/step - loss: 0.4052 - accuracy: 0.8051 - val_loss: 0.4266 - val_accuracy: 0.8018\n",
      "Epoch 94/100\n",
      "71/71 [==============================] - 0s 2ms/step - loss: 0.4054 - accuracy: 0.8022 - val_loss: 0.4159 - val_accuracy: 0.8089\n",
      "Epoch 95/100\n",
      "71/71 [==============================] - 0s 2ms/step - loss: 0.4052 - accuracy: 0.8035 - val_loss: 0.4321 - val_accuracy: 0.8027\n",
      "Epoch 96/100\n",
      "71/71 [==============================] - 0s 2ms/step - loss: 0.4040 - accuracy: 0.8046 - val_loss: 0.4244 - val_accuracy: 0.8107\n",
      "Epoch 97/100\n",
      "71/71 [==============================] - 0s 2ms/step - loss: 0.4051 - accuracy: 0.8055 - val_loss: 0.4165 - val_accuracy: 0.8080\n",
      "Epoch 98/100\n",
      "71/71 [==============================] - 0s 2ms/step - loss: 0.4037 - accuracy: 0.8075 - val_loss: 0.4192 - val_accuracy: 0.8124\n",
      "Epoch 99/100\n",
      "71/71 [==============================] - 0s 2ms/step - loss: 0.4048 - accuracy: 0.8022 - val_loss: 0.4186 - val_accuracy: 0.8116\n",
      "Epoch 100/100\n",
      "71/71 [==============================] - 0s 2ms/step - loss: 0.4031 - accuracy: 0.8077 - val_loss: 0.4208 - val_accuracy: 0.8098\n"
     ]
    },
    {
     "data": {
      "text/plain": [
       "<keras.callbacks.History at 0x7f7e932224d0>"
      ]
     },
     "execution_count": 42,
     "metadata": {},
     "output_type": "execute_result"
    }
   ],
   "source": [
    "input_layer = Input(shape=(input_shape,))\n",
    "layers = Dense(44, activation='relu')(input_layer)\n",
    "layers = Dense(88, activation='relu')(layers)\n",
    "layers = Dense(44, activation='relu')(layers)\n",
    "layers = Dense(22, activation='relu')(layers)\n",
    "output = Dense(1, activation='sigmoid')(layers)\n",
    "\n",
    "model_functional_improvement = Model(inputs=input_layer, outputs=output)\n",
    "model_functional_improvement.compile(loss='binary_crossentropy',optimizer='SGD',metrics='accuracy')\n",
    "\n",
    "model_functional_improvement.fit(train_tf_pipe,  epochs=100, batch_size=64, validation_data=(val_tf_pipe))"
   ]
  },
  {
   "cell_type": "markdown",
   "metadata": {},
   "source": [
    "12.2 Evaluation of Improved Functional Model\n",
    "- Not like the default functional model, now both train and validation differences not so far both for Loss and Accuracy.\n",
    "- Even the accuracy almost the same for train and validation which is 0.80.\n",
    "- We can say that this model is better and improved. Even for the accuracy this is better than the sequential."
   ]
  },
  {
   "cell_type": "code",
   "execution_count": 43,
   "metadata": {},
   "outputs": [
    {
     "data": {
      "image/png": "[encoded data removed]",
      "text/plain": [
       "<Figure size 1152x360 with 2 Axes>"
      ]
     },
     "metadata": {},
     "output_type": "display_data"
    }
   ],
   "source": [
    "epoch=100\n",
    "\n",
    "fig, ax = plt.subplots(ncols=2,figsize=(16,5))\n",
    "ax[0].plot(range(1,epoch+1),model_functional_improvement.history.history['loss'],label='train_loss')\n",
    "ax[0].plot(range(1,epoch+1),model_functional_improvement.history.history['val_loss'],label='val_loss')\n",
    "ax[0].set_title('Loss')\n",
    "ax[0].legend()\n",
    "ax[0].set_xlabel('Epoch')\n",
    "\n",
    "ax[1].plot(range(1,epoch+1),model_functional_improvement.history.history['accuracy'],label='train_accuracy')\n",
    "ax[1].plot(range(1,epoch+1),model_functional_improvement.history.history['val_accuracy'],label='val_accuracy')\n",
    "ax[1].set_title('Accuracy')\n",
    "ax[1].legend()\n",
    "ax[1].set_xlabel('Epoch')\n",
    "\n",
    "plt.show()"
   ]
  },
  {
   "cell_type": "markdown",
   "metadata": {},
   "source": [
    "____"
   ]
  },
  {
   "cell_type": "markdown",
   "metadata": {},
   "source": [
    "# 13. APPLICATION TO DATA DEST"
   ]
  },
  {
   "cell_type": "markdown",
   "metadata": {},
   "source": [
    "13.1 Pre-processing for test data"
   ]
  },
  {
   "cell_type": "code",
   "execution_count": 44,
   "metadata": {},
   "outputs": [],
   "source": [
    "#reassign the columns\n",
    "test_pipe_nominal = data_test[['PaymentMethod']]\n",
    "test_pipe_number = data_test[['tenure', 'MonthlyCharges', 'TotalCharges']]\n",
    "test_pipe_ordinal = data_test[['Partner', 'Dependents', 'PhoneService', 'MultipleLines', 'InternetService', 'OnlineSecurity', 'OnlineBackup', 'DeviceProtection', 'TechSupport', 'StreamingTV', 'StreamingMovies', 'Contract', 'PaperlessBilling']]\n",
    "\n",
    "#concatting the final X train for pipe line\n",
    "X_test_pipe = pd.concat([test_pipe_nominal,test_pipe_number,test_pipe_ordinal], axis=1)\n"
   ]
  },
  {
   "cell_type": "markdown",
   "metadata": {},
   "source": [
    "13.2 Assigning the test data to tensorflow pipeline"
   ]
  },
  {
   "cell_type": "code",
   "execution_count": 45,
   "metadata": {},
   "outputs": [],
   "source": [
    "#transforming the X_test & assign it to dataframe\n",
    "X_test = pipe.transform(X_test_pipe)\n",
    "X_test = pd.DataFrame(X_test)\n",
    "\n",
    "#manual encode the y test\n",
    "y_test = data_test['Churn'].replace({'No':0, 'Yes':1})\n",
    "\n",
    "#assign test data to tensorflow pipeline\n",
    "# Validation data\n",
    "test_tf_pipe = tf.data.Dataset.from_tensor_slices((X_test, y_test))\n",
    "test_tf_pipe = test_tf_pipe.batch(64)"
   ]
  },
  {
   "cell_type": "markdown",
   "metadata": {},
   "source": [
    "13.3 Fitting model using callback & checkpoint\n",
    "- Here I use functional model since it's the best model so far from previous analysis.\n",
    "- The difference is I use callback parameter and checkpoints to save the best model so we can load and rollbck to the best model.\n",
    "- Here I set the epochs to 200."
   ]
  },
  {
   "cell_type": "code",
   "execution_count": 25,
   "metadata": {},
   "outputs": [
    {
     "name": "stdout",
     "output_type": "stream",
     "text": [
      "Epoch 1/200\n",
      "71/71 [==============================] - 1s 4ms/step - loss: 0.5579 - accuracy: 0.7335 - val_loss: 0.5309 - val_accuracy: 0.7342\n",
      "Epoch 2/200\n",
      "71/71 [==============================] - 0s 2ms/step - loss: 0.5194 - accuracy: 0.7342 - val_loss: 0.5069 - val_accuracy: 0.7342\n",
      "Epoch 3/200\n",
      "71/71 [==============================] - 0s 2ms/step - loss: 0.4988 - accuracy: 0.7342 - val_loss: 0.4872 - val_accuracy: 0.7342\n",
      "Epoch 4/200\n",
      "71/71 [==============================] - 0s 2ms/step - loss: 0.4827 - accuracy: 0.7342 - val_loss: 0.4718 - val_accuracy: 0.7378\n",
      "Epoch 5/200\n",
      "71/71 [==============================] - 0s 2ms/step - loss: 0.4709 - accuracy: 0.7419 - val_loss: 0.4603 - val_accuracy: 0.7476\n",
      "Epoch 6/200\n",
      "71/71 [==============================] - 0s 2ms/step - loss: 0.4623 - accuracy: 0.7571 - val_loss: 0.4518 - val_accuracy: 0.7831\n",
      "Epoch 7/200\n",
      "71/71 [==============================] - 0s 2ms/step - loss: 0.4564 - accuracy: 0.7733 - val_loss: 0.4446 - val_accuracy: 0.7840\n",
      "Epoch 8/200\n",
      "71/71 [==============================] - 0s 2ms/step - loss: 0.4518 - accuracy: 0.7746 - val_loss: 0.4390 - val_accuracy: 0.7973\n",
      "Epoch 9/200\n",
      "71/71 [==============================] - 0s 2ms/step - loss: 0.4479 - accuracy: 0.7784 - val_loss: 0.4350 - val_accuracy: 0.8053\n",
      "Epoch 10/200\n",
      "71/71 [==============================] - 0s 2ms/step - loss: 0.4457 - accuracy: 0.7811 - val_loss: 0.4313 - val_accuracy: 0.8080\n",
      "Epoch 11/200\n",
      "71/71 [==============================] - 0s 2ms/step - loss: 0.4432 - accuracy: 0.7820 - val_loss: 0.4284 - val_accuracy: 0.8133\n",
      "Epoch 12/200\n",
      "71/71 [==============================] - 0s 3ms/step - loss: 0.4420 - accuracy: 0.7831 - val_loss: 0.4261 - val_accuracy: 0.8151\n",
      "Epoch 13/200\n",
      "71/71 [==============================] - 0s 2ms/step - loss: 0.4404 - accuracy: 0.7824 - val_loss: 0.4245 - val_accuracy: 0.8133\n",
      "Epoch 14/200\n",
      "71/71 [==============================] - 0s 1ms/step - loss: 0.4393 - accuracy: 0.7806 - val_loss: 0.4275 - val_accuracy: 0.8053\n",
      "Epoch 15/200\n",
      "71/71 [==============================] - 0s 1ms/step - loss: 0.4388 - accuracy: 0.7804 - val_loss: 0.4240 - val_accuracy: 0.8071\n",
      "Epoch 16/200\n",
      "71/71 [==============================] - 0s 1ms/step - loss: 0.4370 - accuracy: 0.7837 - val_loss: 0.4242 - val_accuracy: 0.8089\n",
      "Epoch 17/200\n",
      "71/71 [==============================] - 0s 1ms/step - loss: 0.4361 - accuracy: 0.7857 - val_loss: 0.4206 - val_accuracy: 0.8160\n",
      "Epoch 18/200\n",
      "71/71 [==============================] - 0s 1ms/step - loss: 0.4362 - accuracy: 0.7840 - val_loss: 0.4226 - val_accuracy: 0.8089\n",
      "Epoch 19/200\n",
      "71/71 [==============================] - 0s 1ms/step - loss: 0.4356 - accuracy: 0.7862 - val_loss: 0.4190 - val_accuracy: 0.8178\n",
      "Epoch 20/200\n",
      "71/71 [==============================] - 0s 1ms/step - loss: 0.4343 - accuracy: 0.7842 - val_loss: 0.4185 - val_accuracy: 0.8160\n",
      "Epoch 21/200\n",
      "71/71 [==============================] - 0s 1ms/step - loss: 0.4336 - accuracy: 0.7855 - val_loss: 0.4202 - val_accuracy: 0.8080\n",
      "Epoch 22/200\n",
      "71/71 [==============================] - 0s 2ms/step - loss: 0.4330 - accuracy: 0.7875 - val_loss: 0.4191 - val_accuracy: 0.8098\n",
      "Epoch 23/200\n",
      "71/71 [==============================] - 0s 2ms/step - loss: 0.4322 - accuracy: 0.7842 - val_loss: 0.4211 - val_accuracy: 0.8053\n",
      "Epoch 24/200\n",
      "71/71 [==============================] - 0s 1ms/step - loss: 0.4305 - accuracy: 0.7877 - val_loss: 0.4194 - val_accuracy: 0.8160\n",
      "Epoch 25/200\n",
      "71/71 [==============================] - 0s 1ms/step - loss: 0.4314 - accuracy: 0.7862 - val_loss: 0.4167 - val_accuracy: 0.8169\n",
      "Epoch 26/200\n",
      "71/71 [==============================] - 0s 1ms/step - loss: 0.4308 - accuracy: 0.7880 - val_loss: 0.4166 - val_accuracy: 0.8151\n",
      "Epoch 27/200\n",
      "71/71 [==============================] - 0s 1ms/step - loss: 0.4302 - accuracy: 0.7866 - val_loss: 0.4174 - val_accuracy: 0.8196\n",
      "Epoch 28/200\n",
      "71/71 [==============================] - 0s 1ms/step - loss: 0.4301 - accuracy: 0.7897 - val_loss: 0.4155 - val_accuracy: 0.8151\n",
      "Epoch 29/200\n",
      "71/71 [==============================] - 0s 1ms/step - loss: 0.4290 - accuracy: 0.7846 - val_loss: 0.4150 - val_accuracy: 0.8169\n",
      "Epoch 30/200\n",
      "71/71 [==============================] - 0s 1ms/step - loss: 0.4284 - accuracy: 0.7891 - val_loss: 0.4155 - val_accuracy: 0.8213\n",
      "Epoch 31/200\n",
      "71/71 [==============================] - 0s 1ms/step - loss: 0.4280 - accuracy: 0.7884 - val_loss: 0.4170 - val_accuracy: 0.8222\n",
      "Epoch 32/200\n",
      "71/71 [==============================] - 0s 2ms/step - loss: 0.4278 - accuracy: 0.7904 - val_loss: 0.4141 - val_accuracy: 0.8169\n",
      "Epoch 33/200\n",
      "71/71 [==============================] - 0s 2ms/step - loss: 0.4274 - accuracy: 0.7884 - val_loss: 0.4138 - val_accuracy: 0.8160\n",
      "Epoch 34/200\n",
      "71/71 [==============================] - 0s 1ms/step - loss: 0.4268 - accuracy: 0.7904 - val_loss: 0.4216 - val_accuracy: 0.8044\n",
      "Epoch 35/200\n",
      "71/71 [==============================] - 0s 1ms/step - loss: 0.4259 - accuracy: 0.7891 - val_loss: 0.4135 - val_accuracy: 0.8124\n",
      "Epoch 36/200\n",
      "71/71 [==============================] - 0s 1ms/step - loss: 0.4258 - accuracy: 0.7900 - val_loss: 0.4133 - val_accuracy: 0.8133\n",
      "Epoch 37/200\n",
      "71/71 [==============================] - 0s 1ms/step - loss: 0.4257 - accuracy: 0.7875 - val_loss: 0.4147 - val_accuracy: 0.8178\n",
      "Epoch 38/200\n",
      "71/71 [==============================] - 0s 2ms/step - loss: 0.4245 - accuracy: 0.7880 - val_loss: 0.4130 - val_accuracy: 0.8187\n",
      "Epoch 39/200\n",
      "71/71 [==============================] - 0s 2ms/step - loss: 0.4247 - accuracy: 0.7913 - val_loss: 0.4154 - val_accuracy: 0.8178\n",
      "Epoch 40/200\n",
      "71/71 [==============================] - 0s 2ms/step - loss: 0.4238 - accuracy: 0.7922 - val_loss: 0.4138 - val_accuracy: 0.8160\n",
      "Epoch 41/200\n",
      "71/71 [==============================] - 0s 2ms/step - loss: 0.4240 - accuracy: 0.7884 - val_loss: 0.4128 - val_accuracy: 0.8196\n",
      "Epoch 42/200\n",
      "71/71 [==============================] - 0s 2ms/step - loss: 0.4232 - accuracy: 0.7917 - val_loss: 0.4149 - val_accuracy: 0.8160\n",
      "Epoch 43/200\n",
      "71/71 [==============================] - 0s 2ms/step - loss: 0.4230 - accuracy: 0.7920 - val_loss: 0.4120 - val_accuracy: 0.8151\n",
      "Epoch 44/200\n",
      "71/71 [==============================] - 0s 2ms/step - loss: 0.4223 - accuracy: 0.7944 - val_loss: 0.4125 - val_accuracy: 0.8169\n",
      "Epoch 45/200\n",
      "71/71 [==============================] - 0s 1ms/step - loss: 0.4222 - accuracy: 0.7960 - val_loss: 0.4124 - val_accuracy: 0.8196\n",
      "Epoch 46/200\n",
      "71/71 [==============================] - 0s 1ms/step - loss: 0.4211 - accuracy: 0.7960 - val_loss: 0.4215 - val_accuracy: 0.8142\n",
      "Epoch 47/200\n",
      "71/71 [==============================] - 0s 1ms/step - loss: 0.4216 - accuracy: 0.7937 - val_loss: 0.4121 - val_accuracy: 0.8213\n",
      "Epoch 48/200\n",
      "71/71 [==============================] - 0s 2ms/step - loss: 0.4205 - accuracy: 0.7946 - val_loss: 0.4118 - val_accuracy: 0.8196\n",
      "Epoch 49/200\n",
      "71/71 [==============================] - 0s 1ms/step - loss: 0.4206 - accuracy: 0.7926 - val_loss: 0.4156 - val_accuracy: 0.8124\n",
      "Epoch 50/200\n",
      "71/71 [==============================] - 0s 1ms/step - loss: 0.4195 - accuracy: 0.7984 - val_loss: 0.4224 - val_accuracy: 0.8036\n",
      "Epoch 51/200\n",
      "71/71 [==============================] - 0s 1ms/step - loss: 0.4195 - accuracy: 0.7980 - val_loss: 0.4286 - val_accuracy: 0.8009\n",
      "Epoch 52/200\n",
      "71/71 [==============================] - 0s 2ms/step - loss: 0.4197 - accuracy: 0.7973 - val_loss: 0.4118 - val_accuracy: 0.8187\n",
      "Epoch 53/200\n",
      "71/71 [==============================] - 0s 1ms/step - loss: 0.4180 - accuracy: 0.7997 - val_loss: 0.4120 - val_accuracy: 0.8178\n",
      "Epoch 54/200\n",
      "71/71 [==============================] - 0s 1ms/step - loss: 0.4187 - accuracy: 0.7971 - val_loss: 0.4120 - val_accuracy: 0.8169\n",
      "Epoch 55/200\n",
      "71/71 [==============================] - 0s 1ms/step - loss: 0.4184 - accuracy: 0.7953 - val_loss: 0.4135 - val_accuracy: 0.8160\n",
      "Epoch 56/200\n",
      "71/71 [==============================] - 0s 1ms/step - loss: 0.4172 - accuracy: 0.8002 - val_loss: 0.4136 - val_accuracy: 0.8187\n",
      "Epoch 57/200\n",
      "71/71 [==============================] - 0s 1ms/step - loss: 0.4170 - accuracy: 0.8002 - val_loss: 0.4123 - val_accuracy: 0.8187\n",
      "Epoch 58/200\n",
      "71/71 [==============================] - 0s 1ms/step - loss: 0.4167 - accuracy: 0.7995 - val_loss: 0.4119 - val_accuracy: 0.8222\n",
      "Epoch 59/200\n",
      "71/71 [==============================] - 0s 1ms/step - loss: 0.4170 - accuracy: 0.8006 - val_loss: 0.4187 - val_accuracy: 0.8116\n",
      "Epoch 60/200\n",
      "71/71 [==============================] - 0s 1ms/step - loss: 0.4157 - accuracy: 0.8008 - val_loss: 0.4323 - val_accuracy: 0.8018\n",
      "Epoch 61/200\n",
      "71/71 [==============================] - 0s 2ms/step - loss: 0.4172 - accuracy: 0.8022 - val_loss: 0.4112 - val_accuracy: 0.8187\n",
      "Epoch 62/200\n",
      "71/71 [==============================] - 0s 1ms/step - loss: 0.4145 - accuracy: 0.8026 - val_loss: 0.4115 - val_accuracy: 0.8169\n",
      "Epoch 63/200\n",
      "71/71 [==============================] - 0s 1ms/step - loss: 0.4152 - accuracy: 0.8013 - val_loss: 0.4117 - val_accuracy: 0.8178\n",
      "Epoch 64/200\n",
      "71/71 [==============================] - 0s 1ms/step - loss: 0.4155 - accuracy: 0.8028 - val_loss: 0.4113 - val_accuracy: 0.8169\n",
      "Epoch 65/200\n",
      "71/71 [==============================] - 0s 1ms/step - loss: 0.4147 - accuracy: 0.8024 - val_loss: 0.4209 - val_accuracy: 0.8080\n",
      "Epoch 66/200\n",
      "71/71 [==============================] - 0s 1ms/step - loss: 0.4138 - accuracy: 0.8020 - val_loss: 0.4144 - val_accuracy: 0.8213\n",
      "Epoch 67/200\n",
      "71/71 [==============================] - 0s 1ms/step - loss: 0.4142 - accuracy: 0.8015 - val_loss: 0.4165 - val_accuracy: 0.8116\n",
      "Epoch 68/200\n",
      "71/71 [==============================] - 0s 1ms/step - loss: 0.4135 - accuracy: 0.8015 - val_loss: 0.4146 - val_accuracy: 0.8231\n",
      "Epoch 69/200\n",
      "71/71 [==============================] - 0s 1ms/step - loss: 0.4138 - accuracy: 0.8013 - val_loss: 0.4122 - val_accuracy: 0.8187\n",
      "Epoch 70/200\n",
      "71/71 [==============================] - 0s 1ms/step - loss: 0.4129 - accuracy: 0.8026 - val_loss: 0.4153 - val_accuracy: 0.8187\n",
      "Epoch 71/200\n",
      "71/71 [==============================] - 0s 1ms/step - loss: 0.4122 - accuracy: 0.7984 - val_loss: 0.4131 - val_accuracy: 0.8142\n",
      "Epoch 72/200\n",
      "71/71 [==============================] - 0s 2ms/step - loss: 0.4135 - accuracy: 0.8026 - val_loss: 0.4123 - val_accuracy: 0.8204\n",
      "Epoch 73/200\n",
      "71/71 [==============================] - 0s 1ms/step - loss: 0.4119 - accuracy: 0.8037 - val_loss: 0.4121 - val_accuracy: 0.8169\n",
      "Epoch 74/200\n",
      "71/71 [==============================] - 0s 1ms/step - loss: 0.4122 - accuracy: 0.8051 - val_loss: 0.4132 - val_accuracy: 0.8196\n",
      "Epoch 75/200\n",
      "71/71 [==============================] - 0s 1ms/step - loss: 0.4113 - accuracy: 0.8022 - val_loss: 0.4133 - val_accuracy: 0.8187\n",
      "Epoch 76/200\n",
      "71/71 [==============================] - 0s 1ms/step - loss: 0.4115 - accuracy: 0.8028 - val_loss: 0.4143 - val_accuracy: 0.8178\n",
      "Epoch 77/200\n",
      "71/71 [==============================] - 0s 1ms/step - loss: 0.4119 - accuracy: 0.8033 - val_loss: 0.4127 - val_accuracy: 0.8169\n",
      "Epoch 78/200\n",
      "71/71 [==============================] - 0s 1ms/step - loss: 0.4105 - accuracy: 0.8008 - val_loss: 0.4133 - val_accuracy: 0.8160\n",
      "Epoch 79/200\n",
      "71/71 [==============================] - 0s 1ms/step - loss: 0.4102 - accuracy: 0.8026 - val_loss: 0.4134 - val_accuracy: 0.8160\n",
      "Epoch 80/200\n",
      "71/71 [==============================] - 0s 1ms/step - loss: 0.4107 - accuracy: 0.8057 - val_loss: 0.4160 - val_accuracy: 0.8187\n",
      "Epoch 81/200\n",
      "71/71 [==============================] - 0s 1ms/step - loss: 0.4118 - accuracy: 0.8037 - val_loss: 0.4187 - val_accuracy: 0.8142\n",
      "Epoch 82/200\n",
      "71/71 [==============================] - 0s 1ms/step - loss: 0.4103 - accuracy: 0.8022 - val_loss: 0.4139 - val_accuracy: 0.8124\n",
      "Epoch 83/200\n",
      "71/71 [==============================] - 0s 1ms/step - loss: 0.4083 - accuracy: 0.8073 - val_loss: 0.4141 - val_accuracy: 0.8133\n",
      "Epoch 84/200\n",
      "71/71 [==============================] - 0s 1ms/step - loss: 0.4097 - accuracy: 0.8026 - val_loss: 0.4151 - val_accuracy: 0.8160\n",
      "Epoch 85/200\n",
      "71/71 [==============================] - 0s 1ms/step - loss: 0.4096 - accuracy: 0.8051 - val_loss: 0.4150 - val_accuracy: 0.8124\n",
      "Epoch 86/200\n",
      "71/71 [==============================] - 0s 1ms/step - loss: 0.4098 - accuracy: 0.8051 - val_loss: 0.4185 - val_accuracy: 0.8178\n",
      "Epoch 87/200\n",
      "71/71 [==============================] - 0s 1ms/step - loss: 0.4081 - accuracy: 0.8051 - val_loss: 0.4183 - val_accuracy: 0.8160\n",
      "Epoch 88/200\n",
      "71/71 [==============================] - 0s 1ms/step - loss: 0.4098 - accuracy: 0.8044 - val_loss: 0.4160 - val_accuracy: 0.8196\n",
      "Epoch 89/200\n",
      "71/71 [==============================] - 0s 1ms/step - loss: 0.4070 - accuracy: 0.8077 - val_loss: 0.4152 - val_accuracy: 0.8116\n",
      "Epoch 90/200\n",
      "71/71 [==============================] - 0s 1ms/step - loss: 0.4073 - accuracy: 0.8040 - val_loss: 0.4206 - val_accuracy: 0.8151\n",
      "Epoch 91/200\n",
      "71/71 [==============================] - 0s 1ms/step - loss: 0.4080 - accuracy: 0.8055 - val_loss: 0.4155 - val_accuracy: 0.8133\n",
      "Epoch 92/200\n",
      "71/71 [==============================] - 0s 1ms/step - loss: 0.4085 - accuracy: 0.8053 - val_loss: 0.4208 - val_accuracy: 0.8160\n",
      "Epoch 93/200\n",
      "71/71 [==============================] - 0s 1ms/step - loss: 0.4078 - accuracy: 0.8082 - val_loss: 0.4172 - val_accuracy: 0.8160\n",
      "Epoch 94/200\n",
      "71/71 [==============================] - 0s 2ms/step - loss: 0.4071 - accuracy: 0.8048 - val_loss: 0.4174 - val_accuracy: 0.8124\n",
      "Epoch 95/200\n",
      "71/71 [==============================] - 0s 2ms/step - loss: 0.4060 - accuracy: 0.8077 - val_loss: 0.4216 - val_accuracy: 0.8133\n",
      "Epoch 96/200\n",
      "71/71 [==============================] - 0s 2ms/step - loss: 0.4076 - accuracy: 0.8051 - val_loss: 0.4221 - val_accuracy: 0.8133\n",
      "Epoch 97/200\n",
      "71/71 [==============================] - 0s 1ms/step - loss: 0.4073 - accuracy: 0.8075 - val_loss: 0.4165 - val_accuracy: 0.8124\n",
      "Epoch 98/200\n",
      "71/71 [==============================] - 0s 1ms/step - loss: 0.4067 - accuracy: 0.8057 - val_loss: 0.4221 - val_accuracy: 0.8124\n",
      "Epoch 99/200\n",
      "71/71 [==============================] - 0s 2ms/step - loss: 0.4056 - accuracy: 0.8055 - val_loss: 0.4313 - val_accuracy: 0.8089\n",
      "Epoch 100/200\n",
      "71/71 [==============================] - 0s 1ms/step - loss: 0.4067 - accuracy: 0.8068 - val_loss: 0.4180 - val_accuracy: 0.8142\n",
      "Epoch 101/200\n",
      "71/71 [==============================] - 0s 1ms/step - loss: 0.4066 - accuracy: 0.8062 - val_loss: 0.4182 - val_accuracy: 0.8124\n",
      "Epoch 102/200\n",
      "71/71 [==============================] - 0s 1ms/step - loss: 0.4048 - accuracy: 0.8084 - val_loss: 0.4350 - val_accuracy: 0.8071\n",
      "Epoch 103/200\n",
      "71/71 [==============================] - 0s 1ms/step - loss: 0.4042 - accuracy: 0.8051 - val_loss: 0.4182 - val_accuracy: 0.8098\n",
      "Epoch 104/200\n",
      "71/71 [==============================] - 0s 1ms/step - loss: 0.4045 - accuracy: 0.8095 - val_loss: 0.4205 - val_accuracy: 0.8151\n",
      "Epoch 105/200\n",
      "71/71 [==============================] - 0s 1ms/step - loss: 0.4050 - accuracy: 0.8060 - val_loss: 0.4386 - val_accuracy: 0.8071\n",
      "Epoch 106/200\n",
      "71/71 [==============================] - 0s 1ms/step - loss: 0.4042 - accuracy: 0.8060 - val_loss: 0.4392 - val_accuracy: 0.8098\n",
      "Epoch 107/200\n",
      "71/71 [==============================] - 0s 1ms/step - loss: 0.4029 - accuracy: 0.8055 - val_loss: 0.4357 - val_accuracy: 0.8107\n",
      "Epoch 108/200\n",
      "71/71 [==============================] - 0s 1ms/step - loss: 0.4046 - accuracy: 0.8068 - val_loss: 0.4258 - val_accuracy: 0.8178\n",
      "Epoch 109/200\n",
      "71/71 [==============================] - 0s 1ms/step - loss: 0.4043 - accuracy: 0.8055 - val_loss: 0.4301 - val_accuracy: 0.8071\n",
      "Epoch 110/200\n",
      "71/71 [==============================] - 0s 1ms/step - loss: 0.4031 - accuracy: 0.8086 - val_loss: 0.4372 - val_accuracy: 0.8018\n",
      "Epoch 111/200\n",
      "71/71 [==============================] - 0s 1ms/step - loss: 0.4046 - accuracy: 0.8068 - val_loss: 0.4223 - val_accuracy: 0.8124\n",
      "Epoch 112/200\n",
      "71/71 [==============================] - 0s 2ms/step - loss: 0.4025 - accuracy: 0.8048 - val_loss: 0.4297 - val_accuracy: 0.8107\n",
      "Epoch 113/200\n",
      "71/71 [==============================] - 0s 1ms/step - loss: 0.4044 - accuracy: 0.8051 - val_loss: 0.4206 - val_accuracy: 0.8089\n",
      "Epoch 114/200\n",
      "71/71 [==============================] - 0s 1ms/step - loss: 0.4021 - accuracy: 0.8084 - val_loss: 0.4317 - val_accuracy: 0.8116\n",
      "Epoch 115/200\n",
      "71/71 [==============================] - 0s 1ms/step - loss: 0.4026 - accuracy: 0.8091 - val_loss: 0.4263 - val_accuracy: 0.8107\n",
      "Epoch 116/200\n",
      "71/71 [==============================] - 0s 1ms/step - loss: 0.4019 - accuracy: 0.8077 - val_loss: 0.4219 - val_accuracy: 0.8124\n",
      "Epoch 117/200\n",
      "71/71 [==============================] - 0s 1ms/step - loss: 0.4022 - accuracy: 0.8053 - val_loss: 0.4218 - val_accuracy: 0.8089\n",
      "Epoch 118/200\n",
      "71/71 [==============================] - 0s 1ms/step - loss: 0.4016 - accuracy: 0.8080 - val_loss: 0.4219 - val_accuracy: 0.8107\n",
      "Epoch 119/200\n",
      "71/71 [==============================] - 0s 1ms/step - loss: 0.4024 - accuracy: 0.8066 - val_loss: 0.4222 - val_accuracy: 0.8124\n",
      "Epoch 120/200\n",
      "71/71 [==============================] - 0s 2ms/step - loss: 0.4007 - accuracy: 0.8084 - val_loss: 0.4280 - val_accuracy: 0.8044\n",
      "Epoch 121/200\n",
      "71/71 [==============================] - 0s 1ms/step - loss: 0.4007 - accuracy: 0.8093 - val_loss: 0.4216 - val_accuracy: 0.8098\n",
      "Epoch 122/200\n",
      "71/71 [==============================] - 0s 1ms/step - loss: 0.4027 - accuracy: 0.8082 - val_loss: 0.4267 - val_accuracy: 0.8062\n",
      "Epoch 123/200\n",
      "71/71 [==============================] - 0s 2ms/step - loss: 0.4005 - accuracy: 0.8082 - val_loss: 0.4228 - val_accuracy: 0.8098\n",
      "Epoch 124/200\n",
      "71/71 [==============================] - 0s 2ms/step - loss: 0.4012 - accuracy: 0.8073 - val_loss: 0.4282 - val_accuracy: 0.8044\n",
      "Epoch 125/200\n",
      "71/71 [==============================] - 0s 1ms/step - loss: 0.4003 - accuracy: 0.8102 - val_loss: 0.4747 - val_accuracy: 0.7911\n",
      "Epoch 126/200\n",
      "71/71 [==============================] - 0s 1ms/step - loss: 0.4009 - accuracy: 0.8095 - val_loss: 0.4231 - val_accuracy: 0.8062\n",
      "Epoch 127/200\n",
      "71/71 [==============================] - 0s 1ms/step - loss: 0.3991 - accuracy: 0.8080 - val_loss: 0.4284 - val_accuracy: 0.8124\n",
      "Epoch 128/200\n",
      "71/71 [==============================] - 0s 1ms/step - loss: 0.3996 - accuracy: 0.8064 - val_loss: 0.4232 - val_accuracy: 0.8044\n",
      "Epoch 129/200\n",
      "71/71 [==============================] - 0s 1ms/step - loss: 0.3983 - accuracy: 0.8097 - val_loss: 0.4603 - val_accuracy: 0.7964\n",
      "Epoch 130/200\n",
      "71/71 [==============================] - 0s 1ms/step - loss: 0.3992 - accuracy: 0.8088 - val_loss: 0.4244 - val_accuracy: 0.8018\n",
      "Epoch 131/200\n",
      "71/71 [==============================] - 0s 1ms/step - loss: 0.3995 - accuracy: 0.8113 - val_loss: 0.4351 - val_accuracy: 0.8062\n",
      "Epoch 132/200\n",
      "71/71 [==============================] - 0s 1ms/step - loss: 0.3986 - accuracy: 0.8122 - val_loss: 0.4241 - val_accuracy: 0.8071\n",
      "Epoch 133/200\n",
      "71/71 [==============================] - 0s 1ms/step - loss: 0.3987 - accuracy: 0.8091 - val_loss: 0.4281 - val_accuracy: 0.8036\n",
      "Epoch 134/200\n",
      "71/71 [==============================] - 0s 1ms/step - loss: 0.3988 - accuracy: 0.8077 - val_loss: 0.4246 - val_accuracy: 0.8053\n",
      "Epoch 135/200\n",
      "71/71 [==============================] - 0s 1ms/step - loss: 0.3994 - accuracy: 0.8080 - val_loss: 0.4260 - val_accuracy: 0.8053\n",
      "Epoch 136/200\n",
      "71/71 [==============================] - 0s 1ms/step - loss: 0.3963 - accuracy: 0.8117 - val_loss: 0.4315 - val_accuracy: 0.8062\n",
      "Epoch 137/200\n",
      "71/71 [==============================] - 0s 1ms/step - loss: 0.3979 - accuracy: 0.8106 - val_loss: 0.4253 - val_accuracy: 0.8018\n",
      "Epoch 138/200\n",
      "71/71 [==============================] - 0s 1ms/step - loss: 0.3979 - accuracy: 0.8082 - val_loss: 0.4278 - val_accuracy: 0.8036\n",
      "Epoch 139/200\n",
      "71/71 [==============================] - 0s 1ms/step - loss: 0.3972 - accuracy: 0.8100 - val_loss: 0.4258 - val_accuracy: 0.8009\n",
      "Epoch 140/200\n",
      "71/71 [==============================] - 0s 2ms/step - loss: 0.3984 - accuracy: 0.8102 - val_loss: 0.4305 - val_accuracy: 0.8000\n",
      "Epoch 141/200\n",
      "71/71 [==============================] - 0s 1ms/step - loss: 0.3967 - accuracy: 0.8097 - val_loss: 0.4260 - val_accuracy: 0.8062\n",
      "Epoch 142/200\n",
      "71/71 [==============================] - 0s 1ms/step - loss: 0.3974 - accuracy: 0.8120 - val_loss: 0.4274 - val_accuracy: 0.8107\n",
      "Epoch 143/200\n",
      "71/71 [==============================] - 0s 1ms/step - loss: 0.3964 - accuracy: 0.8108 - val_loss: 0.4297 - val_accuracy: 0.8116\n",
      "Epoch 144/200\n",
      "71/71 [==============================] - 0s 1ms/step - loss: 0.3980 - accuracy: 0.8088 - val_loss: 0.4267 - val_accuracy: 0.8009\n",
      "Epoch 145/200\n",
      "71/71 [==============================] - 0s 1ms/step - loss: 0.3955 - accuracy: 0.8104 - val_loss: 0.4284 - val_accuracy: 0.8036\n",
      "Epoch 146/200\n",
      "71/71 [==============================] - 0s 1ms/step - loss: 0.3955 - accuracy: 0.8148 - val_loss: 0.4267 - val_accuracy: 0.8053\n",
      "Epoch 147/200\n",
      "71/71 [==============================] - 0s 1ms/step - loss: 0.3946 - accuracy: 0.8133 - val_loss: 0.4346 - val_accuracy: 0.8062\n",
      "Epoch 148/200\n",
      "71/71 [==============================] - 0s 1ms/step - loss: 0.3976 - accuracy: 0.8100 - val_loss: 0.4526 - val_accuracy: 0.7982\n",
      "Epoch 149/200\n",
      "71/71 [==============================] - 0s 1ms/step - loss: 0.3944 - accuracy: 0.8137 - val_loss: 0.4296 - val_accuracy: 0.8027\n",
      "Epoch 150/200\n",
      "71/71 [==============================] - 0s 1ms/step - loss: 0.3951 - accuracy: 0.8122 - val_loss: 0.4282 - val_accuracy: 0.8009\n",
      "Epoch 151/200\n",
      "71/71 [==============================] - 0s 1ms/step - loss: 0.3950 - accuracy: 0.8095 - val_loss: 0.4375 - val_accuracy: 0.8036\n",
      "Epoch 152/200\n",
      "71/71 [==============================] - 0s 1ms/step - loss: 0.3960 - accuracy: 0.8104 - val_loss: 0.4296 - val_accuracy: 0.8036\n",
      "Epoch 153/200\n",
      "71/71 [==============================] - 0s 1ms/step - loss: 0.3934 - accuracy: 0.8115 - val_loss: 0.4299 - val_accuracy: 0.7982\n",
      "Epoch 154/200\n",
      "71/71 [==============================] - 0s 1ms/step - loss: 0.3943 - accuracy: 0.8144 - val_loss: 0.4300 - val_accuracy: 0.8018\n",
      "Epoch 155/200\n",
      "71/71 [==============================] - 0s 1ms/step - loss: 0.3932 - accuracy: 0.8124 - val_loss: 0.4379 - val_accuracy: 0.8009\n",
      "Epoch 156/200\n",
      "71/71 [==============================] - 0s 1ms/step - loss: 0.3939 - accuracy: 0.8133 - val_loss: 0.4314 - val_accuracy: 0.8071\n",
      "Epoch 157/200\n",
      "71/71 [==============================] - 0s 1ms/step - loss: 0.3946 - accuracy: 0.8155 - val_loss: 0.4566 - val_accuracy: 0.7947\n",
      "Epoch 158/200\n",
      "71/71 [==============================] - 0s 1ms/step - loss: 0.3954 - accuracy: 0.8128 - val_loss: 0.4316 - val_accuracy: 0.7982\n",
      "Epoch 159/200\n",
      "71/71 [==============================] - 0s 2ms/step - loss: 0.3929 - accuracy: 0.8135 - val_loss: 0.4311 - val_accuracy: 0.8071\n",
      "Epoch 160/200\n",
      "71/71 [==============================] - 0s 1ms/step - loss: 0.3951 - accuracy: 0.8106 - val_loss: 0.4325 - val_accuracy: 0.7991\n",
      "Epoch 161/200\n",
      "71/71 [==============================] - 0s 1ms/step - loss: 0.3941 - accuracy: 0.8122 - val_loss: 0.4305 - val_accuracy: 0.8062\n",
      "Epoch 162/200\n",
      "71/71 [==============================] - 0s 1ms/step - loss: 0.3947 - accuracy: 0.8126 - val_loss: 0.4363 - val_accuracy: 0.8027\n",
      "Epoch 163/200\n",
      "71/71 [==============================] - 0s 1ms/step - loss: 0.3924 - accuracy: 0.8135 - val_loss: 0.4307 - val_accuracy: 0.8036\n",
      "Epoch 164/200\n",
      "71/71 [==============================] - 0s 1ms/step - loss: 0.3930 - accuracy: 0.8128 - val_loss: 0.4291 - val_accuracy: 0.8018\n",
      "Epoch 165/200\n",
      "71/71 [==============================] - 0s 1ms/step - loss: 0.3924 - accuracy: 0.8120 - val_loss: 0.4310 - val_accuracy: 0.8000\n",
      "Epoch 166/200\n",
      "71/71 [==============================] - 0s 1ms/step - loss: 0.3933 - accuracy: 0.8133 - val_loss: 0.4316 - val_accuracy: 0.8044\n",
      "Epoch 167/200\n",
      "71/71 [==============================] - 0s 1ms/step - loss: 0.3921 - accuracy: 0.8137 - val_loss: 0.4556 - val_accuracy: 0.7982\n",
      "Epoch 168/200\n",
      "71/71 [==============================] - 0s 1ms/step - loss: 0.3914 - accuracy: 0.8131 - val_loss: 0.4472 - val_accuracy: 0.7973\n",
      "Epoch 169/200\n",
      "71/71 [==============================] - 0s 1ms/step - loss: 0.3929 - accuracy: 0.8108 - val_loss: 0.4319 - val_accuracy: 0.8044\n",
      "Epoch 170/200\n",
      "71/71 [==============================] - 0s 1ms/step - loss: 0.3914 - accuracy: 0.8142 - val_loss: 0.4389 - val_accuracy: 0.8036\n",
      "Epoch 171/200\n",
      "71/71 [==============================] - 0s 1ms/step - loss: 0.3900 - accuracy: 0.8157 - val_loss: 0.4367 - val_accuracy: 0.8000\n",
      "Epoch 172/200\n",
      "71/71 [==============================] - 0s 1ms/step - loss: 0.3930 - accuracy: 0.8102 - val_loss: 0.4308 - val_accuracy: 0.8044\n",
      "Epoch 173/200\n",
      "71/71 [==============================] - 0s 1ms/step - loss: 0.3933 - accuracy: 0.8128 - val_loss: 0.4350 - val_accuracy: 0.7991\n",
      "Epoch 174/200\n",
      "71/71 [==============================] - 0s 1ms/step - loss: 0.3902 - accuracy: 0.8131 - val_loss: 0.4430 - val_accuracy: 0.8027\n",
      "Epoch 175/200\n",
      "71/71 [==============================] - 0s 1ms/step - loss: 0.3927 - accuracy: 0.8117 - val_loss: 0.4334 - val_accuracy: 0.8000\n",
      "Epoch 176/200\n",
      "71/71 [==============================] - 0s 1ms/step - loss: 0.3923 - accuracy: 0.8162 - val_loss: 0.4323 - val_accuracy: 0.8036\n",
      "Epoch 177/200\n",
      "71/71 [==============================] - 0s 1ms/step - loss: 0.3897 - accuracy: 0.8162 - val_loss: 0.4327 - val_accuracy: 0.8027\n",
      "Epoch 178/200\n",
      "71/71 [==============================] - 0s 1ms/step - loss: 0.3892 - accuracy: 0.8171 - val_loss: 0.4355 - val_accuracy: 0.8018\n",
      "Epoch 179/200\n",
      "71/71 [==============================] - 0s 1ms/step - loss: 0.3885 - accuracy: 0.8160 - val_loss: 0.4397 - val_accuracy: 0.8053\n",
      "Epoch 180/200\n",
      "71/71 [==============================] - 0s 1ms/step - loss: 0.3903 - accuracy: 0.8171 - val_loss: 0.4790 - val_accuracy: 0.7671\n",
      "Epoch 181/200\n",
      "71/71 [==============================] - 0s 2ms/step - loss: 0.3915 - accuracy: 0.8153 - val_loss: 0.4462 - val_accuracy: 0.7973\n",
      "Epoch 182/200\n",
      "71/71 [==============================] - 0s 1ms/step - loss: 0.3914 - accuracy: 0.8128 - val_loss: 0.4336 - val_accuracy: 0.8027\n",
      "Epoch 183/200\n",
      "71/71 [==============================] - 0s 1ms/step - loss: 0.3897 - accuracy: 0.8137 - val_loss: 0.4406 - val_accuracy: 0.7964\n",
      "Epoch 184/200\n",
      "71/71 [==============================] - 0s 1ms/step - loss: 0.3878 - accuracy: 0.8171 - val_loss: 0.4364 - val_accuracy: 0.7973\n",
      "Epoch 185/200\n",
      "71/71 [==============================] - 0s 1ms/step - loss: 0.3877 - accuracy: 0.8157 - val_loss: 0.4354 - val_accuracy: 0.8027\n",
      "Epoch 186/200\n",
      "71/71 [==============================] - 0s 1ms/step - loss: 0.3876 - accuracy: 0.8142 - val_loss: 0.4334 - val_accuracy: 0.8018\n",
      "Epoch 187/200\n",
      "71/71 [==============================] - 0s 1ms/step - loss: 0.3886 - accuracy: 0.8186 - val_loss: 0.4382 - val_accuracy: 0.7982\n",
      "Epoch 188/200\n",
      "71/71 [==============================] - 0s 1ms/step - loss: 0.3889 - accuracy: 0.8171 - val_loss: 0.4364 - val_accuracy: 0.7982\n",
      "Epoch 189/200\n",
      "71/71 [==============================] - 0s 1ms/step - loss: 0.3869 - accuracy: 0.8166 - val_loss: 0.4337 - val_accuracy: 0.8062\n",
      "Epoch 190/200\n",
      "71/71 [==============================] - 0s 1ms/step - loss: 0.3862 - accuracy: 0.8171 - val_loss: 0.4391 - val_accuracy: 0.8018\n",
      "Epoch 191/200\n",
      "71/71 [==============================] - 0s 1ms/step - loss: 0.3868 - accuracy: 0.8160 - val_loss: 0.4360 - val_accuracy: 0.7982\n",
      "Epoch 192/200\n",
      "71/71 [==============================] - 0s 1ms/step - loss: 0.3877 - accuracy: 0.8162 - val_loss: 0.4527 - val_accuracy: 0.7964\n",
      "Epoch 193/200\n",
      "71/71 [==============================] - 0s 2ms/step - loss: 0.3863 - accuracy: 0.8151 - val_loss: 0.4411 - val_accuracy: 0.7991\n",
      "Epoch 194/200\n",
      "71/71 [==============================] - 0s 2ms/step - loss: 0.3849 - accuracy: 0.8206 - val_loss: 0.4367 - val_accuracy: 0.7991\n",
      "Epoch 195/200\n",
      "71/71 [==============================] - 0s 1ms/step - loss: 0.3838 - accuracy: 0.8188 - val_loss: 0.4595 - val_accuracy: 0.7858\n",
      "Epoch 196/200\n",
      "71/71 [==============================] - 0s 1ms/step - loss: 0.3878 - accuracy: 0.8171 - val_loss: 0.4351 - val_accuracy: 0.8009\n",
      "Epoch 197/200\n",
      "71/71 [==============================] - 0s 2ms/step - loss: 0.3850 - accuracy: 0.8175 - val_loss: 0.4417 - val_accuracy: 0.7938\n",
      "Epoch 198/200\n",
      "71/71 [==============================] - 0s 1ms/step - loss: 0.3851 - accuracy: 0.8168 - val_loss: 0.4463 - val_accuracy: 0.7982\n",
      "Epoch 199/200\n",
      "71/71 [==============================] - 0s 1ms/step - loss: 0.3840 - accuracy: 0.8160 - val_loss: 0.4604 - val_accuracy: 0.7956\n",
      "Epoch 200/200\n",
      "71/71 [==============================] - 0s 1ms/step - loss: 0.3842 - accuracy: 0.8208 - val_loss: 0.4607 - val_accuracy: 0.7840\n"
     ]
    }
   ],
   "source": [
    "input_layer = Input(shape=(input_shape,))\n",
    "layers = Dense(44, activation='relu')(input_layer)\n",
    "layers = Dense(88, activation='relu')(layers)\n",
    "layers = Dense(44, activation='relu')(layers)\n",
    "layers = Dense(22, activation='relu')(layers)\n",
    "output = Dense(1, activation='sigmoid')(layers)\n",
    "\n",
    "model_functional_2 = Model(inputs=input_layer, outputs=output)\n",
    "model_functional_2.compile(loss='binary_crossentropy',optimizer='SGD',metrics='accuracy')\n",
    "\n",
    "checkpoint_cb = ModelCheckpoint(\"daniel_keras_model.h5\", save_best_only=True)\n",
    "\n",
    "history_functional_2 = model_functional_2.fit(train_tf_pipe, epochs=200,\n",
    "                    validation_data=(val_tf_pipe), callbacks=[checkpoint_cb])\n",
    "\n",
    "model_functional_2 = load_model(\"daniel_keras_model.h5\") # rollback to best model\n"
   ]
  },
  {
   "cell_type": "markdown",
   "metadata": {},
   "source": [
    "13.4 Predicting y_train, y_val & y_test\n",
    "- Here we predict all of the y values so we can evalute them."
   ]
  },
  {
   "cell_type": "code",
   "execution_count": 47,
   "metadata": {},
   "outputs": [
    {
     "name": "stdout",
     "output_type": "stream",
     "text": [
      "71/71 [==============================] - 0s 1ms/step\n",
      "18/18 [==============================] - 0s 1ms/step\n",
      "22/22 [==============================] - 0s 1ms/step\n"
     ]
    }
   ],
   "source": [
    "#predict X_train with our improved sequential model\n",
    "y_train_predict = model_functional_2.predict(train_tf_pipe)\n",
    "#reshaping our array to 1D\n",
    "y_train_predict_functional = y_train_predict.reshape(-1)\n",
    "#applying the sigmoid function\n",
    "y_train_predict_rounded = np.where(y_train_predict_functional >= 0.5, 1, 0)\n",
    "\n",
    "#predict X_val with our improved sequential model\n",
    "y_val_predict = model_functional_2.predict(val_tf_pipe)\n",
    "#reshaping our array to 1D\n",
    "y_val_predict_functional = y_val_predict.reshape(-1)\n",
    "#applying the sigmoid function\n",
    "y_val_predict_rounded = np.where(y_val_predict_functional >= 0.5, 1, 0)\n",
    "\n",
    "\n",
    "#predict X_test with our improved sequential model\n",
    "y_test_predict = model_functional_2.predict(test_tf_pipe)\n",
    "#reshaping our array to 1D\n",
    "y_test_predict_functional = y_test_predict.reshape(-1)\n",
    "#applying the sigmoid function\n",
    "y_test_predict_rounded = np.where(y_test_predict_functional >= 0.5, 1, 0)\n"
   ]
  },
  {
   "cell_type": "markdown",
   "metadata": {},
   "source": [
    "13. Model Evaluation for Train, Val & Test\n",
    "- The accuracy scores for test and val are not far, but for the train is too low. The difference is 0.2/20%. This means our model still underfit.\n",
    "- Furthermore, since the target dataset is imbalance we can't solely see the accuracy. We need to see other scores like F1-score, recall or precition.\n",
    "- Our objective is to detect the churn customer of Telco, so we need to minimize False Negative. Which means we need to see the Recall score.\n",
    "- For all data train, val & test have lower recall score for class 1 (Yes). This is reasonable since the data imbalance. The class 0 is bigger than class 1, so the model work better for class 0. \n",
    "- If we see the recall score, for the test and validation, they almost have the similar score. But for the train, the difference is quite far. Which means our model still under-fit."
   ]
  },
  {
   "cell_type": "code",
   "execution_count": 48,
   "metadata": {},
   "outputs": [
    {
     "name": "stdout",
     "output_type": "stream",
     "text": [
      "========== Classification Report test ==========\n",
      "Functional Model \n",
      "               precision    recall  f1-score   support\n",
      "\n",
      "           0       0.84      0.90      0.87      1033\n",
      "           1       0.65      0.53      0.59       374\n",
      "\n",
      "    accuracy                           0.80      1407\n",
      "   macro avg       0.75      0.72      0.73      1407\n",
      "weighted avg       0.79      0.80      0.79      1407\n",
      "\n"
     ]
    }
   ],
   "source": [
    "print('='*10, 'Classification Report test','='*10)\n",
    "print('Functional Model \\n', classification_report(y_test, y_test_predict_rounded))"
   ]
  },
  {
   "cell_type": "code",
   "execution_count": 49,
   "metadata": {},
   "outputs": [
    {
     "name": "stdout",
     "output_type": "stream",
     "text": [
      "========== Classification Report train ==========\n",
      "Functional Model \n",
      "               precision    recall  f1-score   support\n",
      "\n",
      "           0       0.73      0.77      0.75      3303\n",
      "           1       0.26      0.22      0.24      1196\n",
      "\n",
      "    accuracy                           0.63      4499\n",
      "   macro avg       0.50      0.50      0.50      4499\n",
      "weighted avg       0.61      0.63      0.62      4499\n",
      "\n"
     ]
    }
   ],
   "source": [
    "print('='*10, 'Classification Report train','='*10)\n",
    "print('Functional Model \\n', classification_report(y_train, y_train_predict_rounded))"
   ]
  },
  {
   "cell_type": "code",
   "execution_count": 50,
   "metadata": {},
   "outputs": [
    {
     "name": "stdout",
     "output_type": "stream",
     "text": [
      "========== Classification Report val ==========\n",
      "Functional Model \n",
      "               precision    recall  f1-score   support\n",
      "\n",
      "           0       0.85      0.92      0.88       826\n",
      "           1       0.70      0.55      0.61       299\n",
      "\n",
      "    accuracy                           0.82      1125\n",
      "   macro avg       0.78      0.73      0.75      1125\n",
      "weighted avg       0.81      0.82      0.81      1125\n",
      "\n"
     ]
    }
   ],
   "source": [
    "print('='*10, 'Classification Report val','='*10)\n",
    "print('Functional Model \\n', classification_report(y_val, y_val_predict_rounded))"
   ]
  },
  {
   "cell_type": "markdown",
   "metadata": {},
   "source": [
    "____"
   ]
  },
  {
   "cell_type": "markdown",
   "metadata": {},
   "source": [
    "# 14. DATA INFERENCE"
   ]
  },
  {
   "cell_type": "markdown",
   "metadata": {},
   "source": [
    "14.1 Pre-processing for data inference"
   ]
  },
  {
   "cell_type": "code",
   "execution_count": 27,
   "metadata": {},
   "outputs": [
    {
     "data": {
      "text/html": [
       "<div>\n",
       "<style scoped>\n",
       "    .dataframe tbody tr th:only-of-type {\n",
       "        vertical-align: middle;\n",
       "    }\n",
       "\n",
       "    .dataframe tbody tr th {\n",
       "        vertical-align: top;\n",
       "    }\n",
       "\n",
       "    .dataframe thead th {\n",
       "        text-align: right;\n",
       "    }\n",
       "</style>\n",
       "<table border=\"1\" class=\"dataframe\">\n",
       "  <thead>\n",
       "    <tr style=\"text-align: right;\">\n",
       "      <th></th>\n",
       "      <th>0</th>\n",
       "      <th>1</th>\n",
       "      <th>2</th>\n",
       "      <th>3</th>\n",
       "      <th>4</th>\n",
       "      <th>5</th>\n",
       "      <th>6</th>\n",
       "      <th>7</th>\n",
       "      <th>8</th>\n",
       "      <th>9</th>\n",
       "      <th>10</th>\n",
       "      <th>11</th>\n",
       "      <th>12</th>\n",
       "      <th>13</th>\n",
       "      <th>14</th>\n",
       "      <th>15</th>\n",
       "      <th>16</th>\n",
       "      <th>17</th>\n",
       "      <th>18</th>\n",
       "      <th>19</th>\n",
       "    </tr>\n",
       "  </thead>\n",
       "  <tbody>\n",
       "    <tr>\n",
       "      <th>0</th>\n",
       "      <td>0.0</td>\n",
       "      <td>1.0</td>\n",
       "      <td>0.0</td>\n",
       "      <td>0.0</td>\n",
       "      <td>0.056338</td>\n",
       "      <td>0.013944</td>\n",
       "      <td>0.008447</td>\n",
       "      <td>0.0</td>\n",
       "      <td>0.0</td>\n",
       "      <td>1.0</td>\n",
       "      <td>0.0</td>\n",
       "      <td>2.0</td>\n",
       "      <td>1.0</td>\n",
       "      <td>1.0</td>\n",
       "      <td>1.0</td>\n",
       "      <td>1.0</td>\n",
       "      <td>1.0</td>\n",
       "      <td>1.0</td>\n",
       "      <td>0.0</td>\n",
       "      <td>1.0</td>\n",
       "    </tr>\n",
       "  </tbody>\n",
       "</table>\n",
       "</div>"
      ],
      "text/plain": [
       "    0    1    2    3         4         5         6    7    8    9    10   11  \\\n",
       "0  0.0  1.0  0.0  0.0  0.056338  0.013944  0.008447  0.0  0.0  1.0  0.0  2.0   \n",
       "\n",
       "    12   13   14   15   16   17   18   19  \n",
       "0  1.0  1.0  1.0  1.0  1.0  1.0  0.0  1.0  "
      ]
     },
     "execution_count": 27,
     "metadata": {},
     "output_type": "execute_result"
    }
   ],
   "source": [
    "#reassign the columns\n",
    "inf_pipe_nominal = data_inf[['PaymentMethod']]\n",
    "inf_pipe_number = data_inf[['tenure', 'MonthlyCharges', 'TotalCharges']]\n",
    "inf_pipe_ordinal = data_inf[['Partner', 'Dependents', 'PhoneService', 'MultipleLines', 'InternetService', 'OnlineSecurity', 'OnlineBackup', 'DeviceProtection', 'TechSupport', 'StreamingTV', 'StreamingMovies', 'Contract', 'PaperlessBilling']]\n",
    "\n",
    "#concatting the final X train for pipe line\n",
    "X_inf_pipe_final = pd.concat([inf_pipe_nominal,inf_pipe_number,inf_pipe_ordinal], axis=1)\n",
    "y_inf = data_inf['Churn'].replace({'No':0, 'Yes':1})\n",
    "\n",
    "#transforming the X_inference and assign it to dataframe\n",
    "inf_transform_X_train = pipe.transform(X_inf_pipe_final)\n",
    "X_inf_final = pd.DataFrame(inf_transform_X_train)\n",
    "X_inf_final.head()\n",
    "\n"
   ]
  },
  {
   "cell_type": "markdown",
   "metadata": {},
   "source": [
    "14.2 Predicting the y_inference\n",
    "- Here we try predict the target for data inference.\n",
    "- The predicted class is 0. The actual class is 0.\n",
    "- This means that our model can predict with the right probability for data inference.\n",
    "- This is may be caused by our model work fine with class 0, so the model can predict with right prediction for data inference."
   ]
  },
  {
   "cell_type": "code",
   "execution_count": 28,
   "metadata": {},
   "outputs": [
    {
     "name": "stdout",
     "output_type": "stream",
     "text": [
      "1/1 [==============================] - 0s 78ms/step\n",
      "The prediction for data inference is 0\n",
      "The actual target of inference is 3207    0\n",
      "Name: Churn, dtype: int64\n"
     ]
    }
   ],
   "source": [
    "#predict X_test with our best functional model\n",
    "y_inf_predict = model_functional_2.predict(X_inf_final)\n",
    "\n",
    "#applying the sigmoid function\n",
    "y_inf_predict = np.where(y_inf_predict >= 0.5, 1, 0)\n",
    "\n",
    "\n",
    "print('The prediction for data inference is', y_inf_predict[0][0])\n",
    "print('The actual target of inference is', y_inf)"
   ]
  },
  {
   "cell_type": "markdown",
   "metadata": {},
   "source": [
    "_____"
   ]
  },
  {
   "cell_type": "markdown",
   "metadata": {},
   "source": [
    "# 15. OVERALL ANALYSIS & CONCLUSION"
   ]
  },
  {
   "cell_type": "markdown",
   "metadata": {},
   "source": [
    "- We can use deep learning model to solve problem.\n",
    "- In this project, we use two kinds of models they are : (1) Sequential & (2) Functional\n",
    "- The Sequential model works in sequence, on other hand functional can take non-sequence input, so we need to assign layer name one by one.\n",
    "- There are many aspects that may affect our model, namely : changing neuron quantity, changing layers quantity, changing optmizer & activation function.\n",
    "- We can see how our model perform by plotting the history fitting from our model.\n",
    "- It's also possible for us to save our best model with check point method in tensorflow.\n",
    "- The balance/imbalance target in dataset also affects our model performance. The model will work better for the target that has more quantity other than with the less quantity.\n",
    "- Like in this project, the model works better for class 0 and less for class 1 since the quantity target for class 1 is much lower."
   ]
  }
 ],
 "metadata": {
  "kernelspec": {
   "display_name": "Python 3.10.4 ('test_env')",
   "language": "python",
   "name": "python3"
  },
  "language_info": {
   "codemirror_mode": {
    "name": "ipython",
    "version": 3
   },
   "file_extension": ".py",
   "mimetype": "text/x-python",
   "name": "python",
   "nbconvert_exporter": "python",
   "pygments_lexer": "ipython3",
   "version": "3.10.4"
  },
  "orig_nbformat": 4,
  "vscode": {
   "interpreter": {
    "hash": "4a9b5cea0784dd84a54eb32a9034ea0f7d299d9a522482e4c348f8e08377d626"
   }
  }
 },
 "nbformat": 4,
 "nbformat_minor": 2
}
